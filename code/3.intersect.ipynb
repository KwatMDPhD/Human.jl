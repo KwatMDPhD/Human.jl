{
 "cells": [
  {
   "cell_type": "code",
   "execution_count": null,
   "id": "f468ff1c-181d-4f4f-9189-b26dbbd3faa2",
   "metadata": {
    "execution": {
     "iopub.execute_input": "2022-02-10T01:05:49.981629Z",
     "iopub.status.busy": "2022-02-10T01:05:49.597632Z",
     "iopub.status.idle": "2022-02-10T01:06:01.556745Z",
     "shell.execute_reply": "2022-02-10T01:06:01.555857Z"
    }
   },
   "outputs": [],
   "source": [
    "include(\"_.jl\")"
   ]
  },
  {
   "cell_type": "code",
   "execution_count": null,
   "id": "d2d02818",
   "metadata": {
    "execution": {
     "iopub.execute_input": "2022-02-10T01:06:03.010823Z",
     "iopub.status.busy": "2022-02-10T01:06:01.558188Z",
     "iopub.status.idle": "2022-02-10T01:06:24.130781Z",
     "shell.execute_reply": "2022-02-10T01:06:24.130366Z"
    }
   },
   "outputs": [],
   "source": [
    "an_hu_me = OnePiece.io.table.read(joinpath(PAO, \"human_gene_by_method.tsv\"))\n",
    "\n",
    "hu_ = an_hu_me[!, \"Gene\"]"
   ]
  },
  {
   "cell_type": "code",
   "execution_count": null,
   "id": "c62f2c4d",
   "metadata": {
    "execution": {
     "iopub.execute_input": "2022-02-10T01:06:24.132704Z",
     "iopub.status.busy": "2022-02-10T01:06:24.132180Z",
     "iopub.status.idle": "2022-02-10T01:06:28.338291Z",
     "shell.execute_reply": "2022-02-10T01:06:28.337788Z"
    }
   },
   "outputs": [],
   "source": [
    "hg = OnePiece.gene.read_hgnc()\n",
    "\n",
    "hg_gr = OnePiece.extension.dataframe.map_to_column(coalesce.(hg, \"?\"), [\"symbol\", \"gene_group\"])\n",
    "\n",
    ";"
   ]
  },
  {
   "cell_type": "code",
   "execution_count": null,
   "id": "801979b8",
   "metadata": {
    "execution": {
     "iopub.execute_input": "2022-02-10T01:06:28.340293Z",
     "iopub.status.busy": "2022-02-10T01:06:28.339681Z",
     "iopub.status.idle": "2022-02-10T01:06:28.410485Z",
     "shell.execute_reply": "2022-02-10T01:06:28.410132Z"
    }
   },
   "outputs": [],
   "source": [
    "pa1 = \"set1_to_genes.json\"\n",
    "\n",
    "pa2 = \"set2_to_genes.json\"\n",
    "\n",
    "na1 = \"Human Immune Population\"\n",
    "\n",
    "na2 = \"Brain Cell Type\"\n",
    "\n",
    "na1c = OnePiece.extension.path.clean(na1)\n",
    "\n",
    "na2c = OnePiece.extension.path.clean(na2)\n",
    "\n",
    "se1_ge_ = OnePiece.extension.dict.read(joinpath(PAI, pa1))\n",
    "\n",
    "se2_ge_ = OnePiece.extension.dict.read(joinpath(PAI, pa2))\n",
    "\n",
    "ge1_ = vcat(values(se1_ge_)...)\n",
    "\n",
    "ge2_ = vcat(values(se2_ge_)...)\n",
    "\n",
    "println(length(ge1_))\n",
    "\n",
    "println(length(ge2_))"
   ]
  },
  {
   "cell_type": "code",
   "execution_count": null,
   "id": "712c7a6e",
   "metadata": {
    "execution": {
     "iopub.execute_input": "2022-02-10T01:06:28.412453Z",
     "iopub.status.busy": "2022-02-10T01:06:28.411793Z",
     "iopub.status.idle": "2022-02-10T01:06:28.629146Z",
     "shell.execute_reply": "2022-02-10T01:06:28.628716Z"
    }
   },
   "outputs": [],
   "source": [
    "na = na1\n",
    "\n",
    "nac = na1c\n",
    "\n",
    "se_ge_ = se1_ge_\n",
    "\n",
    "ge_ = ge1_\n",
    "\n",
    "length(ge_)"
   ]
  },
  {
   "cell_type": "code",
   "execution_count": null,
   "id": "8feed0d0",
   "metadata": {
    "execution": {
     "iopub.execute_input": "2022-02-10T01:06:28.630823Z",
     "iopub.status.busy": "2022-02-10T01:06:28.630331Z",
     "iopub.status.idle": "2022-02-10T01:06:28.874561Z",
     "shell.execute_reply": "2022-02-10T01:06:28.874172Z"
    }
   },
   "outputs": [],
   "source": [
    "na = string(na1, \" and \", na2)\n",
    "\n",
    "nac = OnePiece.extension.path.clean(na)\n",
    "\n",
    "se_ge_ = sort(merge(se1_ge_, se2_ge_))\n",
    "\n",
    "ge_ = vcat(values(se_ge_)...)\n",
    "\n",
    "length(ge_)"
   ]
  },
  {
   "cell_type": "code",
   "execution_count": null,
   "id": "84429106-6210-40fc-b479-205474ec4e6d",
   "metadata": {
    "execution": {
     "iopub.execute_input": "2022-02-10T01:06:28.876449Z",
     "iopub.status.busy": "2022-02-10T01:06:28.875873Z",
     "iopub.status.idle": "2022-02-10T01:06:29.048322Z",
     "shell.execute_reply": "2022-02-10T01:06:29.047936Z"
    }
   },
   "outputs": [],
   "source": [
    "co_ = intersect(hu_, ge_)"
   ]
  },
  {
   "cell_type": "code",
   "execution_count": null,
   "id": "1ec85bcf",
   "metadata": {
    "execution": {
     "iopub.execute_input": "2022-02-10T01:06:29.050058Z",
     "iopub.status.busy": "2022-02-10T01:06:29.049550Z",
     "iopub.status.idle": "2022-02-10T01:06:29.775410Z",
     "shell.execute_reply": "2022-02-10T01:06:29.775029Z"
    }
   },
   "outputs": [],
   "source": [
    "se_ = [join([se for (se, ge_) in se_ge_ if co in ge_], \" & \") for co in co_]"
   ]
  },
  {
   "cell_type": "code",
   "execution_count": null,
   "id": "9c4f2a93",
   "metadata": {
    "execution": {
     "iopub.execute_input": "2022-02-10T01:06:29.777280Z",
     "iopub.status.busy": "2022-02-10T01:06:29.776788Z",
     "iopub.status.idle": "2022-02-10T01:06:30.419670Z",
     "shell.execute_reply": "2022-02-10T01:06:30.419291Z"
    }
   },
   "outputs": [],
   "source": [
    "gr_ = []\n",
    "\n",
    "for co in co_\n",
    "\n",
    "    if haskey(hg_gr, co)\n",
    "\n",
    "        gr = hg_gr[co]\n",
    "\n",
    "    else\n",
    "\n",
    "        println(co)\n",
    "\n",
    "        gr = \"??\"\n",
    "\n",
    "    end\n",
    "\n",
    "    push!(gr_, gr)\n",
    "\n",
    "end\n",
    "\n",
    "gr_"
   ]
  },
  {
   "cell_type": "code",
   "execution_count": null,
   "id": "fba34aba",
   "metadata": {
    "execution": {
     "iopub.execute_input": "2022-02-10T01:06:30.421460Z",
     "iopub.status.busy": "2022-02-10T01:06:30.420931Z",
     "iopub.status.idle": "2022-02-10T01:06:34.813282Z",
     "shell.execute_reply": "2022-02-10T01:06:34.812897Z"
    }
   },
   "outputs": [],
   "source": [
    "an_ge_ir = sort(DataFrame(\"Gene\" => co_, na => se_, \"Group\" => gr_), na)\n",
    "\n",
    "se_ = contains.(an_ge_ir[!, na], \"&\")\n",
    "\n",
    "if any(se_)\n",
    "\n",
    "    println(\"Selecting genes found in both sets\")\n",
    "\n",
    "    an_ge_ir = an_ge_ir[se_, :]\n",
    "\n",
    "end\n",
    "\n",
    "OnePiece.io.table.write(joinpath(PAO, string(nac, \"_gene_by_information.tsv\")), an_ge_ir)\n",
    "\n",
    "an_ge_ir"
   ]
  },
  {
   "cell_type": "markdown",
   "id": "14b69727",
   "metadata": {},
   "source": [
    "## Plot"
   ]
  },
  {
   "cell_type": "code",
   "execution_count": null,
   "id": "c67db06a",
   "metadata": {
    "execution": {
     "iopub.execute_input": "2022-02-10T01:06:34.815155Z",
     "iopub.status.busy": "2022-02-10T01:06:34.814652Z",
     "iopub.status.idle": "2022-02-10T01:06:36.949389Z",
     "shell.execute_reply": "2022-02-10T01:06:36.949014Z"
    }
   },
   "outputs": [],
   "source": [
    "he = 1600\n",
    "\n",
    "wi = round(Int, he * MathConstants.golden)\n",
    "\n",
    "axis_title_font_size = 24\n",
    "\n",
    "la = Layout(\n",
    "    barmode = \"stack\",\n",
    "    height = he,\n",
    "    width = wi,\n",
    "    margin_b = 240,\n",
    "    title = attr(text = string(\"Number of Human Genes in \", na, \"s\"), font_size = 32),\n",
    "    yaxis_title = attr(text = \"Number of Human Genes\", font_size = axis_title_font_size),\n",
    "    xaxis = attr(title = attr(text = na, font_size = axis_title_font_size), tickangle = 60),\n",
    ")\n",
    "\n",
    ";"
   ]
  },
  {
   "cell_type": "code",
   "execution_count": null,
   "id": "ff192432",
   "metadata": {
    "execution": {
     "iopub.execute_input": "2022-02-10T01:06:36.951648Z",
     "iopub.status.busy": "2022-02-10T01:06:36.951097Z",
     "iopub.status.idle": "2022-02-10T01:06:37.595643Z",
     "shell.execute_reply": "2022-02-10T01:06:37.595142Z"
    }
   },
   "outputs": [],
   "source": [
    "se_n = sort(countmap(an_ge_ir[!, na]); byvalue = true)"
   ]
  },
  {
   "cell_type": "code",
   "execution_count": null,
   "id": "c7304166",
   "metadata": {
    "execution": {
     "iopub.execute_input": "2022-02-10T01:06:37.597618Z",
     "iopub.status.busy": "2022-02-10T01:06:37.597081Z",
     "iopub.status.idle": "2022-02-10T01:06:45.225366Z",
     "shell.execute_reply": "2022-02-10T01:06:45.224920Z"
    }
   },
   "outputs": [],
   "source": [
    "x = collect(keys(se_n))\n",
    "\n",
    "y = collect(values(se_n))\n",
    "\n",
    "pl = OnePiece.figure.plot_bar([y], [x], la = la)\n",
    "\n",
    "display(pl)\n",
    "\n",
    "OnePiece.figure.write(joinpath(PAO, string(nac, \"_genes.png\")), pl, he, wi, 8)"
   ]
  },
  {
   "cell_type": "code",
   "execution_count": null,
   "id": "7e31cb42",
   "metadata": {
    "execution": {
     "iopub.execute_input": "2022-02-10T01:06:45.227339Z",
     "iopub.status.busy": "2022-02-10T01:06:45.226790Z",
     "iopub.status.idle": "2022-02-10T01:06:45.411029Z",
     "shell.execute_reply": "2022-02-10T01:06:45.410591Z"
    },
    "scrolled": false
   },
   "outputs": [],
   "source": [
    "name_ = []\n",
    "\n",
    "y_ = []\n",
    "\n",
    "id = 1\n",
    "\n",
    "for gr in unique(an_ge_ir[!, \"Group\"])\n",
    "\n",
    "    if gr in [\"?\", \"??\"]\n",
    "\n",
    "        #continue\n",
    "\n",
    "    end\n",
    "\n",
    "    #gr = split(gr, \"|\")[id]\n",
    "\n",
    "    #println(gr)\n",
    "\n",
    "    push!(name_, gr)\n",
    "\n",
    "    n_be_ = []\n",
    "\n",
    "    for se in x\n",
    "\n",
    "        da = an_ge_ir[an_ge_ir[!, na] .== se, :]\n",
    "\n",
    "        gr_ = da[!, \"Group\"]\n",
    "\n",
    "        #gr_ = getindex.(split.(gr, \"|\"), id)\n",
    "\n",
    "        n_be = sum(gr_ .== gr)\n",
    "\n",
    "        if 0 < n_be\n",
    "\n",
    "            #println(\"-\"^99)\n",
    "            #\n",
    "            #println(da)\n",
    "            #\n",
    "            #println(n_be)\n",
    "            #\n",
    "            #println()\n",
    "\n",
    "        end\n",
    "\n",
    "        push!(n_be_, n_be)\n",
    "\n",
    "    end\n",
    "\n",
    "    push!(y_, n_be_)\n",
    "\n",
    "end"
   ]
  },
  {
   "cell_type": "code",
   "execution_count": null,
   "id": "b892f821",
   "metadata": {
    "execution": {
     "iopub.execute_input": "2022-02-10T01:06:45.413025Z",
     "iopub.status.busy": "2022-02-10T01:06:45.412511Z",
     "iopub.status.idle": "2022-02-10T01:06:48.553130Z",
     "shell.execute_reply": "2022-02-10T01:06:48.552671Z"
    },
    "scrolled": false
   },
   "outputs": [],
   "source": [
    "pl = OnePiece.figure.plot_bar(y_, fill(x, length(y_)); name_ = name_, la = la)\n",
    "\n",
    "display(pl)\n",
    "\n",
    "OnePiece.figure.write(joinpath(PAO, string(nac, \"_genes_by_group.png\")), pl, he, wi, 8)"
   ]
  }
 ],
 "metadata": {
  "@webio": {
   "lastCommId": "030f425028e6446bab305bf19c0ae33e",
   "lastKernelId": "b130a633-ef08-4471-bf39-f06599db79bd"
  },
  "kernelspec": {
   "display_name": "Julia 1.7.2",
   "language": "julia",
   "name": "julia-1.7"
  },
  "language_info": {
   "file_extension": ".jl",
   "mimetype": "application/julia",
   "name": "julia",
   "version": "1.7.2"
  }
 },
 "nbformat": 4,
 "nbformat_minor": 5
}
