{
 "cells": [
  {
   "cell_type": "code",
   "execution_count": null,
   "id": "f468ff1c-181d-4f4f-9189-b26dbbd3faa2",
   "metadata": {
    "execution": {
     "iopub.execute_input": "2021-12-07T23:44:41.868028Z",
     "iopub.status.busy": "2021-12-07T23:44:41.300506Z",
     "iopub.status.idle": "2021-12-07T23:44:59.498781Z",
     "shell.execute_reply": "2021-12-07T23:44:59.498016Z"
    }
   },
   "outputs": [],
   "source": [
    "include(\"_.jl\")"
   ]
  },
  {
   "cell_type": "code",
   "execution_count": null,
   "id": "830455ee-2650-4fd8-bd7f-a65789db6f7c",
   "metadata": {
    "execution": {
     "iopub.execute_input": "2021-12-07T23:45:01.111175Z",
     "iopub.status.busy": "2021-12-07T23:44:59.500562Z",
     "iopub.status.idle": "2021-12-07T23:45:02.457323Z",
     "shell.execute_reply": "2021-12-07T23:45:02.456451Z"
    }
   },
   "outputs": [],
   "source": [
    "me_ge_ = OrderedDict{String,Vector{String}}()\n",
    "\n",
    ";"
   ]
  },
  {
   "cell_type": "code",
   "execution_count": null,
   "id": "be4f9979",
   "metadata": {
    "execution": {
     "iopub.execute_input": "2021-12-07T23:45:02.459918Z",
     "iopub.status.busy": "2021-12-07T23:45:02.459077Z",
     "iopub.status.idle": "2021-12-07T23:45:38.187957Z",
     "shell.execute_reply": "2021-12-07T23:45:38.187401Z"
    }
   },
   "outputs": [],
   "source": [
    "en = Gene.read_ensembl(; or = \"mouse\")\n",
    "\n",
    "pr_ = unique(skipmissing(en[en[!, \"Gene type\"].==\"protein_coding\", \"Gene name\"]))\n",
    "\n",
    "pr_ = sort(string.(pr_))"
   ]
  },
  {
   "cell_type": "markdown",
   "id": "20d22756",
   "metadata": {},
   "source": [
    "## Ensembl"
   ]
  },
  {
   "cell_type": "code",
   "execution_count": null,
   "id": "736fe7f5",
   "metadata": {
    "execution": {
     "iopub.execute_input": "2021-12-07T23:45:38.189949Z",
     "iopub.status.busy": "2021-12-07T23:45:38.189325Z",
     "iopub.status.idle": "2021-12-07T23:45:53.920250Z",
     "shell.execute_reply": "2021-12-07T23:45:53.919769Z"
    }
   },
   "outputs": [],
   "source": [
    "mo_hu = Gene.map_mouse()\n",
    "\n",
    "me_ge_[\"Ensembl\"] = [pr for pr in pr_ if !haskey(mo_hu, pr)]"
   ]
  },
  {
   "cell_type": "markdown",
   "id": "7629b1e5",
   "metadata": {},
   "source": [
    "## Mouse Genome Informatics"
   ]
  },
  {
   "cell_type": "code",
   "execution_count": null,
   "id": "25ab4531",
   "metadata": {
    "execution": {
     "iopub.execute_input": "2021-12-07T23:45:53.922662Z",
     "iopub.status.busy": "2021-12-07T23:45:53.921878Z",
     "iopub.status.idle": "2021-12-07T23:46:15.016077Z",
     "shell.execute_reply": "2021-12-07T23:46:15.015611Z"
    }
   },
   "outputs": [],
   "source": [
    "mg = TableAccess.read(joinpath(PAI, \"hom_mousehumansequence.rpt.txt.gz\"))\n",
    "\n",
    "se_ = mg[!, \"Common Organism Name\"] .== \"human\"\n",
    "\n",
    "mg[se_, \"Symbol\"] .= Gene.rename(string.(mg[se_, \"Symbol\"]))[1]\n",
    "\n",
    "mo_hu = Dict{String,String}()\n",
    "\n",
    "for da in groupby(mg, \"DB Class Key\")\n",
    "\n",
    "    sy_ = da[!, \"Symbol\"]\n",
    "\n",
    "    se_ = da[!, \"Common Organism Name\"] .== \"mouse, laboratory\"\n",
    "\n",
    "    for mo in sy_[se_], hu in sy_[.!se_]\n",
    "\n",
    "        mo_hu[mo] = hu\n",
    "\n",
    "    end\n",
    "\n",
    "end\n",
    "\n",
    "println(length(mo_hu))\n",
    "\n",
    "me_ge_[\"MGI\"] = [pr for pr in pr_ if !haskey(mo_hu, pr)]"
   ]
  },
  {
   "cell_type": "markdown",
   "id": "92d4271d",
   "metadata": {},
   "source": [
    "## Write"
   ]
  },
  {
   "cell_type": "code",
   "execution_count": null,
   "id": "27fce6e1",
   "metadata": {
    "execution": {
     "iopub.execute_input": "2021-12-07T23:46:15.018149Z",
     "iopub.status.busy": "2021-12-07T23:46:15.017560Z",
     "iopub.status.idle": "2021-12-07T23:46:22.008878Z",
     "shell.execute_reply": "2021-12-07T23:46:22.008399Z"
    }
   },
   "outputs": [],
   "source": [
    "write_gene_by_method(PAO, \"mouse\", me_ge_)"
   ]
  }
 ],
 "metadata": {
  "@webio": {
   "lastCommId": "19607c34c766452c960cf9699e454e0f",
   "lastKernelId": "17bfcb0f-ae1a-4c92-aebe-a98ccef60491"
  },
  "kernelspec": {
   "display_name": "Julia 1.7.0",
   "language": "julia",
   "name": "julia-1.7"
  },
  "language_info": {
   "file_extension": ".jl",
   "mimetype": "application/julia",
   "name": "julia",
   "version": "1.7.0"
  }
 },
 "nbformat": 4,
 "nbformat_minor": 5
}
