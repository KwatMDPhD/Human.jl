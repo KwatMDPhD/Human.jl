{
 "cells": [
  {
   "cell_type": "code",
   "execution_count": null,
   "id": "353094cf",
   "metadata": {
    "execution": {
     "iopub.execute_input": "2022-02-10T01:07:03.040261Z",
     "iopub.status.busy": "2022-02-10T01:07:02.647633Z",
     "iopub.status.idle": "2022-02-10T01:07:14.688183Z",
     "shell.execute_reply": "2022-02-10T01:07:14.687609Z"
    }
   },
   "outputs": [],
   "source": [
    "include(\"_.jl\")"
   ]
  },
  {
   "cell_type": "code",
   "execution_count": null,
   "id": "1bad5a42",
   "metadata": {
    "execution": {
     "iopub.execute_input": "2022-02-10T01:07:16.169620Z",
     "iopub.status.busy": "2022-02-10T01:07:14.689498Z",
     "iopub.status.idle": "2022-02-10T01:07:42.456795Z",
     "shell.execute_reply": "2022-02-10T01:07:42.456345Z"
    }
   },
   "outputs": [],
   "source": [
    "hg = OnePiece.gene.read_hgnc()"
   ]
  },
  {
   "cell_type": "code",
   "execution_count": null,
   "id": "72776225",
   "metadata": {
    "execution": {
     "iopub.execute_input": "2022-02-10T01:07:42.458748Z",
     "iopub.status.busy": "2022-02-10T01:07:42.458166Z",
     "iopub.status.idle": "2022-02-10T01:07:42.591354Z",
     "shell.execute_reply": "2022-02-10T01:07:42.590737Z"
    }
   },
   "outputs": [],
   "source": [
    "pa = \"killer cell immunoglobulin like receptors\"\n",
    "\n",
    "ge_ = []\n",
    "\n",
    "for ro in eachrow(hg)\n",
    "\n",
    "    gr = ro[\"gene_group\"]\n",
    "\n",
    "    if ismissing(gr)\n",
    "\n",
    "        continue\n",
    "\n",
    "    end\n",
    "\n",
    "    if occursin(pa, lowercase(gr))\n",
    "\n",
    "        push!(ge_, ro[\"symbol\"])\n",
    "\n",
    "    end\n",
    "\n",
    "end\n",
    "\n",
    "println(length(ge_), \" genes whose group name contains \\\"\", pa, \"\\\"\")\n",
    "\n",
    "println(join(ge_, \"\\n\"))"
   ]
  },
  {
   "cell_type": "code",
   "execution_count": null,
   "id": "adfc057f",
   "metadata": {
    "execution": {
     "iopub.execute_input": "2022-02-10T01:07:42.593346Z",
     "iopub.status.busy": "2022-02-10T01:07:42.592835Z",
     "iopub.status.idle": "2022-02-10T01:07:42.609359Z",
     "shell.execute_reply": "2022-02-10T01:07:42.609016Z"
    }
   },
   "outputs": [],
   "source": [
    "se = \"NK\"\n",
    "\n",
    "ge2_ = OnePiece.extension.dict.read(\n",
    "    \"../../get_immune_population.pro/output/population_to_genes.json\",\n",
    ")[se]\n",
    "\n",
    "println(length(ge2_), \" genes from \", se, \" gene set\")\n",
    "\n",
    "println(join(ge2_, \"\\n\"))"
   ]
  },
  {
   "cell_type": "code",
   "execution_count": null,
   "id": "b3d7bc9f",
   "metadata": {
    "execution": {
     "iopub.execute_input": "2022-02-10T01:07:42.611343Z",
     "iopub.status.busy": "2022-02-10T01:07:42.610690Z",
     "iopub.status.idle": "2022-02-10T01:07:43.298276Z",
     "shell.execute_reply": "2022-02-10T01:07:43.297913Z"
    }
   },
   "outputs": [],
   "source": [
    "for pa in [\"human_gene_by_method.tsv\", \"human_immune_population_gene_by_information.tsv\"]\n",
    "\n",
    "    println(\"=\"^99)\n",
    "\n",
    "    println(pa)\n",
    "\n",
    "    an_ge_ir = OnePiece.io.table.read(joinpath(PAO, pa))\n",
    "\n",
    "    println(an_ge_ir[[ge in ge_ for ge in an_ge_ir[!, \"Gene\"]], :])\n",
    "\n",
    "end"
   ]
  }
 ],
 "metadata": {
  "@webio": {
   "lastCommId": null,
   "lastKernelId": null
  },
  "kernelspec": {
   "display_name": "Julia 1.7.2",
   "language": "julia",
   "name": "julia-1.7"
  },
  "language_info": {
   "file_extension": ".jl",
   "mimetype": "application/julia",
   "name": "julia",
   "version": "1.7.2"
  }
 },
 "nbformat": 4,
 "nbformat_minor": 5
}
