{
 "cells": [
  {
   "cell_type": "code",
   "execution_count": null,
   "id": "f468ff1c-181d-4f4f-9189-b26dbbd3faa2",
   "metadata": {
    "execution": {
     "iopub.execute_input": "2021-11-28T10:14:11.939583Z",
     "iopub.status.busy": "2021-11-28T10:14:11.309784Z",
     "iopub.status.idle": "2021-11-28T10:14:18.841916Z",
     "shell.execute_reply": "2021-11-28T10:14:18.841283Z"
    }
   },
   "outputs": [],
   "source": [
    "include(\"_.jl\")"
   ]
  },
  {
   "cell_type": "code",
   "execution_count": null,
   "id": "830455ee-2650-4fd8-bd7f-a65789db6f7c",
   "metadata": {
    "execution": {
     "iopub.execute_input": "2021-11-28T10:14:19.069546Z",
     "iopub.status.busy": "2021-11-28T10:14:18.843215Z",
     "iopub.status.idle": "2021-11-28T10:14:21.173322Z",
     "shell.execute_reply": "2021-11-28T10:14:21.172915Z"
    }
   },
   "outputs": [],
   "source": [
    "me_ge_ = OrderedDict{String,Vector{String}}()"
   ]
  },
  {
   "cell_type": "code",
   "execution_count": null,
   "id": "70721949",
   "metadata": {
    "execution": {
     "iopub.execute_input": "2021-11-28T10:14:21.175219Z",
     "iopub.status.busy": "2021-11-28T10:14:21.174687Z",
     "iopub.status.idle": "2021-11-28T10:14:45.569337Z",
     "shell.execute_reply": "2021-11-28T10:14:45.568889Z"
    }
   },
   "outputs": [],
   "source": [
    "hg = Gene.read_hgnc()\n",
    "\n",
    "PR_ = unique(hg[hg[!, \"locus_group\"].==\"protein-coding gene\", \"symbol\"])\n",
    "\n",
    "println(sum(ismissing.(PR_)))\n",
    "\n",
    "PR_ = sort(string.(PR_))\n",
    "\n",
    "length(PR_)"
   ]
  },
  {
   "cell_type": "markdown",
   "id": "20d22756",
   "metadata": {},
   "source": [
    "## Ensembl"
   ]
  },
  {
   "cell_type": "code",
   "execution_count": null,
   "id": "5fddf7aa",
   "metadata": {
    "execution": {
     "iopub.execute_input": "2021-11-28T10:14:45.571606Z",
     "iopub.status.busy": "2021-11-28T10:14:45.570908Z",
     "iopub.status.idle": "2021-11-28T10:14:58.836393Z",
     "shell.execute_reply": "2021-11-28T10:14:58.835909Z"
    }
   },
   "outputs": [],
   "source": [
    "or = TableAccess.read(joinpath(PAI, \"ensembl\", \"human_to_mouse.tsv.gz\"))\n",
    "\n",
    "hu = \"Gene name\"\n",
    "\n",
    "mo = \"Mouse gene name\"\n",
    "\n",
    "dropmissing!(or, [hu, mo])\n",
    "\n",
    "or[!, hu] = Gene.rename(convert(Vector{String}, or[!, hu]))[1]\n",
    "\n",
    "hu_mo = Dict(ro[hu] => ro[mo] for ro in eachrow(or))\n",
    "\n",
    "println(length(hu_mo))\n",
    "\n",
    "me_ge_[\"Ensembl\"] = [pr for pr in PR_ if !haskey(hu_mo, pr)]"
   ]
  },
  {
   "cell_type": "markdown",
   "id": "7f0a8f10-9c98-4822-8df9-0613bf5f316b",
   "metadata": {},
   "source": [
    "## Mouse Genome Informatics"
   ]
  },
  {
   "cell_type": "code",
   "execution_count": null,
   "id": "3bd0e856",
   "metadata": {
    "execution": {
     "iopub.execute_input": "2021-11-28T10:14:58.838717Z",
     "iopub.status.busy": "2021-11-28T10:14:58.837869Z",
     "iopub.status.idle": "2021-11-28T10:15:08.196174Z",
     "shell.execute_reply": "2021-11-28T10:15:08.195693Z"
    }
   },
   "outputs": [],
   "source": [
    "mg = TableAccess.read(joinpath(PAI, \"HOM_MouseHumanSequence.rpt.txt.gz\"))\n",
    "\n",
    "se_ = mg[!, \"Common Organism Name\"] .== \"human\"\n",
    "\n",
    "mg[se_, \"Symbol\"] .= Gene.rename(string.(mg[se_, \"Symbol\"]))[1]\n",
    "\n",
    ";"
   ]
  },
  {
   "cell_type": "code",
   "execution_count": null,
   "id": "2621f13e",
   "metadata": {
    "execution": {
     "iopub.execute_input": "2021-11-28T10:15:08.198180Z",
     "iopub.status.busy": "2021-11-28T10:15:08.197653Z",
     "iopub.status.idle": "2021-11-28T10:15:09.941393Z",
     "shell.execute_reply": "2021-11-28T10:15:09.940921Z"
    }
   },
   "outputs": [],
   "source": [
    "hu_mo = Dict{String,String}()\n",
    "\n",
    "for da in groupby(mg, \"DB Class Key\")\n",
    "\n",
    "    sy_ = da[!, \"Symbol\"]\n",
    "\n",
    "    se_ = da[!, \"Common Organism Name\"] .== \"human\"\n",
    "\n",
    "    for hu in sy_[se_], mo in sy_[.!se_]\n",
    "\n",
    "        hu_mo[hu] = mo\n",
    "\n",
    "    end\n",
    "\n",
    "end\n",
    "\n",
    "println(length(hu_mo))\n",
    "\n",
    "me_ge_[\"MGI\"] = [pr for pr in PR_ if !haskey(hu_mo, pr)]"
   ]
  },
  {
   "cell_type": "markdown",
   "id": "4fb43872-569f-478a-b2e7-0c87f0b6014b",
   "metadata": {},
   "source": [
    "## 2011 De Novo Origin of Human Protein-Coding Genes"
   ]
  },
  {
   "cell_type": "code",
   "execution_count": null,
   "id": "e24eff30",
   "metadata": {
    "execution": {
     "iopub.execute_input": "2021-11-28T10:15:09.943300Z",
     "iopub.status.busy": "2021-11-28T10:15:09.942678Z",
     "iopub.status.idle": "2021-11-28T10:15:18.474729Z",
     "shell.execute_reply": "2021-11-28T10:15:18.474231Z"
    }
   },
   "outputs": [],
   "source": [
    "tr_ = readlines(joinpath(PAI, \"de_novo_origin_of_human_protein_coding_genes\", \"genes.txt\"))\n",
    "\n",
    "me_ge_[\"2011 paper\"] = Gene.rename(vcat([\"CLLU1\", \"c22orf45\", \"DNAH10OS\"], tr_))[1]"
   ]
  },
  {
   "cell_type": "markdown",
   "id": "d50d66c1-4f64-4a22-b080-ffa781889616",
   "metadata": {},
   "source": [
    "## 2019 Genes with human-specific features are primarily involved with brain, immune and metabolic evolution"
   ]
  },
  {
   "cell_type": "code",
   "execution_count": null,
   "id": "51728d63",
   "metadata": {
    "execution": {
     "iopub.execute_input": "2021-11-28T10:15:18.476817Z",
     "iopub.status.busy": "2021-11-28T10:15:18.476206Z",
     "iopub.status.idle": "2021-11-28T10:15:30.946421Z",
     "shell.execute_reply": "2021-11-28T10:15:30.945841Z"
    }
   },
   "outputs": [],
   "source": [
    "an_ge_ir = TableAccess.read_xlsx(\n",
    "    joinpath(\n",
    "        PAI,\n",
    "        \"genes_with_human_specific_features_are_primarily_involved_with_brain,_immune_and_metabolic_evolution\",\n",
    "        \"12859_2019_2886_MOESM2_ESM.xlsx\",\n",
    "    ),\n",
    "    \"HumanSpecific Genes\",\n",
    ")\n",
    "\n",
    "me_ge_[\"2019 paper\"] = Gene.rename(string.(an_ge_ir[!, \"Gene Name\"]))[1]"
   ]
  },
  {
   "cell_type": "markdown",
   "id": "9a3fbd6e",
   "metadata": {},
   "source": [
    "## Intersect"
   ]
  },
  {
   "cell_type": "code",
   "execution_count": null,
   "id": "2fec507b",
   "metadata": {
    "execution": {
     "iopub.execute_input": "2021-11-28T10:15:30.948471Z",
     "iopub.status.busy": "2021-11-28T10:15:30.947862Z",
     "iopub.status.idle": "2021-11-28T10:15:31.306136Z",
     "shell.execute_reply": "2021-11-28T10:15:31.305705Z"
    },
    "scrolled": false
   },
   "outputs": [],
   "source": [
    "for ((se1, ge1_), (se2, ge2_)) in combinations(collect(me_ge_), 2)\n",
    "\n",
    "    gen_ = intersect(ge1_, ge2_)\n",
    "\n",
    "    n_in = length(gen_)\n",
    "\n",
    "    println(se1, \" \u2229 \", se2, \" (\", n_in, \")\")\n",
    "\n",
    "    for ge in gen_\n",
    "\n",
    "        println(\"- \", ge)\n",
    "    end\n",
    "\n",
    "    println()\n",
    "\n",
    "end"
   ]
  },
  {
   "cell_type": "markdown",
   "id": "92d4271d",
   "metadata": {},
   "source": [
    "## Write"
   ]
  },
  {
   "cell_type": "code",
   "execution_count": null,
   "id": "dc80f128",
   "metadata": {
    "execution": {
     "iopub.execute_input": "2021-11-28T10:15:31.308039Z",
     "iopub.status.busy": "2021-11-28T10:15:31.307435Z",
     "iopub.status.idle": "2021-11-28T10:15:31.585954Z",
     "shell.execute_reply": "2021-11-28T10:15:31.585529Z"
    }
   },
   "outputs": [],
   "source": [
    "DictExtension.write(joinpath(PAO, \"method_to_human_genes.json\"), sort(me_ge_))"
   ]
  },
  {
   "cell_type": "code",
   "execution_count": null,
   "id": "603ae9ea",
   "metadata": {
    "execution": {
     "iopub.execute_input": "2021-11-28T10:15:31.587899Z",
     "iopub.status.busy": "2021-11-28T10:15:31.587316Z",
     "iopub.status.idle": "2021-11-28T10:15:37.533060Z",
     "shell.execute_reply": "2021-11-28T10:15:37.532585Z"
    }
   },
   "outputs": [],
   "source": [
    "ge_ = unique(vcat(values(me_ge_)...))\n",
    "\n",
    "an_ge_me = DataFrame(\"Gene\" => ge_)\n",
    "\n",
    "for (me, se_) in me_ge_\n",
    "\n",
    "    an_ge_me[!, me] = [ge in se_ for ge in ge_]\n",
    "\n",
    "end\n",
    "\n",
    "an_ge_me[!, \"Sum\"] = vec(sum(Matrix(an_ge_me[!, 2:end]); dims = 2))\n",
    "\n",
    "sort!(an_ge_me, \"Sum\"; rev = true)\n",
    "\n",
    "TableAccess.write(joinpath(PAO, \"human_gene_by_method.tsv\"), an_ge_me)\n",
    "\n",
    "an_ge_me"
   ]
  }
 ],
 "metadata": {
  "@webio": {
   "lastCommId": null,
   "lastKernelId": null
  },
  "kernelspec": {
   "display_name": "Julia 1.6.4",
   "language": "julia",
   "name": "julia-1.6"
  },
  "language_info": {
   "file_extension": ".jl",
   "mimetype": "application/julia",
   "name": "julia",
   "version": "1.6.4"
  }
 },
 "nbformat": 4,
 "nbformat_minor": 5
}
