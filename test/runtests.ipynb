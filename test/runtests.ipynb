{
 "cells": [
  {
   "cell_type": "code",
   "execution_count": null,
   "id": "a8384830",
   "metadata": {},
   "outputs": [],
   "source": [
    "TE = joinpath(tempdir(), \"HumanGenes.test\")\n",
    "\n",
    "if isdir(TE)\n",
    "\n",
    "    rm(TE, recursive = true)\n",
    "\n",
    "end\n",
    "\n",
    "mkdir(TE)"
   ]
  },
  {
   "cell_type": "code",
   "execution_count": null,
   "id": "ce40ef9e",
   "metadata": {},
   "outputs": [],
   "source": [
    "#using Revise\n",
    "using HumanGenes"
   ]
  },
  {
   "cell_type": "markdown",
   "id": "3fc8766e",
   "metadata": {},
   "source": [
    "---"
   ]
  },
  {
   "cell_type": "markdown",
   "id": "7568345d",
   "metadata": {},
   "source": [
    "---"
   ]
  },
  {
   "cell_type": "code",
   "execution_count": null,
   "id": "06b4e84d",
   "metadata": {},
   "outputs": [],
   "source": [
    "nb_ = [na for na in readdir() if occursin(r\".ipynb$\", na) && na != \"runtests.ipynb\"]"
   ]
  },
  {
   "cell_type": "code",
   "execution_count": null,
   "id": "f64e27c2",
   "metadata": {},
   "outputs": [],
   "source": [
    "if all(startswith.(nb_, r\"^[0-9]+\\.\"))\n",
    "\n",
    "    sort!(nb_, by = nb -> parse(Int64, split(nb, '.')[1]))\n",
    "\n",
    "end"
   ]
  },
  {
   "cell_type": "code",
   "execution_count": null,
   "id": "7a544643",
   "metadata": {},
   "outputs": [],
   "source": [
    "for (id, nb) in enumerate(nb_)\n",
    "\n",
    "    if id < 1\n",
    "\n",
    "        continue\n",
    "\n",
    "    end\n",
    "\n",
    "    println(\"Running \", nb, \" (\", id, \")\")\n",
    "\n",
    "    run(\n",
    "        `jupyter-nbconvert --log-level 40 --inplace --execute --ExecutePreprocessor.timeout=-1 --clear-output $nb`,\n",
    "    )\n",
    "\n",
    "end"
   ]
  }
 ],
 "metadata": {
  "@webio": {
   "lastCommId": null,
   "lastKernelId": null
  },
  "kernelspec": {
   "display_name": "Julia 1.7.3",
   "language": "julia",
   "name": "julia-1.7"
  },
  "language_info": {
   "file_extension": ".jl",
   "mimetype": "application/julia",
   "name": "julia",
   "version": "1.7.3"
  }
 },
 "nbformat": 4,
 "nbformat_minor": 5
}
