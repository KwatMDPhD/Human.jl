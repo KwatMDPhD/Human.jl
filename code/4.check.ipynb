{
 "cells": [
  {
   "cell_type": "code",
   "execution_count": 6,
   "id": "2ea7e645",
   "metadata": {
    "execution": {
     "iopub.execute_input": "2021-12-07T22:59:12.638483Z",
     "iopub.status.busy": "2021-12-07T22:59:12.162896Z",
     "iopub.status.idle": "2021-12-07T22:59:26.232877Z",
     "shell.execute_reply": "2021-12-07T22:59:26.232207Z"
    }
   },
   "outputs": [
    {
     "data": {
      "text/plain": [
       "(\"..\", \"../input\", \"../code\", \"../output\")"
      ]
     },
     "execution_count": 6,
     "metadata": {},
     "output_type": "execute_result"
    }
   ],
   "source": [
    "include(\"_.jl\")"
   ]
  },
  {
   "cell_type": "code",
   "execution_count": 7,
   "id": "5e737005",
   "metadata": {
    "execution": {
     "iopub.execute_input": "2021-12-07T22:59:12.638483Z",
     "iopub.status.busy": "2021-12-07T22:59:12.162896Z",
     "iopub.status.idle": "2021-12-07T22:59:26.232877Z",
     "shell.execute_reply": "2021-12-07T22:59:26.232207Z"
    }
   },
   "outputs": [
    {
     "data": {
      "text/html": [
       "<div class=\"data-frame\"><p>42,898 rows × 54 columns (omitted printing of 50 columns)</p><table class=\"data-frame\"><thead><tr><th></th><th>hgnc_id</th><th>symbol</th><th>name</th><th>locus_group</th></tr><tr><th></th><th title=\"InlineStrings.String15\">String15</th><th title=\"InlineStrings.String31\">String31</th><th title=\"String\">String</th><th title=\"InlineStrings.String31\">String31</th></tr></thead><tbody><tr><th>1</th><td>HGNC:5</td><td>A1BG</td><td>alpha-1-B glycoprotein</td><td>protein-coding gene</td></tr><tr><th>2</th><td>HGNC:37133</td><td>A1BG-AS1</td><td>A1BG antisense RNA 1</td><td>non-coding RNA</td></tr><tr><th>3</th><td>HGNC:24086</td><td>A1CF</td><td>APOBEC1 complementation factor</td><td>protein-coding gene</td></tr><tr><th>4</th><td>HGNC:7</td><td>A2M</td><td>alpha-2-macroglobulin</td><td>protein-coding gene</td></tr><tr><th>5</th><td>HGNC:27057</td><td>A2M-AS1</td><td>A2M antisense RNA 1</td><td>non-coding RNA</td></tr><tr><th>6</th><td>HGNC:23336</td><td>A2ML1</td><td>alpha-2-macroglobulin like 1</td><td>protein-coding gene</td></tr><tr><th>7</th><td>HGNC:41022</td><td>A2ML1-AS1</td><td>A2ML1 antisense RNA 1</td><td>non-coding RNA</td></tr><tr><th>8</th><td>HGNC:41523</td><td>A2ML1-AS2</td><td>A2ML1 antisense RNA 2</td><td>non-coding RNA</td></tr><tr><th>9</th><td>HGNC:8</td><td>A2MP1</td><td>alpha-2-macroglobulin pseudogene 1</td><td>pseudogene</td></tr><tr><th>10</th><td>HGNC:30005</td><td>A3GALT2</td><td>alpha 1,3-galactosyltransferase 2</td><td>protein-coding gene</td></tr><tr><th>11</th><td>HGNC:18149</td><td>A4GALT</td><td>alpha 1,4-galactosyltransferase (P blood group)</td><td>protein-coding gene</td></tr><tr><th>12</th><td>HGNC:17968</td><td>A4GNT</td><td>alpha-1,4-N-acetylglucosaminyltransferase</td><td>protein-coding gene</td></tr><tr><th>13</th><td>HGNC:13666</td><td>AAAS</td><td>aladin WD repeat nucleoporin</td><td>protein-coding gene</td></tr><tr><th>14</th><td>HGNC:21298</td><td>AACS</td><td>acetoacetyl-CoA synthetase</td><td>protein-coding gene</td></tr><tr><th>15</th><td>HGNC:18226</td><td>AACSP1</td><td>acetoacetyl-CoA synthetase pseudogene 1</td><td>pseudogene</td></tr><tr><th>16</th><td>HGNC:17</td><td>AADAC</td><td>arylacetamide deacetylase</td><td>protein-coding gene</td></tr><tr><th>17</th><td>HGNC:24427</td><td>AADACL2</td><td>arylacetamide deacetylase like 2</td><td>protein-coding gene</td></tr><tr><th>18</th><td>HGNC:50301</td><td>AADACL2-AS1</td><td>AADACL2 antisense RNA 1</td><td>non-coding RNA</td></tr><tr><th>19</th><td>HGNC:32037</td><td>AADACL3</td><td>arylacetamide deacetylase like 3</td><td>protein-coding gene</td></tr><tr><th>20</th><td>HGNC:32038</td><td>AADACL4</td><td>arylacetamide deacetylase like 4</td><td>protein-coding gene</td></tr><tr><th>21</th><td>HGNC:50305</td><td>AADACP1</td><td>arylacetamide deacetylase pseudogene 1</td><td>pseudogene</td></tr><tr><th>22</th><td>HGNC:17929</td><td>AADAT</td><td>aminoadipate aminotransferase</td><td>protein-coding gene</td></tr><tr><th>23</th><td>HGNC:25662</td><td>AAGAB</td><td>alpha and gamma adaptin binding protein</td><td>protein-coding gene</td></tr><tr><th>24</th><td>HGNC:19679</td><td>AAK1</td><td>AP2 associated kinase 1</td><td>protein-coding gene</td></tr><tr><th>25</th><td>HGNC:30205</td><td>AAMDC</td><td>adipogenesis associated Mth938 domain containing</td><td>protein-coding gene</td></tr><tr><th>26</th><td>HGNC:18</td><td>AAMP</td><td>angio associated migratory cell protein</td><td>protein-coding gene</td></tr><tr><th>27</th><td>HGNC:19</td><td>AANAT</td><td>aralkylamine N-acetyltransferase</td><td>protein-coding gene</td></tr><tr><th>28</th><td>HGNC:15886</td><td>AAR2</td><td>AAR2 splicing factor</td><td>protein-coding gene</td></tr><tr><th>29</th><td>HGNC:33842</td><td>AARD</td><td>alanine and arginine rich domain containing protein</td><td>protein-coding gene</td></tr><tr><th>30</th><td>HGNC:20</td><td>AARS1</td><td>alanyl-tRNA synthetase 1</td><td>protein-coding gene</td></tr><tr><th>&vellip;</th><td>&vellip;</td><td>&vellip;</td><td>&vellip;</td><td>&vellip;</td></tr></tbody></table></div>"
      ],
      "text/latex": [
       "\\begin{tabular}{r|ccccc}\n",
       "\t& hgnc\\_id & symbol & name & locus\\_group & \\\\\n",
       "\t\\hline\n",
       "\t& String15 & String31 & String & String31 & \\\\\n",
       "\t\\hline\n",
       "\t1 & HGNC:5 & A1BG & alpha-1-B glycoprotein & protein-coding gene & $\\dots$ \\\\\n",
       "\t2 & HGNC:37133 & A1BG-AS1 & A1BG antisense RNA 1 & non-coding RNA & $\\dots$ \\\\\n",
       "\t3 & HGNC:24086 & A1CF & APOBEC1 complementation factor & protein-coding gene & $\\dots$ \\\\\n",
       "\t4 & HGNC:7 & A2M & alpha-2-macroglobulin & protein-coding gene & $\\dots$ \\\\\n",
       "\t5 & HGNC:27057 & A2M-AS1 & A2M antisense RNA 1 & non-coding RNA & $\\dots$ \\\\\n",
       "\t6 & HGNC:23336 & A2ML1 & alpha-2-macroglobulin like 1 & protein-coding gene & $\\dots$ \\\\\n",
       "\t7 & HGNC:41022 & A2ML1-AS1 & A2ML1 antisense RNA 1 & non-coding RNA & $\\dots$ \\\\\n",
       "\t8 & HGNC:41523 & A2ML1-AS2 & A2ML1 antisense RNA 2 & non-coding RNA & $\\dots$ \\\\\n",
       "\t9 & HGNC:8 & A2MP1 & alpha-2-macroglobulin pseudogene 1 & pseudogene & $\\dots$ \\\\\n",
       "\t10 & HGNC:30005 & A3GALT2 & alpha 1,3-galactosyltransferase 2 & protein-coding gene & $\\dots$ \\\\\n",
       "\t11 & HGNC:18149 & A4GALT & alpha 1,4-galactosyltransferase (P blood group) & protein-coding gene & $\\dots$ \\\\\n",
       "\t12 & HGNC:17968 & A4GNT & alpha-1,4-N-acetylglucosaminyltransferase & protein-coding gene & $\\dots$ \\\\\n",
       "\t13 & HGNC:13666 & AAAS & aladin WD repeat nucleoporin & protein-coding gene & $\\dots$ \\\\\n",
       "\t14 & HGNC:21298 & AACS & acetoacetyl-CoA synthetase & protein-coding gene & $\\dots$ \\\\\n",
       "\t15 & HGNC:18226 & AACSP1 & acetoacetyl-CoA synthetase pseudogene 1 & pseudogene & $\\dots$ \\\\\n",
       "\t16 & HGNC:17 & AADAC & arylacetamide deacetylase & protein-coding gene & $\\dots$ \\\\\n",
       "\t17 & HGNC:24427 & AADACL2 & arylacetamide deacetylase like 2 & protein-coding gene & $\\dots$ \\\\\n",
       "\t18 & HGNC:50301 & AADACL2-AS1 & AADACL2 antisense RNA 1 & non-coding RNA & $\\dots$ \\\\\n",
       "\t19 & HGNC:32037 & AADACL3 & arylacetamide deacetylase like 3 & protein-coding gene & $\\dots$ \\\\\n",
       "\t20 & HGNC:32038 & AADACL4 & arylacetamide deacetylase like 4 & protein-coding gene & $\\dots$ \\\\\n",
       "\t21 & HGNC:50305 & AADACP1 & arylacetamide deacetylase pseudogene 1 & pseudogene & $\\dots$ \\\\\n",
       "\t22 & HGNC:17929 & AADAT & aminoadipate aminotransferase & protein-coding gene & $\\dots$ \\\\\n",
       "\t23 & HGNC:25662 & AAGAB & alpha and gamma adaptin binding protein & protein-coding gene & $\\dots$ \\\\\n",
       "\t24 & HGNC:19679 & AAK1 & AP2 associated kinase 1 & protein-coding gene & $\\dots$ \\\\\n",
       "\t25 & HGNC:30205 & AAMDC & adipogenesis associated Mth938 domain containing & protein-coding gene & $\\dots$ \\\\\n",
       "\t26 & HGNC:18 & AAMP & angio associated migratory cell protein & protein-coding gene & $\\dots$ \\\\\n",
       "\t27 & HGNC:19 & AANAT & aralkylamine N-acetyltransferase & protein-coding gene & $\\dots$ \\\\\n",
       "\t28 & HGNC:15886 & AAR2 & AAR2 splicing factor & protein-coding gene & $\\dots$ \\\\\n",
       "\t29 & HGNC:33842 & AARD & alanine and arginine rich domain containing protein & protein-coding gene & $\\dots$ \\\\\n",
       "\t30 & HGNC:20 & AARS1 & alanyl-tRNA synthetase 1 & protein-coding gene & $\\dots$ \\\\\n",
       "\t$\\dots$ & $\\dots$ & $\\dots$ & $\\dots$ & $\\dots$ &  \\\\\n",
       "\\end{tabular}\n"
      ],
      "text/plain": [
       "\u001b[1m42898×54 DataFrame\u001b[0m\n",
       "\u001b[1m   Row \u001b[0m│\u001b[1m hgnc_id    \u001b[0m\u001b[1m symbol    \u001b[0m\u001b[1m name                              \u001b[0m\u001b[1m locus_group\u001b[0m ⋯\n",
       "\u001b[1m       \u001b[0m│\u001b[90m String15   \u001b[0m\u001b[90m String31  \u001b[0m\u001b[90m String                            \u001b[0m\u001b[90m String31   \u001b[0m ⋯\n",
       "───────┼────────────────────────────────────────────────────────────────────────\n",
       "     1 │ HGNC:5      A1BG       alpha-1-B glycoprotein             protein-cod ⋯\n",
       "     2 │ HGNC:37133  A1BG-AS1   A1BG antisense RNA 1               non-coding\n",
       "     3 │ HGNC:24086  A1CF       APOBEC1 complementation factor     protein-cod\n",
       "     4 │ HGNC:7      A2M        alpha-2-macroglobulin              protein-cod\n",
       "     5 │ HGNC:27057  A2M-AS1    A2M antisense RNA 1                non-coding  ⋯\n",
       "     6 │ HGNC:23336  A2ML1      alpha-2-macroglobulin like 1       protein-cod\n",
       "     7 │ HGNC:41022  A2ML1-AS1  A2ML1 antisense RNA 1              non-coding\n",
       "     8 │ HGNC:41523  A2ML1-AS2  A2ML1 antisense RNA 2              non-coding\n",
       "     9 │ HGNC:8      A2MP1      alpha-2-macroglobulin pseudogene…  pseudogene  ⋯\n",
       "    10 │ HGNC:30005  A3GALT2    alpha 1,3-galactosyltransferase 2  protein-cod\n",
       "    11 │ HGNC:18149  A4GALT     alpha 1,4-galactosyltransferase …  protein-cod\n",
       "   ⋮   │     ⋮           ⋮                      ⋮                           ⋮  ⋱\n",
       " 42889 │ HGNC:13198  ZXDA       zinc finger X-linked duplicated A  protein-cod\n",
       " 42890 │ HGNC:13199  ZXDB       zinc finger X-linked duplicated B  protein-cod ⋯\n",
       " 42891 │ HGNC:28160  ZXDC       ZXD family zinc finger C           protein-cod\n",
       " 42892 │ HGNC:32058  ZYG11A     zyg-11 family member A, cell cyc…  protein-cod\n",
       " 42893 │ HGNC:38032  ZYG11AP1   zyg-11 family member A, cell cyc…  pseudogene\n",
       " 42894 │ HGNC:25820  ZYG11B     zyg-11 family member B, cell cyc…  protein-cod ⋯\n",
       " 42895 │ HGNC:13200  ZYX        zyxin                              protein-cod\n",
       " 42896 │ HGNC:51695  ZYXP1      zyxin pseudogene 1                 pseudogene\n",
       " 42897 │ HGNC:29027  ZZEF1      zinc finger ZZ-type and EF-hand …  protein-cod\n",
       " 42898 │ HGNC:24523  ZZZ3       zinc finger ZZ-type containing 3   protein-cod ⋯\n",
       "\u001b[36m                                               51 columns and 42877 rows omitted\u001b[0m"
      ]
     },
     "execution_count": 7,
     "metadata": {},
     "output_type": "execute_result"
    }
   ],
   "source": [
    "hg = OnePiece.gene.read_hgnc()"
   ]
  },
  {
   "cell_type": "code",
   "execution_count": null,
   "id": "72776225",
   "metadata": {
    "execution": {
     "iopub.execute_input": "2021-12-07T22:59:56.646262Z",
     "iopub.status.busy": "2021-12-07T22:59:56.645675Z",
     "iopub.status.idle": "2021-12-07T22:59:56.830685Z",
     "shell.execute_reply": "2021-12-07T22:59:56.830257Z"
    }
   },
   "outputs": [],
   "source": [
    "pa = \"killer cell immunoglobulin like receptors\"\n",
    "\n",
    "ge_ = []\n",
    "\n",
    "for ro in eachrow(hg)\n",
    "    \n",
    "    gr = ro[\"gene_group\"]\n",
    "\n",
    "    if ismissing(gr)\n",
    "\n",
    "        continue\n",
    "\n",
    "    end\n",
    "\n",
    "    if occursin(pa, lowercase(gr))\n",
    "\n",
    "        push!(ge_, ro[\"symbol\"])\n",
    "\n",
    "    end\n",
    "\n",
    "end\n",
    "\n",
    "println(length(ge_), \" genes whose group name contains \\\"\", pa, \"\\\"\")\n",
    "\n",
    "println(join(ge_, \"\\t\"))"
   ]
  },
  {
   "cell_type": "code",
   "execution_count": null,
   "id": "adfc057f",
   "metadata": {
    "execution": {
     "iopub.execute_input": "2021-12-07T22:59:56.832633Z",
     "iopub.status.busy": "2021-12-07T22:59:56.831980Z",
     "iopub.status.idle": "2021-12-07T22:59:56.851340Z",
     "shell.execute_reply": "2021-12-07T22:59:56.850918Z"
    }
   },
   "outputs": [],
   "source": [
    "ge2_ = DictExtension.read(\"../../get_immune_population.pro/output/population_to_genes.json\")[\"NK\"]\n",
    "\n",
    "println(length(ge2_), \" genes whose group name contains \\\"\", pa, \"\\\"\")\n",
    "\n",
    "println(join(ge2_, \"\\t\"))"
   ]
  },
  {
   "cell_type": "code",
   "execution_count": null,
   "id": "b3d7bc9f",
   "metadata": {
    "execution": {
     "iopub.execute_input": "2021-12-07T22:59:56.853200Z",
     "iopub.status.busy": "2021-12-07T22:59:56.852617Z",
     "iopub.status.idle": "2021-12-07T23:00:00.540654Z",
     "shell.execute_reply": "2021-12-07T23:00:00.540186Z"
    }
   },
   "outputs": [],
   "source": [
    "for pa in [\"human_gene_by_method.tsv\", \"human_human_immune_population_gene_by_information.tsv\"]\n",
    "\n",
    "    println(\"=\"^80)\n",
    "\n",
    "    println(pa)\n",
    "\n",
    "    an_ge_ir = TableAccess.read(joinpath(PAO, pa))\n",
    "\n",
    "    println(an_ge_ir[[ge in ge_ for ge in an_ge_ir[!, \"Gene\"]], :])\n",
    "\n",
    "end"
   ]
  }
 ],
 "metadata": {
  "@webio": {
   "lastCommId": "82f550d26c6d4a4989d67b932801a4da",
   "lastKernelId": "208d1d70-9aa4-4ad8-8442-6aa3fb12bf19"
  },
  "kernelspec": {
   "display_name": "Julia 1.7.2",
   "language": "julia",
   "name": "julia-1.7"
  },
  "language_info": {
   "file_extension": ".jl",
   "mimetype": "application/julia",
   "name": "julia",
   "version": "1.7.2"
  }
 },
 "nbformat": 4,
 "nbformat_minor": 5
}
