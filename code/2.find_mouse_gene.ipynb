{
 "cells": [
  {
   "cell_type": "code",
   "execution_count": null,
   "id": "f468ff1c-181d-4f4f-9189-b26dbbd3faa2",
   "metadata": {
    "execution": {
     "iopub.execute_input": "2021-11-28T10:15:53.631545Z",
     "iopub.status.busy": "2021-11-28T10:15:53.026309Z",
     "iopub.status.idle": "2021-11-28T10:16:00.090044Z",
     "shell.execute_reply": "2021-11-28T10:16:00.089380Z"
    }
   },
   "outputs": [],
   "source": [
    "include(\"_.jl\")"
   ]
  },
  {
   "cell_type": "code",
   "execution_count": null,
   "id": "830455ee-2650-4fd8-bd7f-a65789db6f7c",
   "metadata": {
    "execution": {
     "iopub.execute_input": "2021-11-28T10:16:00.324830Z",
     "iopub.status.busy": "2021-11-28T10:16:00.091635Z",
     "iopub.status.idle": "2021-11-28T10:16:02.502733Z",
     "shell.execute_reply": "2021-11-28T10:16:02.502296Z"
    }
   },
   "outputs": [],
   "source": [
    "me_ge_ = OrderedDict{String,Vector{String}}()"
   ]
  },
  {
   "cell_type": "code",
   "execution_count": null,
   "id": "be4f9979",
   "metadata": {
    "execution": {
     "iopub.execute_input": "2021-11-28T10:16:02.505507Z",
     "iopub.status.busy": "2021-11-28T10:16:02.504350Z",
     "iopub.status.idle": "2021-11-28T10:16:26.913543Z",
     "shell.execute_reply": "2021-11-28T10:16:26.913067Z"
    }
   },
   "outputs": [],
   "source": [
    "en = Gene.read_ensembl(; or = \"mouse\")\n",
    "\n",
    "pr_ = unique(skipmissing(en[en[!, \"Gene type\"].==\"protein_coding\", \"Gene name\"]))\n",
    "\n",
    "pr_ = sort(string.(pr_))"
   ]
  },
  {
   "cell_type": "markdown",
   "id": "20d22756",
   "metadata": {},
   "source": [
    "## Ensembl"
   ]
  },
  {
   "cell_type": "code",
   "execution_count": null,
   "id": "736fe7f5",
   "metadata": {
    "execution": {
     "iopub.execute_input": "2021-11-28T10:16:26.915620Z",
     "iopub.status.busy": "2021-11-28T10:16:26.915005Z",
     "iopub.status.idle": "2021-11-28T10:16:42.980049Z",
     "shell.execute_reply": "2021-11-28T10:16:42.979485Z"
    }
   },
   "outputs": [],
   "source": [
    "mo_hu = Gene.map_mouse()\n",
    "\n",
    "me_ge_[\"Ensembl\"] = [pr for pr in pr_ if !haskey(mo_hu, pr)]"
   ]
  },
  {
   "cell_type": "markdown",
   "id": "7629b1e5",
   "metadata": {},
   "source": [
    "## Mouse Genome Informatics"
   ]
  },
  {
   "cell_type": "code",
   "execution_count": null,
   "id": "25ab4531",
   "metadata": {
    "execution": {
     "iopub.execute_input": "2021-11-28T10:16:42.982691Z",
     "iopub.status.busy": "2021-11-28T10:16:42.981995Z",
     "iopub.status.idle": "2021-11-28T10:16:53.472406Z",
     "shell.execute_reply": "2021-11-28T10:16:53.471815Z"
    }
   },
   "outputs": [],
   "source": [
    "mg = TableAccess.read(joinpath(PAI, \"HOM_MouseHumanSequence.rpt.txt.gz\"))\n",
    "\n",
    "se_ = mg[!, \"Common Organism Name\"] .== \"human\"\n",
    "\n",
    "mg[se_, \"Symbol\"] .= Gene.rename(string.(mg[se_, \"Symbol\"]))[1]\n",
    "\n",
    "mo_hu = Dict{String,String}()\n",
    "\n",
    "for da in groupby(mg, \"DB Class Key\")\n",
    "\n",
    "    sy_ = da[!, \"Symbol\"]\n",
    "\n",
    "    se_ = da[!, \"Common Organism Name\"] .== \"mouse, laboratory\"\n",
    "\n",
    "    for mo in sy_[se_], hu in sy_[.!se_]\n",
    "\n",
    "        mo_hu[mo] = hu\n",
    "\n",
    "    end\n",
    "\n",
    "end\n",
    "\n",
    "println(length(mo_hu))\n",
    "\n",
    "me_ge_[\"MGI\"] = [pr for pr in PR_ if !haskey(mo_hu, pr)]"
   ]
  },
  {
   "cell_type": "markdown",
   "id": "92d4271d",
   "metadata": {},
   "source": [
    "## Write"
   ]
  },
  {
   "cell_type": "code",
   "execution_count": null,
   "id": "27fce6e1",
   "metadata": {
    "execution": {
     "iopub.execute_input": "2021-11-28T10:16:55.442237Z",
     "iopub.status.busy": "2021-11-28T10:16:55.441598Z",
     "iopub.status.idle": "2021-11-28T10:16:55.759570Z",
     "shell.execute_reply": "2021-11-28T10:16:55.759003Z"
    }
   },
   "outputs": [],
   "source": [
    "write_gene_by_method(PAO, \"mouse\", me_ge_)"
   ]
  }
 ],
 "metadata": {
  "@webio": {
   "lastCommId": null,
   "lastKernelId": null
  },
  "kernelspec": {
   "display_name": "Julia 1.7.0",
   "language": "julia",
   "name": "julia-1.7"
  },
  "language_info": {
   "file_extension": ".jl",
   "mimetype": "application/julia",
   "name": "julia",
   "version": "1.7.0"
  }
 },
 "nbformat": 4,
 "nbformat_minor": 5
}
