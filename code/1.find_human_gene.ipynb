{
 "cells": [
  {
   "cell_type": "code",
   "execution_count": null,
   "id": "f468ff1c-181d-4f4f-9189-b26dbbd3faa2",
   "metadata": {
    "execution": {
     "iopub.execute_input": "2021-12-07T21:29:31.769252Z",
     "iopub.status.busy": "2021-12-07T21:29:31.303416Z",
     "iopub.status.idle": "2021-12-07T21:29:46.879770Z",
     "shell.execute_reply": "2021-12-07T21:29:46.879099Z"
    }
   },
   "outputs": [],
   "source": [
    "include(\"_.jl\")"
   ]
  },
  {
   "cell_type": "code",
   "execution_count": null,
   "id": "830455ee-2650-4fd8-bd7f-a65789db6f7c",
   "metadata": {
    "execution": {
     "iopub.execute_input": "2021-12-07T21:29:48.335713Z",
     "iopub.status.busy": "2021-12-07T21:29:46.881210Z",
     "iopub.status.idle": "2021-12-07T21:29:49.558970Z",
     "shell.execute_reply": "2021-12-07T21:29:49.558431Z"
    }
   },
   "outputs": [],
   "source": [
    "me_ge_ = OrderedDict{String,Vector{String}}()\n",
    "\n",
    ";"
   ]
  },
  {
   "cell_type": "code",
   "execution_count": null,
   "id": "70721949",
   "metadata": {
    "execution": {
     "iopub.execute_input": "2021-12-07T21:29:49.561205Z",
     "iopub.status.busy": "2021-12-07T21:29:49.560429Z",
     "iopub.status.idle": "2021-12-07T21:30:25.084746Z",
     "shell.execute_reply": "2021-12-07T21:30:25.084210Z"
    }
   },
   "outputs": [],
   "source": [
    "hg = Gene.read_hgnc()\n",
    "\n",
    "pr_ = unique(skipmissing(hg[hg[!, \"locus_group\"].==\"protein-coding gene\", \"symbol\"]))\n",
    "\n",
    "pr_ = sort(string.(pr_))"
   ]
  },
  {
   "cell_type": "markdown",
   "id": "20d22756",
   "metadata": {},
   "source": [
    "## Ensembl"
   ]
  },
  {
   "cell_type": "code",
   "execution_count": null,
   "id": "5fddf7aa",
   "metadata": {
    "execution": {
     "iopub.execute_input": "2021-12-07T21:30:25.086880Z",
     "iopub.status.busy": "2021-12-07T21:30:25.086243Z",
     "iopub.status.idle": "2021-12-07T21:30:39.396459Z",
     "shell.execute_reply": "2021-12-07T21:30:39.395862Z"
    }
   },
   "outputs": [],
   "source": [
    "hu_mo = Gene.map_mouse(; di = \"human_to_mouse\")\n",
    "\n",
    "me_ge_[\"Ensembl\"] = [pr for pr in pr_ if !haskey(hu_mo, pr)]"
   ]
  },
  {
   "cell_type": "markdown",
   "id": "7f0a8f10-9c98-4822-8df9-0613bf5f316b",
   "metadata": {},
   "source": [
    "## Mouse Genome Informatics"
   ]
  },
  {
   "cell_type": "code",
   "execution_count": null,
   "id": "797cfdee",
   "metadata": {
    "execution": {
     "iopub.execute_input": "2021-12-07T21:30:39.398674Z",
     "iopub.status.busy": "2021-12-07T21:30:39.397999Z",
     "iopub.status.idle": "2021-12-07T21:31:04.221651Z",
     "shell.execute_reply": "2021-12-07T21:31:04.221094Z"
    }
   },
   "outputs": [],
   "source": [
    "mg = TableAccess.read(joinpath(PAI, \"hom_mousehumansequence.rpt.txt.gz\"))\n",
    "\n",
    "se_ = mg[!, \"Common Organism Name\"] .== \"human\"\n",
    "\n",
    "mg[se_, \"Symbol\"] .= Gene.rename(string.(mg[se_, \"Symbol\"]))[1]\n",
    "\n",
    "hu_mo = Dict{String,String}()\n",
    "\n",
    "for da in groupby(mg, \"DB Class Key\")\n",
    "\n",
    "    sy_ = da[!, \"Symbol\"]\n",
    "\n",
    "    se_ = da[!, \"Common Organism Name\"] .== \"human\"\n",
    "\n",
    "    for hu in sy_[se_], mo in sy_[.!se_]\n",
    "\n",
    "        hu_mo[hu] = mo\n",
    "\n",
    "    end\n",
    "\n",
    "end\n",
    "\n",
    "println(length(hu_mo))\n",
    "\n",
    "me_ge_[\"MGI\"] = [pr for pr in pr_ if !haskey(hu_mo, pr)]"
   ]
  },
  {
   "cell_type": "markdown",
   "id": "4fb43872-569f-478a-b2e7-0c87f0b6014b",
   "metadata": {},
   "source": [
    "## 2011 De Novo Origin of Human Protein-Coding Genes"
   ]
  },
  {
   "cell_type": "code",
   "execution_count": null,
   "id": "e24eff30",
   "metadata": {
    "execution": {
     "iopub.execute_input": "2021-12-07T21:31:04.223938Z",
     "iopub.status.busy": "2021-12-07T21:31:04.223249Z",
     "iopub.status.idle": "2021-12-07T21:31:22.988916Z",
     "shell.execute_reply": "2021-12-07T21:31:22.988435Z"
    }
   },
   "outputs": [],
   "source": [
    "tr_ = readlines(joinpath(PAI, \"de_novo_origin_of_human_protein_coding_genes\", \"genes.txt\"))\n",
    "\n",
    "me_ge_[\"2011 paper\"] = Gene.rename(vcat([\"CLLU1\", \"c22orf45\", \"DNAH10OS\"], tr_))[1]"
   ]
  },
  {
   "cell_type": "markdown",
   "id": "d50d66c1-4f64-4a22-b080-ffa781889616",
   "metadata": {},
   "source": [
    "## 2019 Genes with human-specific features are primarily involved with brain, immune and metabolic evolution"
   ]
  },
  {
   "cell_type": "code",
   "execution_count": null,
   "id": "51728d63",
   "metadata": {
    "execution": {
     "iopub.execute_input": "2021-12-07T21:31:22.990959Z",
     "iopub.status.busy": "2021-12-07T21:31:22.990350Z",
     "iopub.status.idle": "2021-12-07T21:31:43.912263Z",
     "shell.execute_reply": "2021-12-07T21:31:43.911794Z"
    }
   },
   "outputs": [],
   "source": [
    "an_ge_ir = TableAccess.read_xlsx(\n",
    "    joinpath(\n",
    "        PAI,\n",
    "        \"genes_with_human_specific_features_are_primarily_involved_with_brain,_immune_and_metabolic_evolution\",\n",
    "        \"12859_2019_2886_MOESM2_ESM.xlsx\",\n",
    "    ),\n",
    "    \"HumanSpecific Genes\",\n",
    ")\n",
    "\n",
    "me_ge_[\"2019 paper\"] = Gene.rename(string.(an_ge_ir[!, \"Gene Name\"]))[1]"
   ]
  },
  {
   "cell_type": "markdown",
   "id": "92d4271d",
   "metadata": {},
   "source": [
    "## Write"
   ]
  },
  {
   "cell_type": "code",
   "execution_count": null,
   "id": "5318d013",
   "metadata": {
    "execution": {
     "iopub.execute_input": "2021-12-07T21:31:43.914405Z",
     "iopub.status.busy": "2021-12-07T21:31:43.913787Z",
     "iopub.status.idle": "2021-12-07T21:31:50.691485Z",
     "shell.execute_reply": "2021-12-07T21:31:50.691025Z"
    }
   },
   "outputs": [],
   "source": [
    "write_gene_by_method(PAO, \"human\", me_ge_)"
   ]
  }
 ],
 "metadata": {
  "@webio": {
   "lastCommId": "973deeeb23d24f619c2ace88f72ba123",
   "lastKernelId": "ca8ec1d8-3178-4a3b-a2b6-5b9a653fca83"
  },
  "kernelspec": {
   "display_name": "Julia 1.7.0",
   "language": "julia",
   "name": "julia-1.7"
  },
  "language_info": {
   "file_extension": ".jl",
   "mimetype": "application/julia",
   "name": "julia",
   "version": "1.7.0"
  }
 },
 "nbformat": 4,
 "nbformat_minor": 5
}
