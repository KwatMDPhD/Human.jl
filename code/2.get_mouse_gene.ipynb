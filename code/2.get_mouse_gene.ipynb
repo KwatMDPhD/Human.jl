{
 "cells": [
  {
   "cell_type": "code",
   "execution_count": null,
   "id": "f468ff1c-181d-4f4f-9189-b26dbbd3faa2",
   "metadata": {
    "execution": {
     "iopub.execute_input": "2021-11-28T06:32:26.688985Z",
     "iopub.status.busy": "2021-11-28T06:32:26.103651Z",
     "iopub.status.idle": "2021-11-28T06:32:32.699409Z",
     "shell.execute_reply": "2021-11-28T06:32:32.698902Z"
    }
   },
   "outputs": [],
   "source": [
    "include(\"_.jl\")"
   ]
  },
  {
   "cell_type": "code",
   "execution_count": null,
   "id": "830455ee-2650-4fd8-bd7f-a65789db6f7c",
   "metadata": {
    "execution": {
     "iopub.execute_input": "2021-11-28T06:32:32.902548Z",
     "iopub.status.busy": "2021-11-28T06:32:32.700622Z",
     "iopub.status.idle": "2021-11-28T06:32:35.512870Z",
     "shell.execute_reply": "2021-11-28T06:32:35.512469Z"
    }
   },
   "outputs": [],
   "source": [
    "me_ge_ = OrderedDict{String,Vector{String}}()"
   ]
  },
  {
   "cell_type": "code",
   "execution_count": null,
   "id": "be4f9979",
   "metadata": {
    "execution": {
     "iopub.execute_input": "2021-11-28T06:32:35.514664Z",
     "iopub.status.busy": "2021-11-28T06:32:35.514164Z",
     "iopub.status.idle": "2021-11-28T06:32:56.203336Z",
     "shell.execute_reply": "2021-11-28T06:32:56.202877Z"
    }
   },
   "outputs": [],
   "source": [
    "en = read_ensembl(; or = \"mouse\")\n",
    "\n",
    "PR_ = sort(string.(unique((en[en[!, \"Gene type\"].==\"protein_coding\", \"Gene name\"]))))\n",
    "\n",
    "length(PR_)"
   ]
  },
  {
   "cell_type": "markdown",
   "id": "20d22756",
   "metadata": {},
   "source": [
    "## Ensembl"
   ]
  },
  {
   "cell_type": "code",
   "execution_count": null,
   "id": "93074611",
   "metadata": {
    "execution": {
     "iopub.execute_input": "2021-11-28T06:32:56.205363Z",
     "iopub.status.busy": "2021-11-28T06:32:56.204777Z",
     "iopub.status.idle": "2021-11-28T06:32:56.528671Z",
     "shell.execute_reply": "2021-11-28T06:32:56.528218Z"
    }
   },
   "outputs": [],
   "source": [
    "or = TableAccess.read(joinpath(PAI, \"ensembl\", \"mouse_to_human.tsv.gz\"))\n",
    "\n",
    "#or[!, \"Gene name\"] = rename(or[!, \"Gene name\"]))\n",
    "\n",
    ";"
   ]
  },
  {
   "cell_type": "code",
   "execution_count": null,
   "id": "474d4224",
   "metadata": {
    "execution": {
     "iopub.execute_input": "2021-11-28T06:32:56.530376Z",
     "iopub.status.busy": "2021-11-28T06:32:56.529860Z",
     "iopub.status.idle": "2021-11-28T06:32:57.499341Z",
     "shell.execute_reply": "2021-11-28T06:32:57.498917Z"
    }
   },
   "outputs": [],
   "source": [
    "mo_hu = Dict{String,String}()\n",
    "\n",
    "for ro in eachrow(or)\n",
    "\n",
    "    mo = ro[\"Gene name\"]\n",
    "\n",
    "    hu = ro[\"Human gene name\"]\n",
    "\n",
    "    if !(ismissing(mo) || ismissing(hu))\n",
    "\n",
    "        mo_hu[mo] = hu\n",
    "\n",
    "    end\n",
    "\n",
    "end\n",
    "\n",
    "println(length(mo_hu))\n",
    "\n",
    "me_ge_[\"Ensembl\"] = [pr for pr in PR_ if !haskey(mo_hu, pr)]"
   ]
  },
  {
   "cell_type": "markdown",
   "id": "7629b1e5",
   "metadata": {},
   "source": [
    "## Mouse Genome Informatics"
   ]
  },
  {
   "cell_type": "code",
   "execution_count": null,
   "id": "5e7ee918",
   "metadata": {
    "execution": {
     "iopub.execute_input": "2021-11-28T06:32:57.501139Z",
     "iopub.status.busy": "2021-11-28T06:32:57.500630Z",
     "iopub.status.idle": "2021-11-28T06:32:57.955621Z",
     "shell.execute_reply": "2021-11-28T06:32:57.955166Z"
    }
   },
   "outputs": [],
   "source": [
    "mg = TableAccess.read(joinpath(PAI, \"HOM_MouseHumanSequence.rpt.txt.gz\"))\n",
    "\n",
    "se_ = mg[!, \"Common Organism Name\"] .== \"mouse, laboratory\"\n",
    "\n",
    "#mg[se_, \"Symbol\"] .= rename(string.(mg[se_, \"Symbol\"]))\n",
    "\n",
    ";"
   ]
  },
  {
   "cell_type": "code",
   "execution_count": null,
   "id": "34620e6a",
   "metadata": {
    "execution": {
     "iopub.execute_input": "2021-11-28T06:32:57.957629Z",
     "iopub.status.busy": "2021-11-28T06:32:57.956897Z",
     "iopub.status.idle": "2021-11-28T06:32:59.757177Z",
     "shell.execute_reply": "2021-11-28T06:32:59.755346Z"
    }
   },
   "outputs": [],
   "source": [
    "mo_hu = Dict{String,String}()\n",
    "\n",
    "for da in groupby(mg, \"DB Class Key\")\n",
    "\n",
    "    sy_ = da[!, \"Symbol\"]\n",
    "\n",
    "    se_ = da[!, \"Common Organism Name\"] .== \"mouse, laboratory\"\n",
    "\n",
    "    for mo in sy_[se_], hu in sy_[.!se_]\n",
    "\n",
    "        mo_hu[mo] = hu\n",
    "\n",
    "    end\n",
    "\n",
    "end\n",
    "\n",
    "println(length(mo_hu))\n",
    "\n",
    "me_ge_[\"MGI\"] = [pr for pr in PR_ if !haskey(mo_hu, pr)]"
   ]
  },
  {
   "cell_type": "markdown",
   "id": "92d4271d",
   "metadata": {},
   "source": [
    "## Write"
   ]
  },
  {
   "cell_type": "code",
   "execution_count": null,
   "id": "603ae9ea",
   "metadata": {
    "execution": {
     "iopub.execute_input": "2021-11-28T06:32:59.759161Z",
     "iopub.status.busy": "2021-11-28T06:32:59.758600Z",
     "iopub.status.idle": "2021-11-28T06:33:05.163792Z",
     "shell.execute_reply": "2021-11-28T06:33:05.162977Z"
    }
   },
   "outputs": [],
   "source": [
    "ge_ = unique(vcat(values(me_ge_)...))\n",
    "\n",
    "an_ge_me = DataFrame(\"Gene\" => ge_)\n",
    "\n",
    "for (me, se_) in me_ge_\n",
    "\n",
    "    an_ge_me[!, me] = [ge in se_ for ge in ge_]\n",
    "\n",
    "end\n",
    "\n",
    "an_ge_me[!, \"Sum\"] = vec(sum(Matrix(an_ge_me[!, 2:end]); dims = 2))\n",
    "\n",
    "sort!(an_ge_me, \"Sum\"; rev = true)\n",
    "\n",
    "TableAccess.write(joinpath(PAO, \"mouse_gene_by_method.tsv\"), an_ge_me)\n",
    "\n",
    "an_ge_me"
   ]
  }
 ],
 "metadata": {
  "@webio": {
   "lastCommId": null,
   "lastKernelId": null
  },
  "kernelspec": {
   "display_name": "Julia 1.6.3",
   "language": "julia",
   "name": "julia-1.6"
  },
  "language_info": {
   "file_extension": ".jl",
   "mimetype": "application/julia",
   "name": "julia",
   "version": "1.6.4"
  }
 },
 "nbformat": 4,
 "nbformat_minor": 5
}
