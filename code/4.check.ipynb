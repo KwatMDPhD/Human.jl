{
 "cells": [
  {
   "cell_type": "code",
   "execution_count": null,
   "id": "6f11f41d",
   "metadata": {
    "execution": {
     "iopub.execute_input": "2021-12-07T22:59:12.638483Z",
     "iopub.status.busy": "2021-12-07T22:59:12.162896Z",
     "iopub.status.idle": "2021-12-07T22:59:26.232877Z",
     "shell.execute_reply": "2021-12-07T22:59:26.232207Z"
    }
   },
   "outputs": [],
   "source": [
    "include(\"_.jl\")"
   ]
  },
  {
   "cell_type": "code",
   "execution_count": null,
   "id": "7f26eb9c",
   "metadata": {
    "execution": {
     "iopub.execute_input": "2021-12-07T22:59:12.638483Z",
     "iopub.status.busy": "2021-12-07T22:59:12.162896Z",
     "iopub.status.idle": "2021-12-07T22:59:26.232877Z",
     "shell.execute_reply": "2021-12-07T22:59:26.232207Z"
    }
   },
   "outputs": [],
   "source": [
    "hg = OnePiece.gene.read_hgnc()"
   ]
  },
  {
   "cell_type": "code",
   "execution_count": null,
   "id": "72776225",
   "metadata": {
    "execution": {
     "iopub.execute_input": "2021-12-07T22:59:56.646262Z",
     "iopub.status.busy": "2021-12-07T22:59:56.645675Z",
     "iopub.status.idle": "2021-12-07T22:59:56.830685Z",
     "shell.execute_reply": "2021-12-07T22:59:56.830257Z"
    }
   },
   "outputs": [],
   "source": [
    "pa = \"killer cell immunoglobulin like receptors\"\n",
    "\n",
    "ge_ = []\n",
    "\n",
    "for ro in eachrow(hg)\n",
    "\n",
    "    gr = ro[\"gene_group\"]\n",
    "\n",
    "    if ismissing(gr)\n",
    "\n",
    "        continue\n",
    "\n",
    "    end\n",
    "\n",
    "    if occursin(pa, lowercase(gr))\n",
    "\n",
    "        push!(ge_, ro[\"symbol\"])\n",
    "\n",
    "    end\n",
    "\n",
    "end\n",
    "\n",
    "println(length(ge_), \" genes whose group name contains \\\"\", pa, \"\\\"\")\n",
    "\n",
    "println(join(ge_, \"\\n\"))"
   ]
  },
  {
   "cell_type": "code",
   "execution_count": null,
   "id": "adfc057f",
   "metadata": {
    "execution": {
     "iopub.execute_input": "2021-12-07T22:59:56.832633Z",
     "iopub.status.busy": "2021-12-07T22:59:56.831980Z",
     "iopub.status.idle": "2021-12-07T22:59:56.851340Z",
     "shell.execute_reply": "2021-12-07T22:59:56.850918Z"
    }
   },
   "outputs": [],
   "source": [
    "se = \"NK\"\n",
    "\n",
    "ge2_ = OnePiece.extension.dict.read(\n",
    "    \"../../get_immune_population.pro/output/population_to_genes.json\",\n",
    ")[se]\n",
    "\n",
    "println(length(ge2_), \" genes from \", se, \" gene set\")\n",
    "\n",
    "println(join(ge2_, \"\\n\"))"
   ]
  },
  {
   "cell_type": "code",
   "execution_count": null,
   "id": "b3d7bc9f",
   "metadata": {
    "execution": {
     "iopub.execute_input": "2021-12-07T22:59:56.853200Z",
     "iopub.status.busy": "2021-12-07T22:59:56.852617Z",
     "iopub.status.idle": "2021-12-07T23:00:00.540654Z",
     "shell.execute_reply": "2021-12-07T23:00:00.540186Z"
    }
   },
   "outputs": [],
   "source": [
    "for pa in [\"human_gene_by_method.tsv\", \"human_human_immune_population_gene_by_information.tsv\"]\n",
    "\n",
    "    println(\"=\"^99)\n",
    "\n",
    "    println(pa)\n",
    "\n",
    "    an_ge_ir = OnePiece.io.table.read(joinpath(PAO, pa))\n",
    "\n",
    "    println(an_ge_ir[[ge in ge_ for ge in an_ge_ir[!, \"Gene\"]], :])\n",
    "\n",
    "end"
   ]
  }
 ],
 "metadata": {
  "@webio": {
   "lastCommId": "82f550d26c6d4a4989d67b932801a4da",
   "lastKernelId": "208d1d70-9aa4-4ad8-8442-6aa3fb12bf19"
  },
  "kernelspec": {
   "display_name": "Julia 1.7.2",
   "language": "julia",
   "name": "julia-1.7"
  },
  "language_info": {
   "file_extension": ".jl",
   "mimetype": "application/julia",
   "name": "julia",
   "version": "1.7.2"
  }
 },
 "nbformat": 4,
 "nbformat_minor": 5
}
