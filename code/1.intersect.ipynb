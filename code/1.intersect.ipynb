{
 "cells": [
  {
   "cell_type": "code",
   "execution_count": 1,
   "id": "8c5e1c69",
   "metadata": {
    "execution": {
     "iopub.execute_input": "2022-08-09T23:09:54.135000Z",
     "iopub.status.busy": "2022-08-09T23:09:53.675000Z",
     "iopub.status.idle": "2022-08-09T23:09:58.375000Z",
     "shell.execute_reply": "2022-08-09T23:09:58.330000Z"
    }
   },
   "outputs": [],
   "source": [
    "include(\"_.jl\")\n",
    "\n",
    "using DataFrames\n",
    "using StatsBase"
   ]
  },
  {
   "cell_type": "code",
   "execution_count": 2,
   "id": "24999a57",
   "metadata": {
    "execution": {
     "iopub.execute_input": "2022-08-09T23:09:58.826000Z",
     "iopub.status.busy": "2022-08-09T23:09:58.377000Z",
     "iopub.status.idle": "2022-08-09T23:09:59.198000Z",
     "shell.execute_reply": "2022-08-09T23:09:59.198000Z"
    }
   },
   "outputs": [
    {
     "data": {
      "text/plain": [
       "false"
      ]
     },
     "execution_count": 2,
     "metadata": {},
     "output_type": "execute_result"
    }
   ],
   "source": [
    "mu = false"
   ]
  },
  {
   "cell_type": "code",
   "execution_count": 3,
   "id": "5fa13e5e",
   "metadata": {
    "execution": {
     "iopub.execute_input": "2022-08-09T23:09:59.201000Z",
     "iopub.status.busy": "2022-08-09T23:09:59.201000Z",
     "iopub.status.idle": "2022-08-09T23:10:14.040000Z",
     "shell.execute_reply": "2022-08-09T23:10:14.040000Z"
    }
   },
   "outputs": [
    {
     "data": {
      "text/html": [
       "<div class=\"data-frame\"><p>61,319 rows × 8 columns (omitted printing of 4 columns)</p><table class=\"data-frame\"><thead><tr><th></th><th>Gene name</th><th>Human gene name</th><th>Human homology type</th><th>%id. target Human gene identical to query gene</th></tr><tr><th></th><th title=\"Union{Missing, InlineStrings.String31}\">String31</th><th title=\"Union{Missing, InlineStrings.String15}\">String15</th><th title=\"Union{Missing, InlineStrings.String31}\">String31</th><th title=\"Union{Missing, Float64}\">Float64?</th></tr></thead><tbody><tr><th>1</th><td>mt-Tf</td><td><em>missing</em></td><td><em>missing</em></td><td><em>missing</em></td></tr><tr><th>2</th><td>mt-Rnr1</td><td><em>missing</em></td><td><em>missing</em></td><td><em>missing</em></td></tr><tr><th>3</th><td>mt-Tv</td><td><em>missing</em></td><td><em>missing</em></td><td><em>missing</em></td></tr><tr><th>4</th><td>mt-Rnr2</td><td><em>missing</em></td><td><em>missing</em></td><td><em>missing</em></td></tr><tr><th>5</th><td>mt-Tl1</td><td><em>missing</em></td><td><em>missing</em></td><td><em>missing</em></td></tr><tr><th>6</th><td>mt-Nd1</td><td>MT-ND1</td><td>ortholog_one2one</td><td>77.044</td></tr><tr><th>7</th><td>mt-Ti</td><td><em>missing</em></td><td><em>missing</em></td><td><em>missing</em></td></tr><tr><th>8</th><td>mt-Tq</td><td><em>missing</em></td><td><em>missing</em></td><td><em>missing</em></td></tr><tr><th>9</th><td>mt-Tm</td><td><em>missing</em></td><td><em>missing</em></td><td><em>missing</em></td></tr><tr><th>10</th><td>mt-Nd2</td><td>MT-ND2</td><td>ortholog_one2one</td><td>57.3913</td></tr><tr><th>11</th><td>mt-Tw</td><td><em>missing</em></td><td><em>missing</em></td><td><em>missing</em></td></tr><tr><th>12</th><td>mt-Ta</td><td><em>missing</em></td><td><em>missing</em></td><td><em>missing</em></td></tr><tr><th>13</th><td>mt-Tn</td><td><em>missing</em></td><td><em>missing</em></td><td><em>missing</em></td></tr><tr><th>14</th><td>mt-Tc</td><td><em>missing</em></td><td><em>missing</em></td><td><em>missing</em></td></tr><tr><th>15</th><td>mt-Ty</td><td><em>missing</em></td><td><em>missing</em></td><td><em>missing</em></td></tr><tr><th>16</th><td>mt-Co1</td><td>MT-CO1</td><td>ortholog_one2one</td><td>90.6615</td></tr><tr><th>17</th><td>mt-Ts1</td><td><em>missing</em></td><td><em>missing</em></td><td><em>missing</em></td></tr><tr><th>18</th><td>mt-Td</td><td><em>missing</em></td><td><em>missing</em></td><td><em>missing</em></td></tr><tr><th>19</th><td>mt-Co2</td><td>MT-CO2</td><td>ortholog_one2one</td><td>71.3656</td></tr><tr><th>20</th><td>mt-Tk</td><td><em>missing</em></td><td><em>missing</em></td><td><em>missing</em></td></tr><tr><th>21</th><td>mt-Atp8</td><td>MT-ATP8</td><td>ortholog_one2one</td><td>46.2687</td></tr><tr><th>22</th><td>mt-Atp6</td><td>MT-ATP6</td><td>ortholog_one2one</td><td>75.6637</td></tr><tr><th>23</th><td>mt-Co3</td><td>MT-CO3</td><td>ortholog_one2one</td><td>86.9732</td></tr><tr><th>24</th><td>mt-Tg</td><td><em>missing</em></td><td><em>missing</em></td><td><em>missing</em></td></tr><tr><th>25</th><td>mt-Nd3</td><td>MT-ND3</td><td>ortholog_one2one</td><td>66.087</td></tr><tr><th>26</th><td>mt-Tr</td><td><em>missing</em></td><td><em>missing</em></td><td><em>missing</em></td></tr><tr><th>27</th><td>mt-Nd4l</td><td>MT-ND4L</td><td>ortholog_one2one</td><td>66.3265</td></tr><tr><th>28</th><td>mt-Nd4</td><td>MT-ND4</td><td>ortholog_one2one</td><td>66.8845</td></tr><tr><th>29</th><td>mt-Th</td><td><em>missing</em></td><td><em>missing</em></td><td><em>missing</em></td></tr><tr><th>30</th><td>mt-Ts2</td><td><em>missing</em></td><td><em>missing</em></td><td><em>missing</em></td></tr><tr><th>&vellip;</th><td>&vellip;</td><td>&vellip;</td><td>&vellip;</td><td>&vellip;</td></tr></tbody></table></div>"
      ],
      "text/latex": [
       "\\begin{tabular}{r|ccccc}\n",
       "\t& Gene name & Human gene name & Human homology type & \\%id. target Human gene identical to query gene & \\\\\n",
       "\t\\hline\n",
       "\t& String31 & String15 & String31 & Float64? & \\\\\n",
       "\t\\hline\n",
       "\t1 & mt-Tf & \\emph{missing} & \\emph{missing} & \\emph{missing} & $\\dots$ \\\\\n",
       "\t2 & mt-Rnr1 & \\emph{missing} & \\emph{missing} & \\emph{missing} & $\\dots$ \\\\\n",
       "\t3 & mt-Tv & \\emph{missing} & \\emph{missing} & \\emph{missing} & $\\dots$ \\\\\n",
       "\t4 & mt-Rnr2 & \\emph{missing} & \\emph{missing} & \\emph{missing} & $\\dots$ \\\\\n",
       "\t5 & mt-Tl1 & \\emph{missing} & \\emph{missing} & \\emph{missing} & $\\dots$ \\\\\n",
       "\t6 & mt-Nd1 & MT-ND1 & ortholog\\_one2one & 77.044 & $\\dots$ \\\\\n",
       "\t7 & mt-Ti & \\emph{missing} & \\emph{missing} & \\emph{missing} & $\\dots$ \\\\\n",
       "\t8 & mt-Tq & \\emph{missing} & \\emph{missing} & \\emph{missing} & $\\dots$ \\\\\n",
       "\t9 & mt-Tm & \\emph{missing} & \\emph{missing} & \\emph{missing} & $\\dots$ \\\\\n",
       "\t10 & mt-Nd2 & MT-ND2 & ortholog\\_one2one & 57.3913 & $\\dots$ \\\\\n",
       "\t11 & mt-Tw & \\emph{missing} & \\emph{missing} & \\emph{missing} & $\\dots$ \\\\\n",
       "\t12 & mt-Ta & \\emph{missing} & \\emph{missing} & \\emph{missing} & $\\dots$ \\\\\n",
       "\t13 & mt-Tn & \\emph{missing} & \\emph{missing} & \\emph{missing} & $\\dots$ \\\\\n",
       "\t14 & mt-Tc & \\emph{missing} & \\emph{missing} & \\emph{missing} & $\\dots$ \\\\\n",
       "\t15 & mt-Ty & \\emph{missing} & \\emph{missing} & \\emph{missing} & $\\dots$ \\\\\n",
       "\t16 & mt-Co1 & MT-CO1 & ortholog\\_one2one & 90.6615 & $\\dots$ \\\\\n",
       "\t17 & mt-Ts1 & \\emph{missing} & \\emph{missing} & \\emph{missing} & $\\dots$ \\\\\n",
       "\t18 & mt-Td & \\emph{missing} & \\emph{missing} & \\emph{missing} & $\\dots$ \\\\\n",
       "\t19 & mt-Co2 & MT-CO2 & ortholog\\_one2one & 71.3656 & $\\dots$ \\\\\n",
       "\t20 & mt-Tk & \\emph{missing} & \\emph{missing} & \\emph{missing} & $\\dots$ \\\\\n",
       "\t21 & mt-Atp8 & MT-ATP8 & ortholog\\_one2one & 46.2687 & $\\dots$ \\\\\n",
       "\t22 & mt-Atp6 & MT-ATP6 & ortholog\\_one2one & 75.6637 & $\\dots$ \\\\\n",
       "\t23 & mt-Co3 & MT-CO3 & ortholog\\_one2one & 86.9732 & $\\dots$ \\\\\n",
       "\t24 & mt-Tg & \\emph{missing} & \\emph{missing} & \\emph{missing} & $\\dots$ \\\\\n",
       "\t25 & mt-Nd3 & MT-ND3 & ortholog\\_one2one & 66.087 & $\\dots$ \\\\\n",
       "\t26 & mt-Tr & \\emph{missing} & \\emph{missing} & \\emph{missing} & $\\dots$ \\\\\n",
       "\t27 & mt-Nd4l & MT-ND4L & ortholog\\_one2one & 66.3265 & $\\dots$ \\\\\n",
       "\t28 & mt-Nd4 & MT-ND4 & ortholog\\_one2one & 66.8845 & $\\dots$ \\\\\n",
       "\t29 & mt-Th & \\emph{missing} & \\emph{missing} & \\emph{missing} & $\\dots$ \\\\\n",
       "\t30 & mt-Ts2 & \\emph{missing} & \\emph{missing} & \\emph{missing} & $\\dots$ \\\\\n",
       "\t$\\dots$ & $\\dots$ & $\\dots$ & $\\dots$ & $\\dots$ &  \\\\\n",
       "\\end{tabular}\n"
      ],
      "text/plain": [
       "\u001b[1m61319×8 DataFrame\u001b[0m\n",
       "\u001b[1m   Row \u001b[0m│\u001b[1m Gene name \u001b[0m\u001b[1m Human gene name \u001b[0m\u001b[1m Human homology type \u001b[0m\u001b[1m %id. target Human ge\u001b[0m ⋯\n",
       "\u001b[1m       \u001b[0m│\u001b[90m String31  \u001b[0m\u001b[90m String15        \u001b[0m\u001b[90m String31            \u001b[0m\u001b[90m Union{Missing, Float\u001b[0m ⋯\n",
       "───────┼────────────────────────────────────────────────────────────────────────\n",
       "     1 │ mt-Tf     \u001b[90m missing         \u001b[0m\u001b[90m missing             \u001b[0m\u001b[90m                     \u001b[0m ⋯\n",
       "     2 │ mt-Rnr1   \u001b[90m missing         \u001b[0m\u001b[90m missing             \u001b[0m\u001b[90m\u001b[0m\n",
       "     3 │ mt-Tv     \u001b[90m missing         \u001b[0m\u001b[90m missing             \u001b[0m\u001b[90m\u001b[0m\n",
       "     4 │ mt-Rnr2   \u001b[90m missing         \u001b[0m\u001b[90m missing             \u001b[0m\u001b[90m\u001b[0m\n",
       "     5 │ mt-Tl1    \u001b[90m missing         \u001b[0m\u001b[90m missing             \u001b[0m\u001b[90m                     \u001b[0m ⋯\n",
       "     6 │ mt-Nd1     MT-ND1           ortholog_one2one\n",
       "     7 │ mt-Ti     \u001b[90m missing         \u001b[0m\u001b[90m missing             \u001b[0m\u001b[90m\u001b[0m\n",
       "     8 │ mt-Tq     \u001b[90m missing         \u001b[0m\u001b[90m missing             \u001b[0m\u001b[90m\u001b[0m\n",
       "     9 │ mt-Tm     \u001b[90m missing         \u001b[0m\u001b[90m missing             \u001b[0m\u001b[90m                     \u001b[0m ⋯\n",
       "    10 │ mt-Nd2     MT-ND2           ortholog_one2one\n",
       "    11 │ mt-Tw     \u001b[90m missing         \u001b[0m\u001b[90m missing             \u001b[0m\u001b[90m\u001b[0m\n",
       "   ⋮   │     ⋮             ⋮                  ⋮                                ⋱\n",
       " 61310 │ Gm24379    Y_RNA            ortholog_one2many\n",
       " 61311 │ Adig       ADIG             ortholog_one2one                          ⋯\n",
       " 61312 │ Gm14204   \u001b[90m missing         \u001b[0m\u001b[90m missing             \u001b[0m\u001b[90m\u001b[0m\n",
       " 61313 │ Slc32a1    SLC32A1          ortholog_one2one\n",
       " 61314 │ Gm14205   \u001b[90m missing         \u001b[0m\u001b[90m missing             \u001b[0m\u001b[90m\u001b[0m\n",
       " 61315 │ Actr5      ACTR5            ortholog_one2one                          ⋯\n",
       " 61316 │ Mir3474   \u001b[90m missing         \u001b[0m\u001b[90m missing             \u001b[0m\u001b[90m\u001b[0m\n",
       " 61317 │ Ppp1r16b   PPP1R16B         ortholog_one2one\n",
       " 61318 │\u001b[90m missing   \u001b[0m\u001b[90m missing         \u001b[0m\u001b[90m missing             \u001b[0m\u001b[90m\u001b[0m\n",
       " 61319 │ Arhgap40   ARHGAP40         ortholog_one2one                          ⋯\n",
       "\u001b[36m                                                5 columns and 61298 rows omitted\u001b[0m"
      ]
     },
     "execution_count": 3,
     "metadata": {},
     "output_type": "execute_result"
    }
   ],
   "source": [
    "OnePiece.table.read(\"../../../OnePiece.jl/src/gene/ensembl.mouse_human.tsv.gz\")"
   ]
  },
  {
   "cell_type": "code",
   "execution_count": 4,
   "id": "9bda1194",
   "metadata": {
    "execution": {
     "iopub.execute_input": "2022-08-09T23:10:14.043000Z",
     "iopub.status.busy": "2022-08-09T23:10:14.043000Z",
     "iopub.status.idle": "2022-08-09T23:10:16.303000Z",
     "shell.execute_reply": "2022-08-09T23:10:16.303000Z"
    }
   },
   "outputs": [],
   "source": [
    "en = OnePiece.gene.read_ensembl()\n",
    "\n",
    "hu_ = sort(\n",
    "    setdiff(\n",
    "        skipmissing(en[en[!, \"Gene type\"] .== \"protein_coding\", \"Gene name\"]),\n",
    "        OnePiece.table.read(\"../../../OnePiece.jl/src/gene/ensembl.mouse_human.tsv.gz\")[\n",
    "            !,\n",
    "            \"Human gene name\",\n",
    "        ],\n",
    "    ),\n",
    ")\n",
    "\n",
    "open(joinpath(RO, \"output\", \"gene.tsv\"), \"w\") do io\n",
    "\n",
    "    write(io, \"Human gene\\n\")\n",
    "\n",
    "    for hu in hu_\n",
    "\n",
    "        write(io, \"$hu\\n\")\n",
    "\n",
    "    end\n",
    "\n",
    "end"
   ]
  },
  {
   "cell_type": "code",
   "execution_count": 5,
   "id": "b8f87cc6",
   "metadata": {
    "execution": {
     "iopub.execute_input": "2022-08-09T23:10:16.306000Z",
     "iopub.status.busy": "2022-08-09T23:10:16.305000Z",
     "iopub.status.idle": "2022-08-09T23:10:16.505000Z",
     "shell.execute_reply": "2022-08-09T23:10:16.505000Z"
    }
   },
   "outputs": [
    {
     "name": "stdout",
     "output_type": "stream",
     "text": [
      "Immune Population ==> immune_population\n"
     ]
    },
    {
     "data": {
      "text/plain": [
       "1530"
      ]
     },
     "execution_count": 5,
     "metadata": {},
     "output_type": "execute_result"
    }
   ],
   "source": [
    "pa1 = \"set1_genes.json\"\n",
    "\n",
    "#pa2 = \"set2_genes.json\"\n",
    "\n",
    "na1 = \"Immune Population\"\n",
    "\n",
    "#na2 = \"Neural Population\"\n",
    "\n",
    "na1c = OnePiece.path.clean(na1)\n",
    "\n",
    "#na2c = OnePiece.path.clean(na2)\n",
    "\n",
    "se1_ge_ = OnePiece.dict.read(joinpath(RO, \"input\", pa1))\n",
    "\n",
    "pop!(se1_ge_, \"Progenitors\")\n",
    "\n",
    "#se2_ge_ = OnePiece.dict.read(joinpath(RO, \"input\", pa2))\n",
    "\n",
    "ge1_ = vcat(values(se1_ge_)...)\n",
    "\n",
    "#ge2_ = vcat(values(se2_ge_)...)\n",
    "\n",
    "length(ge1_)\n",
    "\n",
    "#length(ge2_)"
   ]
  },
  {
   "cell_type": "code",
   "execution_count": 6,
   "id": "ec0af3d6",
   "metadata": {
    "execution": {
     "iopub.execute_input": "2022-08-09T23:10:16.509000Z",
     "iopub.status.busy": "2022-08-09T23:10:16.508000Z",
     "iopub.status.idle": "2022-08-09T23:10:16.510000Z",
     "shell.execute_reply": "2022-08-09T23:10:16.510000Z"
    }
   },
   "outputs": [
    {
     "data": {
      "text/plain": [
       "1530"
      ]
     },
     "execution_count": 6,
     "metadata": {},
     "output_type": "execute_result"
    }
   ],
   "source": [
    "na = na1\n",
    "\n",
    "nac = na1c\n",
    "\n",
    "se_ge_ = se1_ge_\n",
    "\n",
    "ge_ = ge1_\n",
    "\n",
    "length(ge_)"
   ]
  },
  {
   "cell_type": "code",
   "execution_count": 7,
   "id": "4298af69",
   "metadata": {
    "execution": {
     "iopub.execute_input": "2022-08-09T23:10:16.513000Z",
     "iopub.status.busy": "2022-08-09T23:10:16.513000Z",
     "iopub.status.idle": "2022-08-09T23:10:16.515000Z",
     "shell.execute_reply": "2022-08-09T23:10:16.514000Z"
    }
   },
   "outputs": [],
   "source": [
    "if mu\n",
    "\n",
    "    na = \"$na1 and $na2\"\n",
    "\n",
    "    nac = OnePiece.path.clean(na)\n",
    "\n",
    "    se_ge_ = sort(merge(se1_ge_, se2_ge_))\n",
    "\n",
    "    ge_ = vcat(values(se_ge_)...)\n",
    "\n",
    "    println(length(ge_))\n",
    "\n",
    "end"
   ]
  },
  {
   "cell_type": "code",
   "execution_count": 8,
   "id": "e9be1f60",
   "metadata": {
    "execution": {
     "iopub.execute_input": "2022-08-09T23:10:16.517000Z",
     "iopub.status.busy": "2022-08-09T23:10:16.517000Z",
     "iopub.status.idle": "2022-08-09T23:10:16.893000Z",
     "shell.execute_reply": "2022-08-09T23:10:16.892000Z"
    }
   },
   "outputs": [
    {
     "data": {
      "text/plain": [
       "\"/Users/kwat/craft/pro/HumanGene.pro/output/immune_population\""
      ]
     },
     "execution_count": 8,
     "metadata": {},
     "output_type": "execute_result"
    }
   ],
   "source": [
    "di = joinpath(RO, \"output\", nac)\n",
    "\n",
    "mkpath(di)"
   ]
  },
  {
   "cell_type": "code",
   "execution_count": 9,
   "id": "5bb91266",
   "metadata": {
    "execution": {
     "iopub.execute_input": "2022-08-09T23:10:16.897000Z",
     "iopub.status.busy": "2022-08-09T23:10:16.897000Z",
     "iopub.status.idle": "2022-08-09T23:10:18.036000Z",
     "shell.execute_reply": "2022-08-09T23:10:18.035000Z"
    }
   },
   "outputs": [
    {
     "data": {
      "text/plain": [
       "77-element Vector{InlineStrings.String31}:\n",
       " \"ADGRE3\"\n",
       " \"APOBEC3A\"\n",
       " \"APOBEC3B\"\n",
       " \"BTNL8\"\n",
       " \"CASP5\"\n",
       " \"CCDC183\"\n",
       " \"CD1B\"\n",
       " \"CD1E\"\n",
       " \"CEACAM3\"\n",
       " \"CEACAM4\"\n",
       " \"CFH\"\n",
       " \"CLIC2\"\n",
       " \"COL9A3\"\n",
       " ⋮\n",
       " \"TICAM2\"\n",
       " \"TMEM272\"\n",
       " \"TRABD2A\"\n",
       " \"TRIM49D1\"\n",
       " \"TRIM49D2\"\n",
       " \"TRIM51\"\n",
       " \"TRIM64\"\n",
       " \"TRIM64B\"\n",
       " \"UGT2B11\"\n",
       " \"VSTM1\"\n",
       " \"ZNF683\"\n",
       " \"ZNF860\""
      ]
     },
     "execution_count": 9,
     "metadata": {},
     "output_type": "execute_result"
    }
   ],
   "source": [
    "co_ = intersect(hu_, ge_)"
   ]
  },
  {
   "cell_type": "code",
   "execution_count": 10,
   "id": "f0b2779f",
   "metadata": {
    "execution": {
     "iopub.execute_input": "2022-08-09T23:10:18.039000Z",
     "iopub.status.busy": "2022-08-09T23:10:18.039000Z",
     "iopub.status.idle": "2022-08-09T23:10:18.718000Z",
     "shell.execute_reply": "2022-08-09T23:10:18.717000Z"
    }
   },
   "outputs": [
    {
     "data": {
      "text/plain": [
       "77-element Vector{String}:\n",
       " \"Granulocytes LD\"\n",
       " \"Neutrophils LD\"\n",
       " \"Plasmablasts\"\n",
       " \"Neutrophils LD\"\n",
       " \"Monocytes NC\"\n",
       " \"pDCs\"\n",
       " \"mDCs\"\n",
       " \"mDCs\"\n",
       " \"Neutrophils LD\"\n",
       " \"Neutrophils LD\"\n",
       " \"MAIT\"\n",
       " \"mDCs\"\n",
       " \"B NSM\"\n",
       " ⋮\n",
       " \"Myeloid Phagocytes\"\n",
       " \"Neutrophils LD\"\n",
       " \"T Naive\"\n",
       " \"Basophils LD\"\n",
       " \"Basophils LD\"\n",
       " \"Basophils LD\"\n",
       " \"Basophils LD\"\n",
       " \"Basophils LD\"\n",
       " \"Basophils LD\"\n",
       " \"Monocytes C\"\n",
       " \"T CD8 TE\"\n",
       " \"B Naive+Memory\""
      ]
     },
     "execution_count": 10,
     "metadata": {},
     "output_type": "execute_result"
    }
   ],
   "source": [
    "se_ = [join([se for (se, ge_) in se_ge_ if co in ge_], \" & \") for co in co_]"
   ]
  },
  {
   "cell_type": "code",
   "execution_count": 11,
   "id": "deee65d2",
   "metadata": {
    "execution": {
     "iopub.execute_input": "2022-08-09T23:10:18.721000Z",
     "iopub.status.busy": "2022-08-09T23:10:18.721000Z",
     "iopub.status.idle": "2022-08-09T23:10:21.080000Z",
     "shell.execute_reply": "2022-08-09T23:10:21.080000Z"
    }
   },
   "outputs": [
    {
     "data": {
      "text/plain": [
       "77-element Vector{String}:\n",
       " \"Adhesion G protein-coupled receptors, subfamily E\"\n",
       " \"Apolipoprotein B mRNA editing enzyme catalytic subunits\"\n",
       " \"Apolipoprotein B mRNA editing e\" ⋯ 27 bytes ⋯ \"nor histocompatibility antigens\"\n",
       " \"Butyrophilins|V-set domain containing\"\n",
       " \"Caspases|Caspase recruitment domain containing\"\n",
       " \"Coiled-coil domain containing 183\"\n",
       " \"CD molecules|C1-set domain containing\"\n",
       " \"CD molecules|C1-set domain containing\"\n",
       " \"CD molecules|V-set domain containing|CEA cell adhesion molecule family\"\n",
       " \"V-set domain containing|CEA cell adhesion molecule family\"\n",
       " \"Sushi domain containing|Complement system regulators and receptors\"\n",
       " \"Chloride intracellular channels\"\n",
       " \"Collagens|Collagen proteoglycans\"\n",
       " ⋮\n",
       " \"TIR domain containing\"\n",
       " \"Transmembrane protein 272\"\n",
       " \"TraB domain containing 2A\"\n",
       " \"Ring finger proteins|Tripartite motif containing\"\n",
       " \"Ring finger proteins|Tripartite motif containing\"\n",
       " \"Ring finger proteins|Tripartite motif containing\"\n",
       " \"Ring finger proteins|Tripartite motif containing\"\n",
       " \"Ring finger proteins|Tripartite motif containing\"\n",
       " \"UDP glucuronosyltransferases\"\n",
       " \"Immunoglobulin like domain containing\"\n",
       " \"Zinc fingers C2H2-type\"\n",
       " \"Zinc fingers C2H2-type\""
      ]
     },
     "execution_count": 11,
     "metadata": {},
     "output_type": "execute_result"
    }
   ],
   "source": [
    "hg = OnePiece.gene.read_hgnc()\n",
    "\n",
    "ge_gr = OnePiece.data_frame.map_to_column(hg, [\"symbol\", \"gene_group\"])\n",
    "\n",
    "ge_na = OnePiece.data_frame.map_to_column(hg, [\"symbol\", \"name\"])\n",
    "\n",
    "gr_ = [get(ge_gr, co, uppercasefirst(ge_na[co])) for co in co_]"
   ]
  },
  {
   "cell_type": "markdown",
   "id": "8fc145af",
   "metadata": {},
   "source": [
    "uniprot.org > Protein > Chain > BlastP (rodents, e_threshold=10, matrix=auto, filtering=none, gapped=yes)"
   ]
  },
  {
   "cell_type": "code",
   "execution_count": 12,
   "id": "704e75b3",
   "metadata": {
    "execution": {
     "iopub.execute_input": "2022-08-09T23:10:21.083000Z",
     "iopub.status.busy": "2022-08-09T23:10:21.083000Z",
     "iopub.status.idle": "2022-08-09T23:10:21.890000Z",
     "shell.execute_reply": "2022-08-09T23:10:21.890000Z"
    }
   },
   "outputs": [
    {
     "data": {
      "text/plain": [
       "77-element Vector{Real}:\n",
       " 0.459\n",
       " 0.426\n",
       " 0.359\n",
       " 0.396\n",
       " 0.636\n",
       " 0.76\n",
       " 0.489\n",
       " 0.521\n",
       " 0.528\n",
       " 0.472\n",
       " 0.614\n",
       " 0.662\n",
       " 0.512\n",
       " ⋮\n",
       " 0.744\n",
       " 0.368\n",
       " 0.648\n",
       " 0.364\n",
       " 0.364\n",
       " 0.367\n",
       " 0.348\n",
       " 0.348\n",
       " 0.704\n",
       " 0.382\n",
       " 0.56\n",
       " 0.438"
      ]
     },
     "execution_count": 12,
     "metadata": {},
     "output_type": "execute_result"
    }
   ],
   "source": [
    "ge_bl = Dict(\n",
    "    \"GNLY\" => 0.292,\n",
    "    \"COL9A3\" => 0.512,\n",
    "    \"FAM177B\" => 0.388,\n",
    "    \"GLYATL1B\" => 0.412,\n",
    "    \"ZNF860\" => 0.438,\n",
    "    \"PLEKHG7\" => 0.258,\n",
    "    \"GCSAML\" => 0.292,\n",
    "    \"IL3RA\" => 0.305,\n",
    "    \"KRT81\" => 0.881,\n",
    "    \"KRT86\" => 0.872,\n",
    "    \"OR14L1P\" => 0.530,\n",
    "    \"OR6K3\" => 0.784,\n",
    "    \"OXER1\" => 0.418,\n",
    "    \"RAB32\" => 0.839,\n",
    "    \"TRIM49D1\" => 0.364,\n",
    "    \"TRIM49D2\" => 0.364,\n",
    "    \"TRIM51\" => 0.367,\n",
    "    \"TRIM64\" => 0.348,\n",
    "    \"TRIM64B\" => 0.348,\n",
    "    \"UGT2B11\" => 0.704,\n",
    "    \"ADGRE3\" => 0.459,\n",
    "    \"CFH\" => 0.614,\n",
    "    \"CXCL2\" => 0.735,\n",
    "    \"CXCL3\" => 0.685,\n",
    "    \"GPR84\" => 0.856,\n",
    "    \"VSTM1\" => 0.382,\n",
    "    \"NT5DC4\" => 0.654,\n",
    "    \"CASP5\" => 0.636,\n",
    "    \"CTSL\" => 0.785,\n",
    "    \"LILRA1\" => 0.507,\n",
    "    \"LILRB2\" => 0.452,\n",
    "    \"LILRA2\" => 0.513,\n",
    "    \"PILRA\" => 0.469,\n",
    "    \"SIGLEC14\" => 0.498,\n",
    "    \"TICAM2\" => 0.744,\n",
    "    \"KIR2DP1\" => 0.401,\n",
    "    \"KLRF1\" => 0.303,\n",
    "    \"LGALS9B\" => 0.685,\n",
    "    \"LGALS9C\" => 0.688,\n",
    "    \"APOBEC3A\" => 0.426,\n",
    "    \"BTNL8\" => 0.396,\n",
    "    \"CEACAM3\" => 0.528,\n",
    "    \"CEACAM4\" => 0.472,\n",
    "    \"CSNK1A1L\" => 0.910,\n",
    "    \"CXCL1\" => 0.701,\n",
    "    \"CXCR1\" => 0.686,\n",
    "    \"FCAR\" => 0.327,\n",
    "    \"H2AC19\" => 1,\n",
    "    \"H3C4\" => 1,\n",
    "    \"HSPA6\" => 0.815,\n",
    "    \"LINC02218\" => 0.441,\n",
    "    \"PEAK3\" => 0.268,\n",
    "    \"PI3\" => 0.941,\n",
    "    \"S100A12\" => 0.388,\n",
    "    \"S100P\" => 0.545,\n",
    "    \"SIGLEC5\" => 0.455,\n",
    "    \"SIRPB2\" => 0.348,\n",
    "    \"SIRPD\" => 0.48,\n",
    "    \"ST20\" => 0.724,\n",
    "    \"TMEM272\" => 0.368,\n",
    "    \"APOBEC3B\" => 0.359,\n",
    "    \"PLAAT2\" => 0.701,\n",
    "    \"ZNF683\" => 0.560,\n",
    "    \"TRABD2A\" => 0.648,\n",
    "    \"FAAH2\" => 0.304,\n",
    "    \"CD1B\" => 0.489,\n",
    "    \"CD1E\" => 0.521,\n",
    "    \"CLIC2\" => 0.662,\n",
    "    \"FPR3\" => 0.634,\n",
    "    \"CCDC183\" => 0.76,\n",
    "    \"CTSV\" => 0.792,\n",
    "    \"GGTA1\" => 0.654,\n",
    "    \"KCNK17\" => 0.42,\n",
    "    \"NLRP7\" => 0.408,\n",
    "    \"NOTCH4\" => 0.808,\n",
    "    \"PROC\" => 0.695,\n",
    "    \"SLC9C2\" => 0.292,\n",
    "    \"SMIM6\" => 0.565,\n",
    ")\n",
    "\n",
    "bl_ = [get(ge_bl, co, NaN) for co in co_]"
   ]
  },
  {
   "cell_type": "code",
   "execution_count": 13,
   "id": "9ada74e6",
   "metadata": {
    "execution": {
     "iopub.execute_input": "2022-08-09T23:10:21.893000Z",
     "iopub.status.busy": "2022-08-09T23:10:21.893000Z",
     "iopub.status.idle": "2022-08-09T23:10:23.428000Z",
     "shell.execute_reply": "2022-08-09T23:10:23.427000Z"
    }
   },
   "outputs": [
    {
     "data": {
      "text/html": [
       "<div class=\"data-frame\"><p>77 rows × 4 columns (omitted printing of 1 columns)</p><table class=\"data-frame\"><thead><tr><th></th><th>Gene</th><th>Immune Population</th><th>Group</th></tr><tr><th></th><th title=\"InlineStrings.String31\">String31</th><th title=\"String\">String</th><th title=\"String\">String</th></tr></thead><tbody><tr><th>1</th><td>COL9A3</td><td>B NSM</td><td>Collagens|Collagen proteoglycans</td></tr><tr><th>2</th><td>FAM177B</td><td>B Naive</td><td>Family with sequence similarity 177 member B</td></tr><tr><th>3</th><td>GLYATL1B</td><td>B Naive</td><td>Glycine-N-acyltransferase like 1B</td></tr><tr><th>4</th><td>ZNF860</td><td>B Naive+Memory</td><td>Zinc fingers C2H2-type</td></tr><tr><th>5</th><td>PLEKHG7</td><td>B SM</td><td>Pleckstrin homology domain containing|Dbl family Rho GEFs</td></tr><tr><th>6</th><td>GCSAML</td><td>Basophils LD</td><td>Germinal center associated signaling and motility like</td></tr><tr><th>7</th><td>IL3RA</td><td>Basophils LD</td><td>CD molecules|Interleukin receptors|Pseudoautosomal region 1</td></tr><tr><th>8</th><td>KRT81</td><td>Basophils LD</td><td>Keratins, type II</td></tr><tr><th>9</th><td>KRT86</td><td>Basophils LD</td><td>Keratins, type II</td></tr><tr><th>10</th><td>OR14L1P</td><td>Basophils LD</td><td>Olfactory receptors, family 14</td></tr><tr><th>11</th><td>OR6K3</td><td>Basophils LD</td><td>Olfactory receptors, family 6</td></tr><tr><th>12</th><td>OXER1</td><td>Basophils LD</td><td>Leukotriene receptors</td></tr><tr><th>13</th><td>RAB32</td><td>Basophils LD</td><td>RAB, member RAS oncogene GTPases|A-kinase anchoring proteins</td></tr><tr><th>14</th><td>TRIM49D1</td><td>Basophils LD</td><td>Ring finger proteins|Tripartite motif containing</td></tr><tr><th>15</th><td>TRIM49D2</td><td>Basophils LD</td><td>Ring finger proteins|Tripartite motif containing</td></tr><tr><th>16</th><td>TRIM51</td><td>Basophils LD</td><td>Ring finger proteins|Tripartite motif containing</td></tr><tr><th>17</th><td>TRIM64</td><td>Basophils LD</td><td>Ring finger proteins|Tripartite motif containing</td></tr><tr><th>18</th><td>TRIM64B</td><td>Basophils LD</td><td>Ring finger proteins|Tripartite motif containing</td></tr><tr><th>19</th><td>UGT2B11</td><td>Basophils LD</td><td>UDP glucuronosyltransferases</td></tr><tr><th>20</th><td>ADGRE3</td><td>Granulocytes LD</td><td>Adhesion G protein-coupled receptors, subfamily E</td></tr><tr><th>21</th><td>CFH</td><td>MAIT</td><td>Sushi domain containing|Complement system regulators and receptors</td></tr><tr><th>22</th><td>CXCL2</td><td>Monocytes C</td><td>Chemokine ligands</td></tr><tr><th>23</th><td>CXCL3</td><td>Monocytes C</td><td>Chemokine ligands</td></tr><tr><th>24</th><td>GPR84</td><td>Monocytes C</td><td>G protein-coupled receptors, Class A orphans</td></tr><tr><th>25</th><td>VSTM1</td><td>Monocytes C</td><td>Immunoglobulin like domain containing</td></tr><tr><th>26</th><td>NT5DC4</td><td>Monocytes I</td><td>5&apos;-nucleotidase domain containing 4</td></tr><tr><th>27</th><td>CASP5</td><td>Monocytes NC</td><td>Caspases|Caspase recruitment domain containing</td></tr><tr><th>28</th><td>CTSL</td><td>Monocytes NC+I</td><td>Cathepsins</td></tr><tr><th>29</th><td>LILRA1</td><td>Monocytes NC+I</td><td>CD molecules|Activating leukocyte immunoglobulin like receptors</td></tr><tr><th>30</th><td>LILRB2</td><td>Monocytes NC+I</td><td>CD molecules|Inhibitory leukocyte immunoglobulin like receptors|Ig-like cell adhesion molecule family</td></tr><tr><th>&vellip;</th><td>&vellip;</td><td>&vellip;</td><td>&vellip;</td></tr></tbody></table></div>"
      ],
      "text/latex": [
       "\\begin{tabular}{r|cccc}\n",
       "\t& Gene & Immune Population & Group & \\\\\n",
       "\t\\hline\n",
       "\t& String31 & String & String & \\\\\n",
       "\t\\hline\n",
       "\t1 & COL9A3 & B NSM & Collagens|Collagen proteoglycans & $\\dots$ \\\\\n",
       "\t2 & FAM177B & B Naive & Family with sequence similarity 177 member B & $\\dots$ \\\\\n",
       "\t3 & GLYATL1B & B Naive & Glycine-N-acyltransferase like 1B & $\\dots$ \\\\\n",
       "\t4 & ZNF860 & B Naive+Memory & Zinc fingers C2H2-type & $\\dots$ \\\\\n",
       "\t5 & PLEKHG7 & B SM & Pleckstrin homology domain containing|Dbl family Rho GEFs & $\\dots$ \\\\\n",
       "\t6 & GCSAML & Basophils LD & Germinal center associated signaling and motility like & $\\dots$ \\\\\n",
       "\t7 & IL3RA & Basophils LD & CD molecules|Interleukin receptors|Pseudoautosomal region 1 & $\\dots$ \\\\\n",
       "\t8 & KRT81 & Basophils LD & Keratins, type II & $\\dots$ \\\\\n",
       "\t9 & KRT86 & Basophils LD & Keratins, type II & $\\dots$ \\\\\n",
       "\t10 & OR14L1P & Basophils LD & Olfactory receptors, family 14 & $\\dots$ \\\\\n",
       "\t11 & OR6K3 & Basophils LD & Olfactory receptors, family 6 & $\\dots$ \\\\\n",
       "\t12 & OXER1 & Basophils LD & Leukotriene receptors & $\\dots$ \\\\\n",
       "\t13 & RAB32 & Basophils LD & RAB, member RAS oncogene GTPases|A-kinase anchoring proteins & $\\dots$ \\\\\n",
       "\t14 & TRIM49D1 & Basophils LD & Ring finger proteins|Tripartite motif containing & $\\dots$ \\\\\n",
       "\t15 & TRIM49D2 & Basophils LD & Ring finger proteins|Tripartite motif containing & $\\dots$ \\\\\n",
       "\t16 & TRIM51 & Basophils LD & Ring finger proteins|Tripartite motif containing & $\\dots$ \\\\\n",
       "\t17 & TRIM64 & Basophils LD & Ring finger proteins|Tripartite motif containing & $\\dots$ \\\\\n",
       "\t18 & TRIM64B & Basophils LD & Ring finger proteins|Tripartite motif containing & $\\dots$ \\\\\n",
       "\t19 & UGT2B11 & Basophils LD & UDP glucuronosyltransferases & $\\dots$ \\\\\n",
       "\t20 & ADGRE3 & Granulocytes LD & Adhesion G protein-coupled receptors, subfamily E & $\\dots$ \\\\\n",
       "\t21 & CFH & MAIT & Sushi domain containing|Complement system regulators and receptors & $\\dots$ \\\\\n",
       "\t22 & CXCL2 & Monocytes C & Chemokine ligands & $\\dots$ \\\\\n",
       "\t23 & CXCL3 & Monocytes C & Chemokine ligands & $\\dots$ \\\\\n",
       "\t24 & GPR84 & Monocytes C & G protein-coupled receptors, Class A orphans & $\\dots$ \\\\\n",
       "\t25 & VSTM1 & Monocytes C & Immunoglobulin like domain containing & $\\dots$ \\\\\n",
       "\t26 & NT5DC4 & Monocytes I & 5'-nucleotidase domain containing 4 & $\\dots$ \\\\\n",
       "\t27 & CASP5 & Monocytes NC & Caspases|Caspase recruitment domain containing & $\\dots$ \\\\\n",
       "\t28 & CTSL & Monocytes NC+I & Cathepsins & $\\dots$ \\\\\n",
       "\t29 & LILRA1 & Monocytes NC+I & CD molecules|Activating leukocyte immunoglobulin like receptors & $\\dots$ \\\\\n",
       "\t30 & LILRB2 & Monocytes NC+I & CD molecules|Inhibitory leukocyte immunoglobulin like receptors|Ig-like cell adhesion molecule family & $\\dots$ \\\\\n",
       "\t$\\dots$ & $\\dots$ & $\\dots$ & $\\dots$ &  \\\\\n",
       "\\end{tabular}\n"
      ],
      "text/plain": [
       "\u001b[1m77×4 DataFrame\u001b[0m\n",
       "\u001b[1m Row \u001b[0m│\u001b[1m Gene     \u001b[0m\u001b[1m Immune Population \u001b[0m\u001b[1m Group                             \u001b[0m\u001b[1m Top bla\u001b[0m ⋯\n",
       "\u001b[1m     \u001b[0m│\u001b[90m String31 \u001b[0m\u001b[90m String            \u001b[0m\u001b[90m String                            \u001b[0m\u001b[90m Real   \u001b[0m ⋯\n",
       "─────┼──────────────────────────────────────────────────────────────────────────\n",
       "   1 │ COL9A3    B NSM              Collagens|Collagen proteoglycans           ⋯\n",
       "   2 │ FAM177B   B Naive            Family with sequence similarity …\n",
       "   3 │ GLYATL1B  B Naive            Glycine-N-acyltransferase like 1B\n",
       "   4 │ ZNF860    B Naive+Memory     Zinc fingers C2H2-type\n",
       "   5 │ PLEKHG7   B SM               Pleckstrin homology domain conta…          ⋯\n",
       "   6 │ GCSAML    Basophils LD       Germinal center associated signa…\n",
       "   7 │ IL3RA     Basophils LD       CD molecules|Interleukin recepto…\n",
       "   8 │ KRT81     Basophils LD       Keratins, type II\n",
       "   9 │ KRT86     Basophils LD       Keratins, type II                          ⋯\n",
       "  10 │ OR14L1P   Basophils LD       Olfactory receptors, family 14\n",
       "  11 │ OR6K3     Basophils LD       Olfactory receptors, family 6\n",
       "  ⋮  │    ⋮              ⋮                          ⋮                          ⋱\n",
       "  68 │ FPR3      mDCs               Formyl peptide receptors\n",
       "  69 │ CCDC183   pDCs               Coiled-coil domain containing 183          ⋯\n",
       "  70 │ CTSV      pDCs               Cathepsins\n",
       "  71 │ GGTA1     pDCs               Glycoprotein alpha-galactosyltra…\n",
       "  72 │ KCNK17    pDCs               Potassium two pore domain channe…\n",
       "  73 │ NLRP7     pDCs               NLR family|Pyrin domain containi…          ⋯\n",
       "  74 │ NOTCH4    pDCs               Notch receptors\n",
       "  75 │ PROC      pDCs               Receptor ligands|Gla domain cont…\n",
       "  76 │ SLC9C2    pDCs               Solute carriers\n",
       "  77 │ SMIM6     pDCs               Small integral membrane protein 6          ⋯\n",
       "\u001b[36m                                                    1 column and 56 rows omitted\u001b[0m"
      ]
     },
     "execution_count": 13,
     "metadata": {},
     "output_type": "execute_result"
    }
   ],
   "source": [
    "ge_x_in = sort(\n",
    "    DataFrame(\n",
    "        \"Gene\" => co_,\n",
    "        uppercasefirst(na) => se_,\n",
    "        \"Group\" => gr_,\n",
    "        \"Top blastp against mouse\" => bl_,\n",
    "    ),\n",
    "    na,\n",
    ")\n",
    "\n",
    "if mu\n",
    "\n",
    "    ge_x_in = ge_x_in[\n",
    "        [\n",
    "            !any(all(haskey(sen_ge_, sp) for sp in sp_) for sen_ge_ in (se1_ge_, se2_ge_)) for\n",
    "            sp_ in split.(ge_x_in[!, na], \" & \")\n",
    "        ],\n",
    "        :,\n",
    "    ]\n",
    "\n",
    "end\n",
    "\n",
    "OnePiece.table.write(joinpath(di, \"gene_x_information.tsv\"), ge_x_in)\n",
    "\n",
    "ge_x_in"
   ]
  },
  {
   "cell_type": "markdown",
   "id": "5cc39a2e",
   "metadata": {},
   "source": [
    "## Plot"
   ]
  },
  {
   "cell_type": "code",
   "execution_count": 14,
   "id": "aa25a996",
   "metadata": {
    "execution": {
     "iopub.execute_input": "2022-08-09T23:10:23.431000Z",
     "iopub.status.busy": "2022-08-09T23:10:23.431000Z",
     "iopub.status.idle": "2022-08-09T23:10:24.228000Z",
     "shell.execute_reply": "2022-08-09T23:10:24.228000Z"
    }
   },
   "outputs": [
    {
     "data": {
      "text/plain": [
       "Dict{String, Any} with 7 entries:\n",
       "  \"height\"   => 1500\n",
       "  \"margin_b\" => 240\n",
       "  \"xaxis\"    => Dict{String, Any}(\"automargin\"=>true, \"title\"=>Dict{String, Any…\n",
       "  \"title\"    => Dict{String, Any}(\"font_size\"=>32, \"text\"=>\"<b>Number of Human …\n",
       "  \"barmode\"  => \"stack\"\n",
       "  \"width\"    => 2427\n",
       "  \"yaxis\"    => Dict{String, Any}(\"automargin\"=>true, \"title\"=>Dict{String, Any…"
      ]
     },
     "execution_count": 14,
     "metadata": {},
     "output_type": "execute_result"
    }
   ],
   "source": [
    "he = 1500\n",
    "\n",
    "if mu\n",
    "\n",
    "    he /= 2\n",
    "\n",
    "end\n",
    "\n",
    "wi = round(Int, he * MathConstants.golden)\n",
    "\n",
    "axis_title_font_size = 48\n",
    "\n",
    "layout = Dict(\n",
    "    \"barmode\" => \"stack\",\n",
    "    \"height\" => he,\n",
    "    \"width\" => wi,\n",
    "    \"margin_b\" => 240,\n",
    "    \"title\" => Dict(\"text\" => \"<b>Number of Human Genes in $(na)<b>\", \"font_size\" => 32),\n",
    "    \"yaxis\" => Dict(\n",
    "        \"title\" => Dict(\n",
    "            \"text\" => \"<b>Number of Human Genes<b>\",\n",
    "            \"font_size\" => axis_title_font_size,\n",
    "        ),\n",
    "        \"automargin\" => true,\n",
    "    ),\n",
    "    \"xaxis\" => Dict(\n",
    "        \"title\" => Dict(\"text\" => \"<b>$na<b>\", \"font_size\" => axis_title_font_size),\n",
    "        #\"tickangle\" => 60,\n",
    "        \"automargin\" => true,\n",
    "    ),\n",
    ")"
   ]
  },
  {
   "cell_type": "code",
   "execution_count": 15,
   "id": "730f8c92",
   "metadata": {
    "execution": {
     "iopub.execute_input": "2022-08-09T23:10:24.231000Z",
     "iopub.status.busy": "2022-08-09T23:10:24.231000Z",
     "iopub.status.idle": "2022-08-09T23:10:25.859000Z",
     "shell.execute_reply": "2022-08-09T23:10:25.858000Z"
    }
   },
   "outputs": [
    {
     "name": "stdout",
     "output_type": "stream",
     "text": [
      "Made /Users/kwat/craft/pro/HumanGene.pro/output/immune_population/genes.html.\n"
     ]
    },
    {
     "data": {
      "text/plain": [
       "\"/Users/kwat/craft/pro/HumanGene.pro/output/immune_population/genes.html\""
      ]
     },
     "execution_count": 15,
     "metadata": {},
     "output_type": "execute_result"
    }
   ],
   "source": [
    "se_n = sort(countmap(ge_x_in[!, na]), byvalue = true)\n",
    "\n",
    "x = collect(keys(se_n))\n",
    "\n",
    "y = collect(values(se_n))\n",
    "\n",
    "OnePiece.figure.plot_bar([y], [x], layout = layout, ou = joinpath(di, \"genes.html\"))"
   ]
  },
  {
   "cell_type": "code",
   "execution_count": 16,
   "id": "c7a1ca9b",
   "metadata": {
    "execution": {
     "iopub.execute_input": "2022-08-09T23:10:25.862000Z",
     "iopub.status.busy": "2022-08-09T23:10:25.862000Z",
     "iopub.status.idle": "2022-08-09T23:10:26.282000Z",
     "shell.execute_reply": "2022-08-09T23:10:26.282000Z"
    }
   },
   "outputs": [
    {
     "name": "stdout",
     "output_type": "stream",
     "text": [
      "Made /Users/kwat/craft/pro/HumanGene.pro/output/immune_population/genes_by_group.html.\n"
     ]
    },
    {
     "data": {
      "text/plain": [
       "\"/Users/kwat/craft/pro/HumanGene.pro/output/immune_population/genes_by_group.html\""
      ]
     },
     "execution_count": 16,
     "metadata": {},
     "output_type": "execute_result"
    }
   ],
   "source": [
    "name_ = []\n",
    "\n",
    "y_ = []\n",
    "\n",
    "id = 1\n",
    "\n",
    "for gr in unique(ge_x_in[!, \"Group\"])\n",
    "\n",
    "    push!(name_, gr)\n",
    "\n",
    "    n_be_ = []\n",
    "\n",
    "    for se in x\n",
    "\n",
    "        da = ge_x_in[ge_x_in[!, na] .== se, :]\n",
    "\n",
    "        gr_ = da[!, \"Group\"]\n",
    "\n",
    "        n_be = sum(gr_ .== gr)\n",
    "\n",
    "        push!(n_be_, n_be)\n",
    "\n",
    "    end\n",
    "\n",
    "    push!(y_, n_be_)\n",
    "\n",
    "end\n",
    "\n",
    "OnePiece.figure.plot_bar(\n",
    "    y_,\n",
    "    fill(x, length(y_)),\n",
    "    name_ = name_,\n",
    "    layout = layout,\n",
    "    ou = joinpath(di, \"genes_by_group.html\"),\n",
    ")"
   ]
  },
  {
   "cell_type": "code",
   "execution_count": 17,
   "id": "1e010a89",
   "metadata": {
    "execution": {
     "iopub.execute_input": "2022-08-09T23:10:26.288000Z",
     "iopub.status.busy": "2022-08-09T23:10:26.288000Z",
     "iopub.status.idle": "2022-08-09T23:10:26.294000Z",
     "shell.execute_reply": "2022-08-09T23:10:26.294000Z"
    }
   },
   "outputs": [],
   "source": [
    "if mu\n",
    "\n",
    "    se2_se1_ = Dict()\n",
    "\n",
    "    for st in ge_x_in[!, na]\n",
    "\n",
    "        sp_ = split(st, \" & \")\n",
    "\n",
    "        se2_ = [haskey(se2_ge_, sp) for sp in sp_]\n",
    "\n",
    "        no_ = sp_[.!se2_]\n",
    "\n",
    "        for se2 in sp_[se2_]\n",
    "\n",
    "            if haskey(se2_se1_, se2)\n",
    "\n",
    "                append!(se2_se1_[se2], no_)\n",
    "\n",
    "            else\n",
    "\n",
    "                se2_se1_[se2] = copy(no_)\n",
    "\n",
    "            end\n",
    "\n",
    "        end\n",
    "\n",
    "    end\n",
    "\n",
    "    se2_se1_ = sort(se2_se1_)\n",
    "\n",
    "    la[\"xaxis\"][\"title\"][\"text\"] = \"<b>$na1<b>\"\n",
    "\n",
    "    x = collect(keys(sort(countmap(vcat(values(se2_se1_)...)), byvalue = true)))\n",
    "\n",
    "    OnePiece.figure.plot_bar(\n",
    "        [[sum(se1_ .== xx) for xx in x] for (se2, se1_) in se2_se1_],\n",
    "        fill(x, length(se2_se1_)),\n",
    "        name_ = collect(keys(se2_se1_)),\n",
    "        layout = layout,\n",
    "        ou = joinpath(di, \"genes_by_set.html\"),\n",
    "    )\n",
    "\n",
    "end"
   ]
  }
 ],
 "metadata": {
  "@webio": {
   "lastCommId": null,
   "lastKernelId": null
  },
  "kernelspec": {
   "display_name": "Julia 1.7.3",
   "language": "julia",
   "name": "julia-1.7"
  },
  "language_info": {
   "file_extension": ".jl",
   "mimetype": "application/julia",
   "name": "julia",
   "version": "1.7.3"
  }
 },
 "nbformat": 4,
 "nbformat_minor": 5
}
