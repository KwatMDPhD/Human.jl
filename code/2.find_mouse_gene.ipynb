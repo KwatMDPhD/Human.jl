{
 "cells": [
  {
   "cell_type": "code",
   "execution_count": null,
   "id": "f468ff1c-181d-4f4f-9189-b26dbbd3faa2",
   "metadata": {
    "execution": {
     "iopub.execute_input": "2021-11-28T10:15:53.631545Z",
     "iopub.status.busy": "2021-11-28T10:15:53.026309Z",
     "iopub.status.idle": "2021-11-28T10:16:00.090044Z",
     "shell.execute_reply": "2021-11-28T10:16:00.089380Z"
    }
   },
   "outputs": [],
   "source": [
    "include(\"_.jl\")"
   ]
  },
  {
   "cell_type": "code",
   "execution_count": null,
   "id": "830455ee-2650-4fd8-bd7f-a65789db6f7c",
   "metadata": {
    "execution": {
     "iopub.execute_input": "2021-11-28T10:16:00.324830Z",
     "iopub.status.busy": "2021-11-28T10:16:00.091635Z",
     "iopub.status.idle": "2021-11-28T10:16:02.502733Z",
     "shell.execute_reply": "2021-11-28T10:16:02.502296Z"
    }
   },
   "outputs": [],
   "source": [
    "me_ge_ = OrderedDict{String,Vector{String}}()"
   ]
  },
  {
   "cell_type": "code",
   "execution_count": null,
   "id": "be4f9979",
   "metadata": {
    "execution": {
     "iopub.execute_input": "2021-11-28T10:16:02.505507Z",
     "iopub.status.busy": "2021-11-28T10:16:02.504350Z",
     "iopub.status.idle": "2021-11-28T10:16:26.913543Z",
     "shell.execute_reply": "2021-11-28T10:16:26.913067Z"
    }
   },
   "outputs": [],
   "source": [
    "en = Gene.read_ensembl(; or = \"mouse\")\n",
    "\n",
    "PR_ = unique(en[en[!, \"Gene type\"].==\"protein_coding\", \"Gene name\"])\n",
    "\n",
    "println(sum(ismissing.(PR_)))\n",
    "\n",
    "PR_ = sort(string.(PR_))\n",
    "\n",
    "length(PR_)"
   ]
  },
  {
   "cell_type": "markdown",
   "id": "20d22756",
   "metadata": {},
   "source": [
    "## Ensembl"
   ]
  },
  {
   "cell_type": "code",
   "execution_count": null,
   "id": "736fe7f5",
   "metadata": {
    "execution": {
     "iopub.execute_input": "2021-11-28T10:16:26.915620Z",
     "iopub.status.busy": "2021-11-28T10:16:26.915005Z",
     "iopub.status.idle": "2021-11-28T10:16:42.980049Z",
     "shell.execute_reply": "2021-11-28T10:16:42.979485Z"
    }
   },
   "outputs": [],
   "source": [
    "or = TableAccess.read(joinpath(PAI, \"ensembl\", \"mouse_to_human.tsv.gz\"))\n",
    "\n",
    "mo = \"Gene name\"\n",
    "\n",
    "hu = \"Human gene name\"\n",
    "\n",
    "dropmissing!(or, [mo, hu])\n",
    "\n",
    "or[!, hu] = Gene.rename(convert(Vector{String}, or[!, hu]))[1]\n",
    "\n",
    "mo_hu = Dict(ro[mo] => ro[hu] for ro in eachrow(or))\n",
    "\n",
    "println(length(mo_hu))\n",
    "\n",
    "me_ge_[\"Ensembl\"] = [pr for pr in PR_ if !haskey(mo_hu, pr)]"
   ]
  },
  {
   "cell_type": "markdown",
   "id": "7629b1e5",
   "metadata": {},
   "source": [
    "## Mouse Genome Informatics"
   ]
  },
  {
   "cell_type": "code",
   "execution_count": null,
   "id": "25ab4531",
   "metadata": {
    "execution": {
     "iopub.execute_input": "2021-11-28T10:16:42.982691Z",
     "iopub.status.busy": "2021-11-28T10:16:42.981995Z",
     "iopub.status.idle": "2021-11-28T10:16:53.472406Z",
     "shell.execute_reply": "2021-11-28T10:16:53.471815Z"
    }
   },
   "outputs": [],
   "source": [
    "mg = TableAccess.read(joinpath(PAI, \"HOM_MouseHumanSequence.rpt.txt.gz\"))\n",
    "\n",
    "se_ = mg[!, \"Common Organism Name\"] .== \"human\"\n",
    "\n",
    "mg[se_, \"Symbol\"] .= Gene.rename(string.(mg[se_, \"Symbol\"]))[1]\n",
    "\n",
    ";"
   ]
  },
  {
   "cell_type": "code",
   "execution_count": null,
   "id": "34620e6a",
   "metadata": {
    "execution": {
     "iopub.execute_input": "2021-11-28T10:16:53.474655Z",
     "iopub.status.busy": "2021-11-28T10:16:53.473944Z",
     "iopub.status.idle": "2021-11-28T10:16:55.440082Z",
     "shell.execute_reply": "2021-11-28T10:16:55.439582Z"
    }
   },
   "outputs": [],
   "source": [
    "mo_hu = Dict{String,String}()\n",
    "\n",
    "for da in groupby(mg, \"DB Class Key\")\n",
    "\n",
    "    sy_ = da[!, \"Symbol\"]\n",
    "\n",
    "    se_ = da[!, \"Common Organism Name\"] .== \"mouse, laboratory\"\n",
    "\n",
    "    for mo in sy_[se_], hu in sy_[.!se_]\n",
    "\n",
    "        mo_hu[mo] = hu\n",
    "\n",
    "    end\n",
    "\n",
    "end\n",
    "\n",
    "println(length(mo_hu))\n",
    "\n",
    "me_ge_[\"MGI\"] = [pr for pr in PR_ if !haskey(mo_hu, pr)]"
   ]
  },
  {
   "cell_type": "markdown",
   "id": "92d4271d",
   "metadata": {},
   "source": [
    "## Write"
   ]
  },
  {
   "cell_type": "code",
   "execution_count": null,
   "id": "27fce6e1",
   "metadata": {
    "execution": {
     "iopub.execute_input": "2021-11-28T10:16:55.442237Z",
     "iopub.status.busy": "2021-11-28T10:16:55.441598Z",
     "iopub.status.idle": "2021-11-28T10:16:55.759570Z",
     "shell.execute_reply": "2021-11-28T10:16:55.759003Z"
    }
   },
   "outputs": [],
   "source": [
    "DictExtension.write(joinpath(PAO, \"method_to_mouse_genes.json\"), sort(me_ge_))"
   ]
  },
  {
   "cell_type": "code",
   "execution_count": null,
   "id": "603ae9ea",
   "metadata": {
    "execution": {
     "iopub.execute_input": "2021-11-28T10:16:55.761656Z",
     "iopub.status.busy": "2021-11-28T10:16:55.761025Z",
     "iopub.status.idle": "2021-11-28T10:17:02.577931Z",
     "shell.execute_reply": "2021-11-28T10:17:02.577079Z"
    }
   },
   "outputs": [],
   "source": [
    "ge_ = unique(vcat(values(me_ge_)...))\n",
    "\n",
    "an_ge_me = DataFrame(\"Gene\" => ge_)\n",
    "\n",
    "for (me, se_) in me_ge_\n",
    "\n",
    "    an_ge_me[!, me] = [ge in se_ for ge in ge_]\n",
    "\n",
    "end\n",
    "\n",
    "an_ge_me[!, \"Sum\"] = vec(sum(Matrix(an_ge_me[!, 2:end]); dims = 2))\n",
    "\n",
    "sort!(an_ge_me, \"Sum\"; rev = true)\n",
    "\n",
    "TableAccess.write(joinpath(PAO, \"mouse_gene_by_method.tsv\"), an_ge_me)\n",
    "\n",
    "an_ge_me"
   ]
  }
 ],
 "metadata": {
  "@webio": {
   "lastCommId": null,
   "lastKernelId": null
  },
  "kernelspec": {
   "display_name": "Julia 1.6.4",
   "language": "julia",
   "name": "julia-1.6"
  },
  "language_info": {
   "file_extension": ".jl",
   "mimetype": "application/julia",
   "name": "julia",
   "version": "1.6.4"
  }
 },
 "nbformat": 4,
 "nbformat_minor": 5
}
