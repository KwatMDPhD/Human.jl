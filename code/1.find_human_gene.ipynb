{
 "cells": [
  {
   "cell_type": "code",
   "execution_count": 1,
   "id": "f468ff1c-181d-4f4f-9189-b26dbbd3faa2",
   "metadata": {
    "execution": {
     "iopub.execute_input": "2021-12-07T23:42:10.930708Z",
     "iopub.status.busy": "2021-12-07T23:42:10.464748Z",
     "iopub.status.idle": "2021-12-07T23:42:24.040483Z",
     "shell.execute_reply": "2021-12-07T23:42:24.039830Z"
    }
   },
   "outputs": [
    {
     "data": {
      "application/vnd.webio.node+json": {
       "children": [],
       "instanceArgs": {
        "namespace": "html",
        "tag": "div"
       },
       "nodeType": "DOM",
       "props": {},
       "type": "node"
      },
      "text/html": [
       "<div style=\"padding: 1em; background-color: #f8d6da; border: 1px solid #f5c6cb; font-weight: bold;\">\n",
       "<p>The WebIO Jupyter extension was not detected. See the\n",
       "<a href=\"https://juliagizmos.github.io/WebIO.jl/latest/providers/ijulia/\" target=\"_blank\">\n",
       "    WebIO Jupyter integration documentation\n",
       "</a>\n",
       "for more information.\n",
       "</div>\n"
      ],
      "text/plain": [
       "WebIO._IJuliaInit()"
      ]
     },
     "metadata": {},
     "output_type": "display_data"
    },
    {
     "data": {
      "text/plain": [
       "write_gene_by_method (generic function with 1 method)"
      ]
     },
     "execution_count": 1,
     "metadata": {},
     "output_type": "execute_result"
    }
   ],
   "source": [
    "include(\"_.jl\")"
   ]
  },
  {
   "cell_type": "code",
   "execution_count": 2,
   "id": "830455ee-2650-4fd8-bd7f-a65789db6f7c",
   "metadata": {
    "execution": {
     "iopub.execute_input": "2021-12-07T23:42:25.328543Z",
     "iopub.status.busy": "2021-12-07T23:42:24.041704Z",
     "iopub.status.idle": "2021-12-07T23:42:26.390289Z",
     "shell.execute_reply": "2021-12-07T23:42:26.389699Z"
    }
   },
   "outputs": [],
   "source": [
    "me_ge_ = OrderedDict{String,Vector{String}}()\n",
    "\n",
    ";"
   ]
  },
  {
   "cell_type": "code",
   "execution_count": 3,
   "id": "70721949",
   "metadata": {
    "execution": {
     "iopub.execute_input": "2021-12-07T23:42:26.392289Z",
     "iopub.status.busy": "2021-12-07T23:42:26.391690Z",
     "iopub.status.idle": "2021-12-07T23:42:56.902466Z",
     "shell.execute_reply": "2021-12-07T23:42:56.901989Z"
    }
   },
   "outputs": [
    {
     "data": {
      "text/plain": [
       "19229-element Vector{String}:\n",
       " \"A1BG\"\n",
       " \"A1CF\"\n",
       " \"A2M\"\n",
       " \"A2ML1\"\n",
       " \"A3GALT2\"\n",
       " \"A4GALT\"\n",
       " \"A4GNT\"\n",
       " \"AAAS\"\n",
       " \"AACS\"\n",
       " \"AADAC\"\n",
       " \"AADACL2\"\n",
       " \"AADACL3\"\n",
       " \"AADACL4\"\n",
       " ⋮\n",
       " \"ZUP1\"\n",
       " \"ZW10\"\n",
       " \"ZWILCH\"\n",
       " \"ZWINT\"\n",
       " \"ZXDA\"\n",
       " \"ZXDB\"\n",
       " \"ZXDC\"\n",
       " \"ZYG11A\"\n",
       " \"ZYG11B\"\n",
       " \"ZYX\"\n",
       " \"ZZEF1\"\n",
       " \"ZZZ3\""
      ]
     },
     "execution_count": 3,
     "metadata": {},
     "output_type": "execute_result"
    }
   ],
   "source": [
    "hg = Gene.read_hgnc()\n",
    "\n",
    "pr_ = unique(skipmissing(hg[hg[!, \"locus_group\"].==\"protein-coding gene\", \"symbol\"]))\n",
    "\n",
    "pr_ = sort(string.(pr_))"
   ]
  },
  {
   "cell_type": "markdown",
   "id": "20d22756",
   "metadata": {},
   "source": [
    "## Ensembl"
   ]
  },
  {
   "cell_type": "code",
   "execution_count": 4,
   "id": "5fddf7aa",
   "metadata": {
    "execution": {
     "iopub.execute_input": "2021-12-07T23:42:56.904495Z",
     "iopub.status.busy": "2021-12-07T23:42:56.903901Z",
     "iopub.status.idle": "2021-12-07T23:43:09.668759Z",
     "shell.execute_reply": "2021-12-07T23:43:09.668252Z"
    }
   },
   "outputs": [
    {
     "name": "stdout",
     "output_type": "stream",
     "text": [
      "Kept 23879\n",
      "Named 174\n",
      "Failed 0\n",
      "18813\n"
     ]
    },
    {
     "data": {
      "text/plain": [
       "1985-element Vector{String}:\n",
       " \"A2ML1\"\n",
       " \"ABCA10\"\n",
       " \"ABCC11\"\n",
       " \"ACP7\"\n",
       " \"ACSM6\"\n",
       " \"ACTL8\"\n",
       " \"ACTN4\"\n",
       " \"ACTR6\"\n",
       " \"ACYP1\"\n",
       " \"ADA2\"\n",
       " \"ADAM18\"\n",
       " \"ADAM19\"\n",
       " \"ADAM32\"\n",
       " ⋮\n",
       " \"ZNF99\"\n",
       " \"ZP4\"\n",
       " \"ZSCAN1\"\n",
       " \"ZSCAN16\"\n",
       " \"ZSCAN23\"\n",
       " \"ZSCAN30\"\n",
       " \"ZSCAN31\"\n",
       " \"ZSCAN32\"\n",
       " \"ZSCAN4\"\n",
       " \"ZSCAN9\"\n",
       " \"ZXDA\"\n",
       " \"ZXDB\""
      ]
     },
     "execution_count": 4,
     "metadata": {},
     "output_type": "execute_result"
    }
   ],
   "source": [
    "hu_mo = Gene.map_mouse(; di = \"human_to_mouse\")\n",
    "\n",
    "me_ge_[\"Ensembl\"] = [pr for pr in pr_ if !haskey(hu_mo, pr)]"
   ]
  },
  {
   "cell_type": "markdown",
   "id": "7f0a8f10-9c98-4822-8df9-0613bf5f316b",
   "metadata": {},
   "source": [
    "## Mouse Genome Informatics"
   ]
  },
  {
   "cell_type": "code",
   "execution_count": 5,
   "id": "797cfdee",
   "metadata": {
    "execution": {
     "iopub.execute_input": "2021-12-07T23:43:09.671009Z",
     "iopub.status.busy": "2021-12-07T23:43:09.670293Z",
     "iopub.status.idle": "2021-12-07T23:43:30.610631Z",
     "shell.execute_reply": "2021-12-07T23:43:30.610166Z"
    }
   },
   "outputs": [
    {
     "name": "stdout",
     "output_type": "stream",
     "text": [
      "Kept 23879\n",
      "Named 174\n",
      "Failed 0\n",
      "19416\n",
      "Kept 22477\n",
      "Named 29\n",
      "Failed 17\n",
      "18948\n"
     ]
    },
    {
     "data": {
      "text/plain": [
       "1229-element Vector{String}:\n",
       " \"ABCA10\"\n",
       " \"ABCC11\"\n",
       " \"ACSM6\"\n",
       " \"ACTL8\"\n",
       " \"ADA2\"\n",
       " \"ADGRD2\"\n",
       " \"ADIRF\"\n",
       " \"ADM5\"\n",
       " \"AKR1C8\"\n",
       " \"AMY1A\"\n",
       " \"ANGPTL5\"\n",
       " \"ANHX\"\n",
       " \"ANKRD30A\"\n",
       " ⋮\n",
       " \"ZNF888\"\n",
       " \"ZNF891\"\n",
       " \"ZNF90\"\n",
       " \"ZNF92\"\n",
       " \"ZNF98\"\n",
       " \"ZP4\"\n",
       " \"ZSCAN1\"\n",
       " \"ZSCAN16\"\n",
       " \"ZSCAN23\"\n",
       " \"ZSCAN31\"\n",
       " \"ZSCAN32\"\n",
       " \"ZSCAN9\""
      ]
     },
     "execution_count": 5,
     "metadata": {},
     "output_type": "execute_result"
    }
   ],
   "source": [
    "mg = TableAccess.read(joinpath(PAI, \"hom_mousehumansequence.rpt.txt.gz\"))\n",
    "\n",
    "se_ = mg[!, \"Common Organism Name\"] .== \"human\"\n",
    "\n",
    "mg[se_, \"Symbol\"] .= Gene.rename(string.(mg[se_, \"Symbol\"]))[1]\n",
    "\n",
    "hu_mo = Dict{String,String}()\n",
    "\n",
    "for da in groupby(mg, \"DB Class Key\")\n",
    "\n",
    "    sy_ = da[!, \"Symbol\"]\n",
    "\n",
    "    se_ = da[!, \"Common Organism Name\"] .== \"human\"\n",
    "\n",
    "    for hu in sy_[se_], mo in sy_[.!se_]\n",
    "\n",
    "        hu_mo[hu] = mo\n",
    "\n",
    "    end\n",
    "\n",
    "end\n",
    "\n",
    "println(length(hu_mo))\n",
    "\n",
    "me_ge_[\"MGI\"] = [pr for pr in pr_ if !haskey(hu_mo, pr)]"
   ]
  },
  {
   "cell_type": "markdown",
   "id": "4fb43872-569f-478a-b2e7-0c87f0b6014b",
   "metadata": {},
   "source": [
    "## 2011 De Novo Origin of Human Protein-Coding Genes"
   ]
  },
  {
   "cell_type": "code",
   "execution_count": 6,
   "id": "e24eff30",
   "metadata": {
    "execution": {
     "iopub.execute_input": "2021-12-07T23:43:30.612573Z",
     "iopub.status.busy": "2021-12-07T23:43:30.611994Z",
     "iopub.status.idle": "2021-12-07T23:43:47.993691Z",
     "shell.execute_reply": "2021-12-07T23:43:47.993187Z"
    }
   },
   "outputs": [
    {
     "name": "stdout",
     "output_type": "stream",
     "text": [
      "Kept 23879\n",
      "Named 174\n",
      "Failed 0\n",
      "19416\n",
      "Kept 2\n",
      "Named 9\n",
      "Failed 52\n"
     ]
    },
    {
     "data": {
      "text/plain": [
       "63-element Vector{String}:\n",
       " \"CLLU1\"\n",
       " \"c22orf45\"\n",
       " \"DNAH10OS\"\n",
       " \"ZNF843\"\n",
       " \"ENST00000440429\"\n",
       " \"CFAP99\"\n",
       " \"ENST00000416759\"\n",
       " \"ENST00000398976\"\n",
       " \"ENST00000413098\"\n",
       " \"LINC02073\"\n",
       " \"ENST00000408895\"\n",
       " \"ENST00000412222\"\n",
       " \"ENST00000443383\"\n",
       " ⋮\n",
       " \"ENST00000326801\"\n",
       " \"ENST00000382842\"\n",
       " \"ENST00000398378\"\n",
       " \"ENST00000258741\"\n",
       " \"ENST00000382805\"\n",
       " \"ACOXL-AS1\"\n",
       " \"PCBP3-AS1\"\n",
       " \"ENST00000315897\"\n",
       " \"ENST00000377180\"\n",
       " \"ENST00000391387\"\n",
       " \"ENST00000360340\"\n",
       " \"ENST00000379854\""
      ]
     },
     "execution_count": 6,
     "metadata": {},
     "output_type": "execute_result"
    }
   ],
   "source": [
    "tr_ = readlines(joinpath(PAI, \"de_novo_origin_of_human_protein_coding_genes\", \"genes.txt\"))\n",
    "\n",
    "me_ge_[\"2011 paper\"] = Gene.rename(vcat([\"CLLU1\", \"c22orf45\", \"DNAH10OS\"], tr_))[1]"
   ]
  },
  {
   "cell_type": "markdown",
   "id": "d50d66c1-4f64-4a22-b080-ffa781889616",
   "metadata": {},
   "source": [
    "## 2019 Genes with human-specific features are primarily involved with brain, immune and metabolic evolution"
   ]
  },
  {
   "cell_type": "code",
   "execution_count": 7,
   "id": "51728d63",
   "metadata": {
    "execution": {
     "iopub.execute_input": "2021-12-07T23:43:47.995706Z",
     "iopub.status.busy": "2021-12-07T23:43:47.995088Z",
     "iopub.status.idle": "2021-12-07T23:44:10.220379Z",
     "shell.execute_reply": "2021-12-07T23:44:10.219884Z"
    }
   },
   "outputs": [
    {
     "name": "stdout",
     "output_type": "stream",
     "text": [
      "Kept 23879\n",
      "Named 174\n",
      "Failed 0\n",
      "19416\n",
      "Kept 744\n",
      "Named 55\n",
      "Failed 74\n"
     ]
    },
    {
     "data": {
      "text/plain": [
       "873-element Vector{String}:\n",
       " \"39326\"\n",
       " \"AATBC\"\n",
       " \"ABCB10\"\n",
       " \"ABCC12\"\n",
       " \"ABCC6\"\n",
       " \"ABCD1P2\"\n",
       " \"ABCD1P5\"\n",
       " \"ABCD4\"\n",
       " \"ABHD17A\"\n",
       " \"ABHD17AP1\"\n",
       " \"AC005042.4\"\n",
       " \"AC005488.11\"\n",
       " \"AC008132.13\"\n",
       " ⋮\n",
       " \"ZNF355P\"\n",
       " \"ZNF492\"\n",
       " \"ZNF519\"\n",
       " \"ZNF595\"\n",
       " \"ZNF638\"\n",
       " \"ZNF705B\"\n",
       " \"ZNF705G\"\n",
       " \"ZNF790\"\n",
       " \"ZNF843\"\n",
       " \"ZNF85\"\n",
       " \"ZNF850\"\n",
       " \"ZNF962P\""
      ]
     },
     "execution_count": 7,
     "metadata": {},
     "output_type": "execute_result"
    }
   ],
   "source": [
    "an_ge_ir = TableAccess.read_xlsx(\n",
    "    joinpath(\n",
    "        PAI,\n",
    "        \"genes_with_human_specific_features_are_primarily_involved_with_brain,_immune_and_metabolic_evolution\",\n",
    "        \"12859_2019_2886_MOESM2_ESM.xlsx\",\n",
    "    ),\n",
    "    \"HumanSpecific Genes\",\n",
    ")\n",
    "\n",
    "me_ge_[\"2019 paper\"] = Gene.rename(string.(an_ge_ir[!, \"Gene Name\"]))[1]"
   ]
  },
  {
   "cell_type": "markdown",
   "id": "92d4271d",
   "metadata": {},
   "source": [
    "## Write"
   ]
  },
  {
   "cell_type": "code",
   "execution_count": 8,
   "id": "5318d013",
   "metadata": {
    "execution": {
     "iopub.execute_input": "2021-12-07T23:44:10.222424Z",
     "iopub.status.busy": "2021-12-07T23:44:10.221805Z",
     "iopub.status.idle": "2021-12-07T23:44:17.957163Z",
     "shell.execute_reply": "2021-12-07T23:44:17.956640Z"
    }
   },
   "outputs": [
    {
     "data": {
      "text/html": [
       "<div class=\"data-frame\"><p>2,996 rows × 6 columns</p><table class=\"data-frame\"><thead><tr><th></th><th>Gene</th><th>Ensembl</th><th>MGI</th><th>2011 paper</th><th>2019 paper</th><th>Sum</th></tr><tr><th></th><th title=\"String\">String</th><th title=\"Bool\">Bool</th><th title=\"Bool\">Bool</th><th title=\"Bool\">Bool</th><th title=\"Bool\">Bool</th><th title=\"Int64\">Int64</th></tr></thead><tbody><tr><th>1</th><td>DNAH10OS</td><td>1</td><td>1</td><td>1</td><td>1</td><td>4</td></tr><tr><th>2</th><td>ZNF843</td><td>1</td><td>1</td><td>1</td><td>1</td><td>4</td></tr><tr><th>3</th><td>AMY1A</td><td>1</td><td>1</td><td>0</td><td>1</td><td>3</td></tr><tr><th>4</th><td>ANGPTL5</td><td>1</td><td>1</td><td>0</td><td>1</td><td>3</td></tr><tr><th>5</th><td>ANKRD30A</td><td>1</td><td>1</td><td>0</td><td>1</td><td>3</td></tr><tr><th>6</th><td>ANKRD30BL</td><td>1</td><td>1</td><td>0</td><td>1</td><td>3</td></tr><tr><th>7</th><td>ARHGEF35</td><td>1</td><td>1</td><td>0</td><td>1</td><td>3</td></tr><tr><th>8</th><td>C20orf203</td><td>1</td><td>1</td><td>0</td><td>1</td><td>3</td></tr><tr><th>9</th><td>CLTCL1</td><td>1</td><td>1</td><td>0</td><td>1</td><td>3</td></tr><tr><th>10</th><td>CSAG1</td><td>1</td><td>1</td><td>0</td><td>1</td><td>3</td></tr><tr><th>11</th><td>DEFB114</td><td>1</td><td>1</td><td>0</td><td>1</td><td>3</td></tr><tr><th>12</th><td>FAM153A</td><td>1</td><td>1</td><td>0</td><td>1</td><td>3</td></tr><tr><th>13</th><td>GAGE1</td><td>1</td><td>1</td><td>0</td><td>1</td><td>3</td></tr><tr><th>14</th><td>GAGE10</td><td>1</td><td>1</td><td>0</td><td>1</td><td>3</td></tr><tr><th>15</th><td>GAGE12E</td><td>1</td><td>1</td><td>0</td><td>1</td><td>3</td></tr><tr><th>16</th><td>GAGE2A</td><td>1</td><td>1</td><td>0</td><td>1</td><td>3</td></tr><tr><th>17</th><td>GOLGA6L10</td><td>1</td><td>1</td><td>0</td><td>1</td><td>3</td></tr><tr><th>18</th><td>H3C14</td><td>1</td><td>1</td><td>0</td><td>1</td><td>3</td></tr><tr><th>19</th><td>H4C14</td><td>1</td><td>1</td><td>0</td><td>1</td><td>3</td></tr><tr><th>20</th><td>HTR3E</td><td>1</td><td>1</td><td>0</td><td>1</td><td>3</td></tr><tr><th>21</th><td>IL26</td><td>1</td><td>1</td><td>0</td><td>1</td><td>3</td></tr><tr><th>22</th><td>MYEOV</td><td>1</td><td>1</td><td>0</td><td>1</td><td>3</td></tr><tr><th>23</th><td>NBPF1</td><td>1</td><td>1</td><td>0</td><td>1</td><td>3</td></tr><tr><th>24</th><td>NBPF10</td><td>1</td><td>1</td><td>0</td><td>1</td><td>3</td></tr><tr><th>25</th><td>NBPF12</td><td>1</td><td>1</td><td>0</td><td>1</td><td>3</td></tr><tr><th>26</th><td>NBPF14</td><td>1</td><td>1</td><td>0</td><td>1</td><td>3</td></tr><tr><th>27</th><td>NBPF15</td><td>1</td><td>1</td><td>0</td><td>1</td><td>3</td></tr><tr><th>28</th><td>NBPF3</td><td>1</td><td>1</td><td>0</td><td>1</td><td>3</td></tr><tr><th>29</th><td>NOTCH2NLA</td><td>1</td><td>1</td><td>0</td><td>1</td><td>3</td></tr><tr><th>30</th><td>NPIPA1</td><td>1</td><td>1</td><td>0</td><td>1</td><td>3</td></tr><tr><th>&vellip;</th><td>&vellip;</td><td>&vellip;</td><td>&vellip;</td><td>&vellip;</td><td>&vellip;</td><td>&vellip;</td></tr></tbody></table></div>"
      ],
      "text/latex": [
       "\\begin{tabular}{r|cccccc}\n",
       "\t& Gene & Ensembl & MGI & 2011 paper & 2019 paper & Sum\\\\\n",
       "\t\\hline\n",
       "\t& String & Bool & Bool & Bool & Bool & Int64\\\\\n",
       "\t\\hline\n",
       "\t1 & DNAH10OS & 1 & 1 & 1 & 1 & 4 \\\\\n",
       "\t2 & ZNF843 & 1 & 1 & 1 & 1 & 4 \\\\\n",
       "\t3 & AMY1A & 1 & 1 & 0 & 1 & 3 \\\\\n",
       "\t4 & ANGPTL5 & 1 & 1 & 0 & 1 & 3 \\\\\n",
       "\t5 & ANKRD30A & 1 & 1 & 0 & 1 & 3 \\\\\n",
       "\t6 & ANKRD30BL & 1 & 1 & 0 & 1 & 3 \\\\\n",
       "\t7 & ARHGEF35 & 1 & 1 & 0 & 1 & 3 \\\\\n",
       "\t8 & C20orf203 & 1 & 1 & 0 & 1 & 3 \\\\\n",
       "\t9 & CLTCL1 & 1 & 1 & 0 & 1 & 3 \\\\\n",
       "\t10 & CSAG1 & 1 & 1 & 0 & 1 & 3 \\\\\n",
       "\t11 & DEFB114 & 1 & 1 & 0 & 1 & 3 \\\\\n",
       "\t12 & FAM153A & 1 & 1 & 0 & 1 & 3 \\\\\n",
       "\t13 & GAGE1 & 1 & 1 & 0 & 1 & 3 \\\\\n",
       "\t14 & GAGE10 & 1 & 1 & 0 & 1 & 3 \\\\\n",
       "\t15 & GAGE12E & 1 & 1 & 0 & 1 & 3 \\\\\n",
       "\t16 & GAGE2A & 1 & 1 & 0 & 1 & 3 \\\\\n",
       "\t17 & GOLGA6L10 & 1 & 1 & 0 & 1 & 3 \\\\\n",
       "\t18 & H3C14 & 1 & 1 & 0 & 1 & 3 \\\\\n",
       "\t19 & H4C14 & 1 & 1 & 0 & 1 & 3 \\\\\n",
       "\t20 & HTR3E & 1 & 1 & 0 & 1 & 3 \\\\\n",
       "\t21 & IL26 & 1 & 1 & 0 & 1 & 3 \\\\\n",
       "\t22 & MYEOV & 1 & 1 & 0 & 1 & 3 \\\\\n",
       "\t23 & NBPF1 & 1 & 1 & 0 & 1 & 3 \\\\\n",
       "\t24 & NBPF10 & 1 & 1 & 0 & 1 & 3 \\\\\n",
       "\t25 & NBPF12 & 1 & 1 & 0 & 1 & 3 \\\\\n",
       "\t26 & NBPF14 & 1 & 1 & 0 & 1 & 3 \\\\\n",
       "\t27 & NBPF15 & 1 & 1 & 0 & 1 & 3 \\\\\n",
       "\t28 & NBPF3 & 1 & 1 & 0 & 1 & 3 \\\\\n",
       "\t29 & NOTCH2NLA & 1 & 1 & 0 & 1 & 3 \\\\\n",
       "\t30 & NPIPA1 & 1 & 1 & 0 & 1 & 3 \\\\\n",
       "\t$\\dots$ & $\\dots$ & $\\dots$ & $\\dots$ & $\\dots$ & $\\dots$ & $\\dots$ \\\\\n",
       "\\end{tabular}\n"
      ],
      "text/plain": [
       "\u001b[1m2996×6 DataFrame\u001b[0m\n",
       "\u001b[1m  Row \u001b[0m│\u001b[1m Gene      \u001b[0m\u001b[1m Ensembl \u001b[0m\u001b[1m MGI   \u001b[0m\u001b[1m 2011 paper \u001b[0m\u001b[1m 2019 paper \u001b[0m\u001b[1m Sum   \u001b[0m\n",
       "\u001b[1m      \u001b[0m│\u001b[90m String    \u001b[0m\u001b[90m Bool    \u001b[0m\u001b[90m Bool  \u001b[0m\u001b[90m Bool       \u001b[0m\u001b[90m Bool       \u001b[0m\u001b[90m Int64 \u001b[0m\n",
       "──────┼──────────────────────────────────────────────────────────\n",
       "    1 │ DNAH10OS      true   true        true        true      4\n",
       "    2 │ ZNF843        true   true        true        true      4\n",
       "    3 │ AMY1A         true   true       false        true      3\n",
       "    4 │ ANGPTL5       true   true       false        true      3\n",
       "    5 │ ANKRD30A      true   true       false        true      3\n",
       "    6 │ ANKRD30BL     true   true       false        true      3\n",
       "    7 │ ARHGEF35      true   true       false        true      3\n",
       "    8 │ C20orf203     true   true       false        true      3\n",
       "    9 │ CLTCL1        true   true       false        true      3\n",
       "   10 │ CSAG1         true   true       false        true      3\n",
       "   11 │ DEFB114       true   true       false        true      3\n",
       "  ⋮   │     ⋮         ⋮       ⋮        ⋮           ⋮         ⋮\n",
       " 2987 │ ZNF271P      false  false       false        true      1\n",
       " 2988 │ ZNF286A      false  false       false        true      1\n",
       " 2989 │ ZNF322       false  false       false        true      1\n",
       " 2990 │ ZNF322P1     false  false       false        true      1\n",
       " 2991 │ ZNF355P      false  false       false        true      1\n",
       " 2992 │ ZNF519       false  false       false        true      1\n",
       " 2993 │ ZNF638       false  false       false        true      1\n",
       " 2994 │ ZNF85        false  false       false        true      1\n",
       " 2995 │ ZNF850       false  false       false        true      1\n",
       " 2996 │ ZNF962P      false  false       false        true      1\n",
       "\u001b[36m                                                2975 rows omitted\u001b[0m"
      ]
     },
     "execution_count": 8,
     "metadata": {},
     "output_type": "execute_result"
    }
   ],
   "source": [
    "an_ge_me = write_gene_by_method(PAO, \"human\", me_ge_)"
   ]
  }
 ],
 "metadata": {
  "@webio": {
   "lastCommId": "6af5a2d5b03e48f5a521cef3e2fdf409",
   "lastKernelId": "ca8ec1d8-3178-4a3b-a2b6-5b9a653fca83"
  },
  "kernelspec": {
   "display_name": "Julia 1.7.0",
   "language": "julia",
   "name": "julia-1.7"
  },
  "language_info": {
   "file_extension": ".jl",
   "mimetype": "application/julia",
   "name": "julia",
   "version": "1.7.0"
  }
 },
 "nbformat": 4,
 "nbformat_minor": 5
}
