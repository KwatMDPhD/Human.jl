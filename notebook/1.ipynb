{
 "cells": [
  {
   "cell_type": "code",
   "execution_count": null,
   "id": "94082485-3992-4018-832a-13cd00084efd",
   "metadata": {},
   "outputs": [],
   "source": [
    "using Revise"
   ]
  },
  {
   "cell_type": "code",
   "execution_count": null,
   "id": "69fefc5b-622b-46cf-aa9c-95afd66cd44a",
   "metadata": {},
   "outputs": [],
   "source": [
    "using DataFrames\n",
    "using XLSX\n",
    "\n",
    "using DataIO"
   ]
  },
  {
   "cell_type": "markdown",
   "id": "8dcf5a16-87a1-4336-82b7-784deeddd64c",
   "metadata": {},
   "source": [
    "## Make sets"
   ]
  },
  {
   "cell_type": "code",
   "execution_count": null,
   "id": "830455ee-2650-4fd8-bd7f-a65789db6f7c",
   "metadata": {},
   "outputs": [],
   "source": [
    "set_to_gene_ = Dict{String, Vector{String}}()"
   ]
  },
  {
   "cell_type": "markdown",
   "id": "8db557c8-7f6e-4bbb-b9b8-255498ced7cf",
   "metadata": {},
   "source": [
    "### RNA-Seq Signatures Normalized by mRNA Abundance Allow Absolute Deconvolution of Human Immune Cell Types"
   ]
  },
  {
   "cell_type": "code",
   "execution_count": null,
   "id": "047da812-310a-459e-a8ef-937fb1645d0b",
   "metadata": {},
   "outputs": [],
   "source": [
    "function read_(p, s)\n",
    "    \n",
    "    DataFrame(XLSX.readtable(p, s)...)[:, 1:2]\n",
    "    \n",
    "end"
   ]
  },
  {
   "cell_type": "code",
   "execution_count": null,
   "id": "17bb3271-ca42-445e-9942-4faa3eaa5743",
   "metadata": {},
   "outputs": [],
   "source": [
    "d = read_(\"../../BloodBloodEverywhere.nb/data/RNA-Seq Signatures Normalized by mRNA Abundance Allow Absolute Deconvolution of Human Immune Cell Types/mmc4.xlsx\", \"DEG modules\")"
   ]
  },
  {
   "cell_type": "code",
   "execution_count": null,
   "id": "98594435-f23d-43d9-bd22-366d0cdb79f9",
   "metadata": {},
   "outputs": [],
   "source": [
    "for (gene, set) in eachrow(d)\n",
    "    \n",
    "    if !(gene isa String)\n",
    "        \n",
    "        println(set, \"    \", gene)\n",
    "        \n",
    "        continue\n",
    "        \n",
    "    end\n",
    "    \n",
    "    if haskey(set_to_gene_, set)\n",
    "        \n",
    "        push!(set_to_gene_[set], gene)\n",
    "        \n",
    "    else\n",
    "        \n",
    "        set_to_gene_[set] = [gene]\n",
    "        \n",
    "    end\n",
    "    \n",
    "end\n",
    "\n",
    "set_to_gene_"
   ]
  },
  {
   "cell_type": "markdown",
   "id": "89414997-7b6a-4fd2-8a7b-ecbd99986df1",
   "metadata": {},
   "source": [
    "### De Novo Origin of Human Protein-Coding Genes"
   ]
  },
  {
   "cell_type": "code",
   "execution_count": null,
   "id": "0a2069b1-6f1d-4ca9-86d9-ccce196b994d",
   "metadata": {},
   "outputs": [],
   "source": [
    "enst_ = \"\"\"\n",
    "ENST00000315678\n",
    "ENST00000440429\n",
    "ENST00000382849\n",
    "ENST00000416759\n",
    "ENST00000398976\n",
    "ENST00000413098\n",
    "ENST00000441895\n",
    "ENST00000408895\n",
    "ENST00000412222\n",
    "ENST00000443383\n",
    "ENST00000369474\n",
    "ENST00000440128\n",
    "ENST00000439540\n",
    "ENST00000426719\n",
    "ENST00000428272\n",
    "ENST00000378936\n",
    "ENST00000360899\n",
    "ENST00000398830\n",
    "ENST00000429826\n",
    "ENST00000445321\n",
    "ENST00000391613\n",
    "ENST00000421885\n",
    "ENST00000451773\n",
    "ENST00000313693\n",
    "ENST00000425314\n",
    "ENST00000378537\n",
    "ENST00000446051\n",
    "ENST00000360706\n",
    "ENST00000361187\n",
    "ENST00000369468\n",
    "ENST00000358421\n",
    "ENST00000382514\n",
    "ENST00000328030\n",
    "ENST00000343077\n",
    "ENST00000382641\n",
    "ENST00000376812\n",
    "ENST00000356354\n",
    "ENST00000403504\n",
    "ENST00000342892\n",
    "ENST00000300458\n",
    "ENST00000295075\n",
    "ENST00000375012\n",
    "ENST00000380709\n",
    "ENST00000376181\n",
    "ENST00000372896\n",
    "ENST00000379167\n",
    "ENST00000375768\n",
    "ENST00000318084\n",
    "ENST00000326801\n",
    "ENST00000382842\n",
    "ENST00000398378\n",
    "ENST00000258741\n",
    "ENST00000382805\n",
    "ENST00000376593\n",
    "ENST00000380008\n",
    "ENST00000315897\n",
    "ENST00000377180\n",
    "ENST00000391387\n",
    "ENST00000360340\n",
    "ENST00000379854\n",
    "\"\"\"\n",
    "\n",
    ";"
   ]
  },
  {
   "cell_type": "code",
   "execution_count": null,
   "id": "860ae755-3c88-45f2-b7b4-2c025c03251a",
   "metadata": {},
   "outputs": [],
   "source": [
    "function make_dictionary(table::DataFrame)::Dict{String, String}\n",
    "    \n",
    "    a_to_b = Dict{String, String}()\n",
    "\n",
    "    for (a, b) in eachrow(table)\n",
    "\n",
    "        if haskey(a_to_b, a)\n",
    "\n",
    "            println(\"New \", a)\n",
    "\n",
    "        end\n",
    "\n",
    "        a_to_b[a] = b\n",
    "\n",
    "    end\n",
    "\n",
    "    return a_to_b\n",
    "    \n",
    "end"
   ]
  },
  {
   "cell_type": "code",
   "execution_count": null,
   "id": "f4566d6f-f4e6-4e6d-aae8-d242dd6e4e57",
   "metadata": {},
   "outputs": [],
   "source": [
    "enst_to_gene = make_dictionary(read_data(\"../data/enst_gene_name.tsv.gz\"))\n",
    "\n",
    ";"
   ]
  },
  {
   "cell_type": "code",
   "execution_count": null,
   "id": "c2cbf4fe-2e42-4571-973c-049b7ae34dfa",
   "metadata": {},
   "outputs": [],
   "source": [
    "gene_ = []\n",
    "\n",
    "for enst in split(enst_, '\\n')\n",
    "    \n",
    "    push!(gene_, get(enst_to_gene, enst, enst))\n",
    "    \n",
    "end\n",
    "\n",
    "set_to_gene_[\"Human Genes 2011\"] = gene_"
   ]
  },
  {
   "cell_type": "markdown",
   "id": "34cfb278-0bbb-41af-b9d0-e0499dd400ba",
   "metadata": {},
   "source": [
    "### Genes with human-specific features are primarily involved with brain, immune and metabolic evolution"
   ]
  },
  {
   "cell_type": "code",
   "execution_count": null,
   "id": "7eba6f80-f57f-4f26-80a1-e365b0820c30",
   "metadata": {},
   "outputs": [],
   "source": [
    "set_to_gene_[\"Human Gene 2019\"] = string.(read_(\"../data/Genes with human-specific features are primarily involved with brain, immune and metabolic evolution/12859_2019_2886_MOESM2_ESM.xlsx\", \"HumanSpecific Genes\")[!, 1])"
   ]
  },
  {
   "cell_type": "markdown",
   "id": "43ffa619-c183-46dd-b04c-39b2a2282333",
   "metadata": {},
   "source": [
    "## Intersect"
   ]
  },
  {
   "cell_type": "code",
   "execution_count": null,
   "id": "7b38e623-c971-4f0c-b9ee-7f98e08ffe53",
   "metadata": {},
   "outputs": [],
   "source": [
    "set_to_gene_ = sort(set_to_gene_)\n",
    "\n",
    "set_ = collect(keys(set_to_gene_))\n",
    "\n",
    "n_set = length(set_)\n",
    "\n",
    "set_x_set = Matrix{Int}(undef, n_set, n_set)\n",
    "\n",
    "for set1 in set_, set2 in set_\n",
    "    \n",
    "    n_intersect = length(intersect(set_to_gene_[set1], set_to_gene_[set2]))\n",
    "    \n",
    "    println(set1, \"    \", set2, \"    \", n_intersect)\n",
    "    \n",
    "end"
   ]
  }
 ],
 "metadata": {
  "kernelspec": {
   "display_name": "Julia 1.6.1",
   "language": "julia",
   "name": "julia-1.6"
  },
  "language_info": {
   "file_extension": ".jl",
   "mimetype": "application/julia",
   "name": "julia",
   "version": "1.6.1"
  }
 },
 "nbformat": 4,
 "nbformat_minor": 5
}
