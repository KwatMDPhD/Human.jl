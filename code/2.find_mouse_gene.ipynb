{
 "cells": [
  {
   "cell_type": "code",
   "execution_count": null,
   "id": "f468ff1c-181d-4f4f-9189-b26dbbd3faa2",
   "metadata": {
    "execution": {
     "iopub.execute_input": "2021-12-07T22:55:55.919295Z",
     "iopub.status.busy": "2021-12-07T22:55:55.455636Z",
     "iopub.status.idle": "2021-12-07T22:56:09.397962Z",
     "shell.execute_reply": "2021-12-07T22:56:09.397374Z"
    }
   },
   "outputs": [],
   "source": [
    "include(\"_.jl\")"
   ]
  },
  {
   "cell_type": "code",
   "execution_count": null,
   "id": "830455ee-2650-4fd8-bd7f-a65789db6f7c",
   "metadata": {
    "execution": {
     "iopub.execute_input": "2021-12-07T22:56:10.653814Z",
     "iopub.status.busy": "2021-12-07T22:56:09.399229Z",
     "iopub.status.idle": "2021-12-07T22:56:11.687470Z",
     "shell.execute_reply": "2021-12-07T22:56:11.686952Z"
    }
   },
   "outputs": [],
   "source": [
    "me_ge_ = OrderedDict{String,Vector{String}}()\n",
    "\n",
    ";"
   ]
  },
  {
   "cell_type": "code",
   "execution_count": null,
   "id": "be4f9979",
   "metadata": {
    "execution": {
     "iopub.execute_input": "2021-12-07T22:56:11.689283Z",
     "iopub.status.busy": "2021-12-07T22:56:11.688702Z",
     "iopub.status.idle": "2021-12-07T22:56:40.733531Z",
     "shell.execute_reply": "2021-12-07T22:56:40.733066Z"
    }
   },
   "outputs": [],
   "source": [
    "en = Gene.read_ensembl(; or = \"mouse\")\n",
    "\n",
    "pr_ = unique(skipmissing(en[en[!, \"Gene type\"].==\"protein_coding\", \"Gene name\"]))\n",
    "\n",
    "pr_ = sort(string.(pr_))"
   ]
  },
  {
   "cell_type": "markdown",
   "id": "20d22756",
   "metadata": {},
   "source": [
    "## Ensembl"
   ]
  },
  {
   "cell_type": "code",
   "execution_count": null,
   "id": "736fe7f5",
   "metadata": {
    "execution": {
     "iopub.execute_input": "2021-12-07T22:56:40.735515Z",
     "iopub.status.busy": "2021-12-07T22:56:40.734891Z",
     "iopub.status.idle": "2021-12-07T22:56:54.443559Z",
     "shell.execute_reply": "2021-12-07T22:56:54.443101Z"
    }
   },
   "outputs": [],
   "source": [
    "mo_hu = Gene.map_mouse()\n",
    "\n",
    "me_ge_[\"Ensembl\"] = [pr for pr in pr_ if !haskey(mo_hu, pr)]"
   ]
  },
  {
   "cell_type": "markdown",
   "id": "7629b1e5",
   "metadata": {},
   "source": [
    "## Mouse Genome Informatics"
   ]
  },
  {
   "cell_type": "code",
   "execution_count": null,
   "id": "25ab4531",
   "metadata": {
    "execution": {
     "iopub.execute_input": "2021-12-07T22:56:54.445494Z",
     "iopub.status.busy": "2021-12-07T22:56:54.444907Z",
     "iopub.status.idle": "2021-12-07T22:57:14.497932Z",
     "shell.execute_reply": "2021-12-07T22:57:14.497477Z"
    }
   },
   "outputs": [],
   "source": [
    "mg = TableAccess.read(joinpath(PAI, \"hom_mousehumansequence.rpt.txt.gz\"))\n",
    "\n",
    "se_ = mg[!, \"Common Organism Name\"] .== \"human\"\n",
    "\n",
    "mg[se_, \"Symbol\"] .= Gene.rename(string.(mg[se_, \"Symbol\"]))[1]\n",
    "\n",
    "mo_hu = Dict{String,String}()\n",
    "\n",
    "for da in groupby(mg, \"DB Class Key\")\n",
    "\n",
    "    sy_ = da[!, \"Symbol\"]\n",
    "\n",
    "    se_ = da[!, \"Common Organism Name\"] .== \"mouse, laboratory\"\n",
    "\n",
    "    for mo in sy_[se_], hu in sy_[.!se_]\n",
    "\n",
    "        mo_hu[mo] = hu\n",
    "\n",
    "    end\n",
    "\n",
    "end\n",
    "\n",
    "println(length(mo_hu))\n",
    "\n",
    "me_ge_[\"MGI\"] = [pr for pr in pr_ if !haskey(mo_hu, pr)]"
   ]
  },
  {
   "cell_type": "markdown",
   "id": "92d4271d",
   "metadata": {},
   "source": [
    "## Write"
   ]
  },
  {
   "cell_type": "code",
   "execution_count": null,
   "id": "27fce6e1",
   "metadata": {
    "execution": {
     "iopub.execute_input": "2021-12-07T22:57:14.499883Z",
     "iopub.status.busy": "2021-12-07T22:57:14.499280Z",
     "iopub.status.idle": "2021-12-07T22:57:20.593103Z",
     "shell.execute_reply": "2021-12-07T22:57:20.592640Z"
    }
   },
   "outputs": [],
   "source": [
    "write_gene_by_method(PAO, \"mouse\", me_ge_)"
   ]
  }
 ],
 "metadata": {
  "@webio": {
   "lastCommId": "19607c34c766452c960cf9699e454e0f",
   "lastKernelId": "17bfcb0f-ae1a-4c92-aebe-a98ccef60491"
  },
  "kernelspec": {
   "display_name": "Julia 1.7.0",
   "language": "julia",
   "name": "julia-1.7"
  },
  "language_info": {
   "file_extension": ".jl",
   "mimetype": "application/julia",
   "name": "julia",
   "version": "1.7.0"
  }
 },
 "nbformat": 4,
 "nbformat_minor": 5
}
