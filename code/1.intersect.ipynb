{
 "cells": [
  {
   "cell_type": "code",
   "execution_count": null,
   "id": "f468ff1c-181d-4f4f-9189-b26dbbd3faa2",
   "metadata": {
    "execution": {
     "iopub.execute_input": "2022-02-10T01:05:49.981629Z",
     "iopub.status.busy": "2022-02-10T01:05:49.597632Z",
     "iopub.status.idle": "2022-02-10T01:06:01.556745Z",
     "shell.execute_reply": "2022-02-10T01:06:01.555857Z"
    }
   },
   "outputs": [],
   "source": [
    "include(\"_.jl\")"
   ]
  },
  {
   "cell_type": "code",
   "execution_count": null,
   "id": "1ccffc67",
   "metadata": {},
   "outputs": [],
   "source": [
    "mu = true"
   ]
  },
  {
   "cell_type": "code",
   "execution_count": null,
   "id": "57c920b2",
   "metadata": {},
   "outputs": [],
   "source": [
    "en = OnePiece.gene.read_ensembl()\n",
    "\n",
    "hu_ = sort(\n",
    "    setdiff(\n",
    "        skipmissing(en[en[!, \"Gene type\"] .== \"protein_coding\", \"Gene name\"]),\n",
    "        OnePiece.table.read(\"../../../OnePiece.jl/src/gene/ensembl.mouse_human.tsv.gz\")[\n",
    "            !,\n",
    "            \"Human gene name\",\n",
    "        ],\n",
    "    ),\n",
    ")"
   ]
  },
  {
   "cell_type": "code",
   "execution_count": null,
   "id": "801979b8",
   "metadata": {
    "execution": {
     "iopub.execute_input": "2022-02-10T01:06:28.340293Z",
     "iopub.status.busy": "2022-02-10T01:06:28.339681Z",
     "iopub.status.idle": "2022-02-10T01:06:28.410485Z",
     "shell.execute_reply": "2022-02-10T01:06:28.410132Z"
    }
   },
   "outputs": [],
   "source": [
    "pa1 = \"set1_genes.json\"\n",
    "\n",
    "pa2 = \"set2_genes.json\"\n",
    "\n",
    "na1 = \"Immune Population\"\n",
    "\n",
    "na2 = \"Neural Population\"\n",
    "\n",
    "na1c = OnePiece.path.clean(na1)\n",
    "\n",
    "na2c = OnePiece.path.clean(na2)\n",
    "\n",
    "se1_ge_ = OnePiece.dict.read(joinpath(PAI, pa1))\n",
    "\n",
    "pop!(se1_ge_, \"Progenitors\")\n",
    "\n",
    "se2_ge_ = OnePiece.dict.read(joinpath(PAI, pa2))\n",
    "\n",
    "ge1_ = vcat(values(se1_ge_)...)\n",
    "\n",
    "ge2_ = vcat(values(se2_ge_)...)\n",
    "\n",
    "println(length(ge1_))\n",
    "\n",
    "println(length(ge2_))"
   ]
  },
  {
   "cell_type": "code",
   "execution_count": null,
   "id": "712c7a6e",
   "metadata": {
    "execution": {
     "iopub.execute_input": "2022-02-10T01:06:28.412453Z",
     "iopub.status.busy": "2022-02-10T01:06:28.411793Z",
     "iopub.status.idle": "2022-02-10T01:06:28.629146Z",
     "shell.execute_reply": "2022-02-10T01:06:28.628716Z"
    }
   },
   "outputs": [],
   "source": [
    "na = na1\n",
    "\n",
    "nac = na1c\n",
    "\n",
    "se_ge_ = se1_ge_\n",
    "\n",
    "ge_ = ge1_\n",
    "\n",
    "length(ge_)"
   ]
  },
  {
   "cell_type": "code",
   "execution_count": null,
   "id": "98f93f31",
   "metadata": {
    "execution": {
     "iopub.execute_input": "2022-02-10T01:06:28.630823Z",
     "iopub.status.busy": "2022-02-10T01:06:28.630331Z",
     "iopub.status.idle": "2022-02-10T01:06:28.874561Z",
     "shell.execute_reply": "2022-02-10T01:06:28.874172Z"
    }
   },
   "outputs": [],
   "source": [
    "if mu\n",
    "\n",
    "    na = \"$na1 and $na2\"\n",
    "\n",
    "    nac = OnePiece.path.clean(na)\n",
    "\n",
    "    se_ge_ = sort(merge(se1_ge_, se2_ge_))\n",
    "\n",
    "    ge_ = vcat(values(se_ge_)...)\n",
    "\n",
    "    println(length(ge_))\n",
    "\n",
    "end"
   ]
  },
  {
   "cell_type": "code",
   "execution_count": null,
   "id": "818d87b9",
   "metadata": {},
   "outputs": [],
   "source": [
    "di = joinpath(PAO, nac)\n",
    "\n",
    "mkpath(di)"
   ]
  },
  {
   "cell_type": "code",
   "execution_count": null,
   "id": "84429106-6210-40fc-b479-205474ec4e6d",
   "metadata": {
    "execution": {
     "iopub.execute_input": "2022-02-10T01:06:28.876449Z",
     "iopub.status.busy": "2022-02-10T01:06:28.875873Z",
     "iopub.status.idle": "2022-02-10T01:06:29.048322Z",
     "shell.execute_reply": "2022-02-10T01:06:29.047936Z"
    }
   },
   "outputs": [],
   "source": [
    "co_ = intersect(hu_, ge_)"
   ]
  },
  {
   "cell_type": "code",
   "execution_count": null,
   "id": "1ec85bcf",
   "metadata": {
    "execution": {
     "iopub.execute_input": "2022-02-10T01:06:29.050058Z",
     "iopub.status.busy": "2022-02-10T01:06:29.049550Z",
     "iopub.status.idle": "2022-02-10T01:06:29.775410Z",
     "shell.execute_reply": "2022-02-10T01:06:29.775029Z"
    }
   },
   "outputs": [],
   "source": [
    "se_ = [join([se for (se, ge_) in se_ge_ if co in ge_], \" & \") for co in co_]"
   ]
  },
  {
   "cell_type": "code",
   "execution_count": null,
   "id": "05b9d9c9",
   "metadata": {},
   "outputs": [],
   "source": [
    "ge_gr = OnePiece.dataframe.map_to_column(\n",
    "    coalesce.(OnePiece.gene.read_hgnc(), \"?\"),\n",
    "    [\"symbol\", \"gene_group\"],\n",
    ")\n",
    "\n",
    "gr_ = [get(ge_gr, co, \"??\") for co in co_]"
   ]
  },
  {
   "cell_type": "markdown",
   "id": "41868701",
   "metadata": {},
   "source": [
    "uniprot.org > Protein > Chain > BlastP (rodents, e_threshold=10, matrix=auto, filtering=none, gapped=yes)"
   ]
  },
  {
   "cell_type": "code",
   "execution_count": null,
   "id": "63196af1",
   "metadata": {},
   "outputs": [],
   "source": [
    "ge_bl = Dict(\n",
    "    \"GNLY\" => 0.292,\n",
    "    \"COL9A3\" => 0.512,\n",
    "    \"FAM177B\" => 0.388,\n",
    "    \"GLYATL1B\" => 0.412,\n",
    "    \"ZNF860\" => 0.438,\n",
    "    \"PLEKHG7\" => 0.258,\n",
    "    \"GCSAML\" => 0.292,\n",
    "    \"IL3RA\" => 0.305,\n",
    "    \"KRT81\" => 0.881,\n",
    "    \"KRT86\" => 0.872,\n",
    "    \"OR14L1P\" => 0.530,\n",
    "    \"OR6K3\" => 0.784,\n",
    "    \"OXER1\" => 0.418,\n",
    "    \"RAB32\" => 0.839,\n",
    "    \"TRIM49D1\" => 0.364,\n",
    "    \"TRIM49D2\" => 0.364,\n",
    "    \"TRIM51\" => 0.367,\n",
    "    \"TRIM64\" => 0.348,\n",
    "    \"TRIM64B\" => 0.348,\n",
    "    \"UGT2B11\" => 0.704,\n",
    "    \"ADGRE3\" => 0.459,\n",
    "    \"CFH\" => 0.614,\n",
    "    \"CXCL2\" => 0.735,\n",
    "    \"CXCL3\" => 0.685,\n",
    "    \"GPR84\" => 0.856,\n",
    "    \"VSTM1\" => 0.382,\n",
    "    \"NT5DC4\" => 0.654,\n",
    "    \"CASP5\" => 0.636,\n",
    "    \"CTSL\" => 0.785,\n",
    "    \"LILRA1\" => 0.507,\n",
    "    \"LILRB2\" => 0.452,\n",
    "    \"LILRA2\" => 0.513,\n",
    "    \"PILRA\" => 0.469,\n",
    "    \"SIGLEC14\" => 0.498,\n",
    "    \"TICAM2\" => 0.744,\n",
    "    \"KIR2DP1\" => 0.401,\n",
    "    \"KLRF1\" => 0.303,\n",
    "    \"LGALS9B\" => 0.685,\n",
    "    \"LGALS9C\" => 0.688,\n",
    "    \"APOBEC3A\" => 0.426,\n",
    "    \"BTNL8\" => 0.396,\n",
    "    \"CEACAM3\" => 0.528,\n",
    "    \"CEACAM4\" => 0.472,\n",
    "    \"CSNK1A1L\" => 0.910,\n",
    "    \"CXCL1\" => 0.701,\n",
    "    \"CXCR1\" => 0.686,\n",
    "    \"FCAR\" => 0.327,\n",
    "    \"H2AC19\" => 1,\n",
    "    \"H3C4\" => 1,\n",
    "    \"HSPA6\" => 0.815,\n",
    "    \"LINC02218\" => 0.441,\n",
    "    \"PEAK3\" => 0.268,\n",
    "    \"PI3\" => 0.941,\n",
    "    \"S100A12\" => 0.388,\n",
    "    \"S100P\" => 0.545,\n",
    "    \"SIGLEC5\" => 0.455,\n",
    "    \"SIRPB2\" => 0.348,\n",
    "    \"SIRPD\" => 0.48,\n",
    "    \"ST20\" => 0.724,\n",
    "    \"TMEM272\" => 0.368,\n",
    "    \"APOBEC3B\" => 0.359,\n",
    "    \"PLAAT2\" => 0.701,\n",
    "    \"ZNF683\" => 0.560,\n",
    "    \"TRABD2A\" => 0.648,\n",
    "    \"FAAH2\" => 0.304,\n",
    "    \"CD1B\" => 0.489,\n",
    "    \"CD1E\" => 0.521,\n",
    "    \"CLIC2\" => 0.662,\n",
    "    \"FPR3\" => 0.634,\n",
    "    \"CCDC183\" => 0.76,\n",
    "    \"CTSV\" => 0.792,\n",
    "    \"GGTA1\" => 0.654,\n",
    "    \"KCNK17\" => 0.42,\n",
    "    \"NLRP7\" => 0.408,\n",
    "    \"NOTCH4\" => 0.808,\n",
    "    \"PROC\" => 0.695,\n",
    "    \"SLC9C2\" => 0.292,\n",
    "    \"SMIM6\" => 0.565,\n",
    ")\n",
    "\n",
    "bl_ = [get(ge_bl, co, NaN) for co in co_]"
   ]
  },
  {
   "cell_type": "code",
   "execution_count": null,
   "id": "cacdee9a",
   "metadata": {
    "execution": {
     "iopub.execute_input": "2022-02-10T01:06:30.421460Z",
     "iopub.status.busy": "2022-02-10T01:06:30.420931Z",
     "iopub.status.idle": "2022-02-10T01:06:34.813282Z",
     "shell.execute_reply": "2022-02-10T01:06:34.812897Z"
    }
   },
   "outputs": [],
   "source": [
    "ge_x_in = sort(\n",
    "    DataFrame(\n",
    "        \"Gene\" => co_,\n",
    "        uppercasefirst(na) => se_,\n",
    "        \"Group\" => gr_,\n",
    "        \"Top blastp against mouse\" => bl_,\n",
    "    ),\n",
    "    na,\n",
    ")"
   ]
  },
  {
   "cell_type": "code",
   "execution_count": null,
   "id": "1a149b6f",
   "metadata": {},
   "outputs": [],
   "source": [
    "if mu\n",
    "\n",
    "    ge_x_in = ge_x_in[\n",
    "        [\n",
    "            !any(all(haskey(sen_ge_, sp) for sp in sp_) for sen_ge_ in (se1_ge_, se2_ge_)) for\n",
    "            sp_ in split.(ge_x_in[!, na], \" & \")\n",
    "        ],\n",
    "        :,\n",
    "    ]\n",
    "\n",
    "end"
   ]
  },
  {
   "cell_type": "code",
   "execution_count": null,
   "id": "dab802a9",
   "metadata": {},
   "outputs": [],
   "source": [
    "OnePiece.table.write(joinpath(di, \"gene_x_information.tsv\"), ge_x_in)\n",
    "\n",
    "ge_x_in"
   ]
  },
  {
   "cell_type": "markdown",
   "id": "14b69727",
   "metadata": {},
   "source": [
    "## Plot"
   ]
  },
  {
   "cell_type": "code",
   "execution_count": null,
   "id": "c67db06a",
   "metadata": {
    "execution": {
     "iopub.execute_input": "2022-02-10T01:06:34.815155Z",
     "iopub.status.busy": "2022-02-10T01:06:34.814652Z",
     "iopub.status.idle": "2022-02-10T01:06:36.949389Z",
     "shell.execute_reply": "2022-02-10T01:06:36.949014Z"
    }
   },
   "outputs": [],
   "source": [
    "he = 1600\n",
    "\n",
    "wi = round(Int, he * MathConstants.golden)\n",
    "\n",
    "axis_title_font_size = 24\n",
    "\n",
    "la = Dict(\n",
    "    \"barmode\" => \"stack\",\n",
    "    \"height\" => he,\n",
    "    \"width\" => wi,\n",
    "    \"margin_b\" => 240,\n",
    "    \"title\" => Dict(\"text\" => \"Number of Human Genes in $(na)\", \"font_size\" => 32),\n",
    "    \"yaxis_title\" => Dict(\n",
    "        \"text\" => \"Number of Human Genes\",\n",
    "        \"font_size\" => axis_title_font_size,\n",
    "        \"automargin\" => true,\n",
    "    ),\n",
    "    \"xaxis\" => Dict(\n",
    "        \"title\" => Dict(\"text\" => na, \"font_size\" => axis_title_font_size),\n",
    "        \"tickangle\" => 60,\n",
    "        \"automargin\" => true,\n",
    "    ),\n",
    ")"
   ]
  },
  {
   "cell_type": "code",
   "execution_count": null,
   "id": "fbaa300b",
   "metadata": {},
   "outputs": [],
   "source": [
    "using StatsBase"
   ]
  },
  {
   "cell_type": "code",
   "execution_count": null,
   "id": "ff192432",
   "metadata": {
    "execution": {
     "iopub.execute_input": "2022-02-10T01:06:36.951648Z",
     "iopub.status.busy": "2022-02-10T01:06:36.951097Z",
     "iopub.status.idle": "2022-02-10T01:06:37.595643Z",
     "shell.execute_reply": "2022-02-10T01:06:37.595142Z"
    }
   },
   "outputs": [],
   "source": [
    "se_n = sort(countmap(ge_x_in[!, na]), byvalue = true)"
   ]
  },
  {
   "cell_type": "code",
   "execution_count": null,
   "id": "c7304166",
   "metadata": {
    "execution": {
     "iopub.execute_input": "2022-02-10T01:06:37.597618Z",
     "iopub.status.busy": "2022-02-10T01:06:37.597081Z",
     "iopub.status.idle": "2022-02-10T01:06:45.225366Z",
     "shell.execute_reply": "2022-02-10T01:06:45.224920Z"
    }
   },
   "outputs": [],
   "source": [
    "x = collect(keys(se_n))\n",
    "\n",
    "y = collect(values(se_n))\n",
    "\n",
    "OnePiece.figure.plot_bar([y], [x], la = la, ou = joinpath(di, \"genes.html\"))"
   ]
  },
  {
   "cell_type": "code",
   "execution_count": null,
   "id": "7e31cb42",
   "metadata": {
    "execution": {
     "iopub.execute_input": "2022-02-10T01:06:45.227339Z",
     "iopub.status.busy": "2022-02-10T01:06:45.226790Z",
     "iopub.status.idle": "2022-02-10T01:06:45.411029Z",
     "shell.execute_reply": "2022-02-10T01:06:45.410591Z"
    },
    "scrolled": false
   },
   "outputs": [],
   "source": [
    "name_ = []\n",
    "\n",
    "y_ = []\n",
    "\n",
    "id = 1\n",
    "\n",
    "for gr in unique(ge_x_in[!, \"Group\"])\n",
    "\n",
    "    push!(name_, gr)\n",
    "\n",
    "    n_be_ = []\n",
    "\n",
    "    for se in x\n",
    "\n",
    "        da = ge_x_in[ge_x_in[!, na] .== se, :]\n",
    "\n",
    "        gr_ = da[!, \"Group\"]\n",
    "\n",
    "        n_be = sum(gr_ .== gr)\n",
    "\n",
    "        push!(n_be_, n_be)\n",
    "\n",
    "    end\n",
    "\n",
    "    push!(y_, n_be_)\n",
    "\n",
    "end\n",
    "\n",
    "OnePiece.figure.plot_bar(\n",
    "    y_,\n",
    "    fill(x, length(y_)),\n",
    "    name_ = name_,\n",
    "    la = la,\n",
    "    ou = joinpath(di, \"genes_by_group.html\"),\n",
    ")"
   ]
  }
 ],
 "metadata": {
  "@webio": {
   "lastCommId": null,
   "lastKernelId": null
  },
  "kernelspec": {
   "display_name": "Julia 1.7.2",
   "language": "julia",
   "name": "julia-1.7"
  },
  "language_info": {
   "file_extension": ".jl",
   "mimetype": "application/julia",
   "name": "julia",
   "version": "1.7.2"
  }
 },
 "nbformat": 4,
 "nbformat_minor": 5
}
