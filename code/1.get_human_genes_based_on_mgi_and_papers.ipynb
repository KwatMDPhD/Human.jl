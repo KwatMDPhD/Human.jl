{
 "cells": [
  {
   "cell_type": "code",
   "execution_count": null,
   "id": "f468ff1c-181d-4f4f-9189-b26dbbd3faa2",
   "metadata": {
    "execution": {
     "iopub.execute_input": "2021-09-28T06:33:47.703185Z",
     "iopub.status.busy": "2021-09-28T06:33:47.139374Z",
     "iopub.status.idle": "2021-09-28T06:34:03.448931Z",
     "shell.execute_reply": "2021-09-28T06:34:03.448401Z"
    }
   },
   "outputs": [],
   "source": [
    "include(\"_.jl\")"
   ]
  },
  {
   "cell_type": "code",
   "execution_count": null,
   "id": "830455ee-2650-4fd8-bd7f-a65789db6f7c",
   "metadata": {
    "execution": {
     "iopub.execute_input": "2021-09-28T06:34:03.720409Z",
     "iopub.status.busy": "2021-09-28T06:34:03.450132Z",
     "iopub.status.idle": "2021-09-28T06:34:05.588053Z",
     "shell.execute_reply": "2021-09-28T06:34:05.587654Z"
    }
   },
   "outputs": [],
   "source": [
    "an_ge_ = Dict{String,Vector{String}}()"
   ]
  },
  {
   "cell_type": "code",
   "execution_count": null,
   "id": "22f3de44",
   "metadata": {},
   "outputs": [],
   "source": [
    "hu_ = convert(Vector{String}, kwat.gene.select(ba_ = []))"
   ]
  },
  {
   "cell_type": "markdown",
   "id": "7f0a8f10-9c98-4822-8df9-0613bf5f316b",
   "metadata": {},
   "source": [
    "## Mouse Genome Informatics"
   ]
  },
  {
   "cell_type": "code",
   "execution_count": null,
   "id": "a17341ec-4a31-4b88-af46-e3f8d8867c96",
   "metadata": {
    "execution": {
     "iopub.execute_input": "2021-09-28T06:34:05.589872Z",
     "iopub.status.busy": "2021-09-28T06:34:05.589321Z",
     "iopub.status.idle": "2021-09-28T06:34:07.318550Z",
     "shell.execute_reply": "2021-09-28T06:34:07.318083Z"
    }
   },
   "outputs": [],
   "source": [
    "hu_mo = convert(Dict{String,String}, kwat.gene.map_mouse()[2])\n",
    "\n",
    "println(length(hu_mo))\n",
    "\n",
    "an_ge_[\"Human Genes based on MGI\"] = [hu for hu in hu_ if !haskey(hu_mo, hu)]"
   ]
  },
  {
   "cell_type": "markdown",
   "id": "4fb43872-569f-478a-b2e7-0c87f0b6014b",
   "metadata": {},
   "source": [
    "## 2011 De Novo Origin of Human Protein-Coding Genes"
   ]
  },
  {
   "cell_type": "code",
   "execution_count": null,
   "id": "e24eff30",
   "metadata": {},
   "outputs": [],
   "source": [
    "en_ = readlines(joinpath(PAI, \"De Novo Origin of Human Protein-Coding Genes\", \"genes.txt\"))\n",
    "\n",
    "an_ge_[\"Human Genes based on 2011 paper\"] =\n",
    "    [[\"CLLU1\", \"c22orf45\", \"DNAH10OS\"]; convert(Vector{String}, kwat.gene.rename(en_)[1])]"
   ]
  },
  {
   "cell_type": "markdown",
   "id": "d50d66c1-4f64-4a22-b080-ffa781889616",
   "metadata": {},
   "source": [
    "## 2019 Genes with human-specific features are primarily involved with brain, immune and metabolic evolution"
   ]
  },
  {
   "cell_type": "code",
   "execution_count": null,
   "id": "b3e1b3ad-5a69-4b5a-9c8e-b53ae54e4fa6",
   "metadata": {
    "execution": {
     "iopub.execute_input": "2021-09-28T06:34:37.906973Z",
     "iopub.status.busy": "2021-09-28T06:34:37.906380Z",
     "iopub.status.idle": "2021-09-28T06:34:44.005403Z",
     "shell.execute_reply": "2021-09-28T06:34:44.004855Z"
    }
   },
   "outputs": [],
   "source": [
    "an_ge_ir = read_xlsx(\n",
    "    joinpath(\n",
    "        PAI,\n",
    "        \"Genes with human-specific features are primarily involved with brain, immune and metabolic evolution\",\n",
    "        \"12859_2019_2886_MOESM2_ESM.xlsx\",\n",
    "    ),\n",
    "    \"HumanSpecific Genes\",\n",
    ")\n",
    "\n",
    "an_ge_[\"Human Genes based on 2019 paper\"] = string.(an_ge_ir[!, 1])"
   ]
  },
  {
   "cell_type": "markdown",
   "id": "92d4271d",
   "metadata": {},
   "source": [
    "## Write"
   ]
  },
  {
   "cell_type": "code",
   "execution_count": null,
   "id": "d7afc55c-04bc-4427-a6dc-14f35c790748",
   "metadata": {
    "execution": {
     "iopub.execute_input": "2021-09-28T06:34:45.150250Z",
     "iopub.status.busy": "2021-09-28T06:34:45.149750Z",
     "iopub.status.idle": "2021-09-28T06:34:45.727673Z",
     "shell.execute_reply": "2021-09-28T06:34:45.727282Z"
    }
   },
   "outputs": [],
   "source": [
    "DictExtension.write(joinpath(PAO, \"analysis_to_genes.json\"), sort(an_ge_))"
   ]
  }
 ],
 "metadata": {
  "@webio": {
   "lastCommId": null,
   "lastKernelId": null
  },
  "kernelspec": {
   "display_name": "Julia 1.6.3",
   "language": "julia",
   "name": "julia-1.6"
  },
  "language_info": {
   "file_extension": ".jl",
   "mimetype": "application/julia",
   "name": "julia",
   "version": "1.6.3"
  }
 },
 "nbformat": 4,
 "nbformat_minor": 5
}
