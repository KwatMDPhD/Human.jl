{
 "cells": [
  {
   "cell_type": "code",
   "execution_count": null,
   "id": "f468ff1c-181d-4f4f-9189-b26dbbd3faa2",
   "metadata": {
    "execution": {
     "iopub.execute_input": "2022-02-10T01:01:58.863065Z",
     "iopub.status.busy": "2022-02-10T01:01:58.477668Z",
     "iopub.status.idle": "2022-02-10T01:02:23.428245Z",
     "shell.execute_reply": "2022-02-10T01:02:23.427792Z"
    },
    "scrolled": false
   },
   "outputs": [],
   "source": [
    "include(\"_.jl\")"
   ]
  },
  {
   "cell_type": "code",
   "execution_count": null,
   "id": "830455ee-2650-4fd8-bd7f-a65789db6f7c",
   "metadata": {
    "execution": {
     "iopub.execute_input": "2022-02-10T01:02:24.898922Z",
     "iopub.status.busy": "2022-02-10T01:02:23.429625Z",
     "iopub.status.idle": "2022-02-10T01:02:25.560002Z",
     "shell.execute_reply": "2022-02-10T01:02:25.559557Z"
    }
   },
   "outputs": [],
   "source": [
    "me_ge_ = OrderedDict()"
   ]
  },
  {
   "cell_type": "code",
   "execution_count": null,
   "id": "3734ef08",
   "metadata": {
    "execution": {
     "iopub.execute_input": "2022-02-10T01:02:25.561915Z",
     "iopub.status.busy": "2022-02-10T01:02:25.561333Z",
     "iopub.status.idle": "2022-02-10T01:02:48.127377Z",
     "shell.execute_reply": "2022-02-10T01:02:48.126990Z"
    }
   },
   "outputs": [],
   "source": [
    "hg = OnePiece.gene.read_hgnc()\n",
    "\n",
    "pr_ = hg[!, \"locus_group\"] .== \"protein-coding gene\"\n",
    "\n",
    "pr_ = sort(unique(skipmissing(hg[pr_, \"symbol\"])))"
   ]
  },
  {
   "cell_type": "markdown",
   "id": "20d22756",
   "metadata": {},
   "source": [
    "## Ensembl"
   ]
  },
  {
   "cell_type": "code",
   "execution_count": null,
   "id": "7783a4ea",
   "metadata": {
    "execution": {
     "iopub.execute_input": "2022-02-10T01:02:48.129376Z",
     "iopub.status.busy": "2022-02-10T01:02:48.128873Z",
     "iopub.status.idle": "2022-02-10T01:03:01.070003Z",
     "shell.execute_reply": "2022-02-10T01:03:01.069620Z"
    }
   },
   "outputs": [],
   "source": [
    "hu_mo = OnePiece.gene.map_with_mouse(ho = \"human_to_mouse\")\n",
    "\n",
    "me_ge_[\"Ensembl\"] = [pr for pr in pr_ if !haskey(hu_mo, pr)]"
   ]
  },
  {
   "cell_type": "markdown",
   "id": "7f0a8f10-9c98-4822-8df9-0613bf5f316b",
   "metadata": {},
   "source": [
    "## Mouse Genome Informatics"
   ]
  },
  {
   "cell_type": "code",
   "execution_count": null,
   "id": "3565f240",
   "metadata": {
    "execution": {
     "iopub.execute_input": "2022-02-10T01:03:01.072244Z",
     "iopub.status.busy": "2022-02-10T01:03:01.071534Z",
     "iopub.status.idle": "2022-02-10T01:03:22.516013Z",
     "shell.execute_reply": "2022-02-10T01:03:22.515411Z"
    }
   },
   "outputs": [],
   "source": [
    "mg = OnePiece.table.read(joinpath(PAI, \"hom_mousehumansequence.rpt.txt.gz\"))\n",
    "\n",
    "hu_ = mg[!, \"Common Organism Name\"] .== \"human\"\n",
    "\n",
    "mg[hu_, \"Symbol\"] .= OnePiece.gene.rename(mg[hu_, \"Symbol\"])[1]\n",
    "\n",
    "hu_mo = Dict()\n",
    "\n",
    "for da in groupby(mg, \"DB Class Key\")\n",
    "\n",
    "    sy_ = da[!, \"Symbol\"]\n",
    "\n",
    "    hu_ = da[!, \"Common Organism Name\"] .== \"human\"\n",
    "\n",
    "    for hu in sy_[hu_], mo in sy_[.!hu_]\n",
    "\n",
    "        hu_mo[hu] = mo\n",
    "\n",
    "    end\n",
    "\n",
    "end\n",
    "\n",
    "println(length(hu_mo))\n",
    "\n",
    "me_ge_[\"MGI\"] = [pr for pr in pr_ if !haskey(hu_mo, pr)]"
   ]
  },
  {
   "cell_type": "markdown",
   "id": "4fb43872-569f-478a-b2e7-0c87f0b6014b",
   "metadata": {},
   "source": [
    "## 2011 De Novo Origin of Human Protein-Coding Genes"
   ]
  },
  {
   "cell_type": "code",
   "execution_count": null,
   "id": "e24eff30",
   "metadata": {
    "execution": {
     "iopub.execute_input": "2022-02-10T01:03:22.517925Z",
     "iopub.status.busy": "2022-02-10T01:03:22.517364Z",
     "iopub.status.idle": "2022-02-10T01:03:41.370560Z",
     "shell.execute_reply": "2022-02-10T01:03:41.370180Z"
    }
   },
   "outputs": [],
   "source": [
    "tr_ = readlines(joinpath(PAI, \"de_novo_origin_of_human_protein_coding_genes\", \"genes.txt\"))\n",
    "\n",
    "me_ge_[\"2011 paper\"] = OnePiece.gene.rename([\"CLLU1\", \"c22orf45\", \"DNAH10OS\", tr_...])[1]"
   ]
  },
  {
   "cell_type": "markdown",
   "id": "d50d66c1-4f64-4a22-b080-ffa781889616",
   "metadata": {},
   "source": [
    "## 2019 Genes with human-specific features are primarily involved with brain, immune and metabolic evolution"
   ]
  },
  {
   "cell_type": "code",
   "execution_count": null,
   "id": "40d125cf",
   "metadata": {
    "execution": {
     "iopub.execute_input": "2022-02-10T01:03:41.372522Z",
     "iopub.status.busy": "2022-02-10T01:03:41.372018Z",
     "iopub.status.idle": "2022-02-10T01:04:00.413723Z",
     "shell.execute_reply": "2022-02-10T01:04:00.413145Z"
    }
   },
   "outputs": [],
   "source": [
    "da = OnePiece.table.read(\n",
    "    joinpath(\n",
    "        PAI,\n",
    "        \"genes_with_human_specific_features_are_primarily_involved_with_brain,_immune_and_metabolic_evolution\",\n",
    "        \"12859_2019_2886_MOESM2_ESM.xlsx\",\n",
    "    ),\n",
    "    xl = \"HumanSpecific Genes\",\n",
    ")\n",
    "\n",
    "me_ge_[\"2019 paper\"] = OnePiece.gene.rename(string.(da[!, \"Gene Name\"]))[1]"
   ]
  },
  {
   "cell_type": "markdown",
   "id": "92d4271d",
   "metadata": {},
   "source": [
    "## Write"
   ]
  },
  {
   "cell_type": "code",
   "execution_count": null,
   "id": "5318d013",
   "metadata": {
    "execution": {
     "iopub.execute_input": "2022-02-10T01:04:00.416169Z",
     "iopub.status.busy": "2022-02-10T01:04:00.415399Z",
     "iopub.status.idle": "2022-02-10T01:04:05.301879Z",
     "shell.execute_reply": "2022-02-10T01:04:05.301416Z"
    }
   },
   "outputs": [],
   "source": [
    "write_gene_by_method(PAO, \"human\", me_ge_)"
   ]
  }
 ],
 "metadata": {
  "@webio": {
   "lastCommId": null,
   "lastKernelId": null
  },
  "kernelspec": {
   "display_name": "Julia 1.7.2",
   "language": "julia",
   "name": "julia-1.7"
  },
  "language_info": {
   "file_extension": ".jl",
   "mimetype": "application/julia",
   "name": "julia",
   "version": "1.7.2"
  }
 },
 "nbformat": 4,
 "nbformat_minor": 5
}
