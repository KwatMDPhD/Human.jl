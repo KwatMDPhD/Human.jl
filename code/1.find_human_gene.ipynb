{
 "cells": [
  {
   "cell_type": "code",
   "execution_count": null,
   "id": "f468ff1c-181d-4f4f-9189-b26dbbd3faa2",
   "metadata": {
    "execution": {
     "iopub.execute_input": "2021-11-28T06:30:52.433217Z",
     "iopub.status.busy": "2021-11-28T06:30:51.873713Z",
     "iopub.status.idle": "2021-11-28T06:30:59.570719Z",
     "shell.execute_reply": "2021-11-28T06:30:59.570095Z"
    }
   },
   "outputs": [],
   "source": [
    "include(\"_.jl\")"
   ]
  },
  {
   "cell_type": "code",
   "execution_count": null,
   "id": "830455ee-2650-4fd8-bd7f-a65789db6f7c",
   "metadata": {
    "execution": {
     "iopub.execute_input": "2021-11-28T06:30:59.813257Z",
     "iopub.status.busy": "2021-11-28T06:30:59.572160Z",
     "iopub.status.idle": "2021-11-28T06:31:01.836762Z",
     "shell.execute_reply": "2021-11-28T06:31:01.836336Z"
    }
   },
   "outputs": [],
   "source": [
    "me_ge_ = OrderedDict{String,Vector{String}}()"
   ]
  },
  {
   "cell_type": "code",
   "execution_count": null,
   "id": "70721949",
   "metadata": {
    "execution": {
     "iopub.execute_input": "2021-11-28T06:31:01.838596Z",
     "iopub.status.busy": "2021-11-28T06:31:01.838057Z",
     "iopub.status.idle": "2021-11-28T06:31:25.341404Z",
     "shell.execute_reply": "2021-11-28T06:31:25.340989Z"
    }
   },
   "outputs": [],
   "source": [
    "hg = Gene.read_hgnc()\n",
    "\n",
    "PR_ = string.(hg[hg[!, \"locus_group\"].==\"protein-coding gene\", \"symbol\"])\n",
    "\n",
    "length(PR_)"
   ]
  },
  {
   "cell_type": "markdown",
   "id": "20d22756",
   "metadata": {},
   "source": [
    "## Ensembl"
   ]
  },
  {
   "cell_type": "code",
   "execution_count": null,
   "id": "20fd67d6",
   "metadata": {
    "execution": {
     "iopub.execute_input": "2021-11-28T06:31:25.343822Z",
     "iopub.status.busy": "2021-11-28T06:31:25.343199Z",
     "iopub.status.idle": "2021-11-28T06:31:36.379734Z",
     "shell.execute_reply": "2021-11-28T06:31:36.379190Z"
    }
   },
   "outputs": [],
   "source": [
    "or = TableAccess.read(joinpath(PAI, \"ensembl\", \"human_to_mouse.tsv.gz\"))\n",
    "\n",
    "or[!, \"Gene name\"] = Gene.rename(string.(or[!, \"Gene name\"]))[1]\n",
    "\n",
    ";"
   ]
  },
  {
   "cell_type": "code",
   "execution_count": null,
   "id": "474d4224",
   "metadata": {
    "execution": {
     "iopub.execute_input": "2021-11-28T06:31:36.381549Z",
     "iopub.status.busy": "2021-11-28T06:31:36.381033Z",
     "iopub.status.idle": "2021-11-28T06:31:37.268982Z",
     "shell.execute_reply": "2021-11-28T06:31:37.268584Z"
    }
   },
   "outputs": [],
   "source": [
    "hu_mo = Dict{String,String}()\n",
    "\n",
    "for ro in eachrow(or)\n",
    "\n",
    "    hu = ro[\"Gene name\"]\n",
    "\n",
    "    mo = ro[\"Mouse gene name\"]\n",
    "\n",
    "    if !(ismissing(hu) || ismissing(mo))\n",
    "\n",
    "        hu_mo[hu] = mo\n",
    "\n",
    "    end\n",
    "\n",
    "end\n",
    "\n",
    "println(length(hu_mo))\n",
    "\n",
    "me_ge_[\"Ensembl\"] = [pr for pr in PR_ if !haskey(hu_mo, pr)]"
   ]
  },
  {
   "cell_type": "markdown",
   "id": "7f0a8f10-9c98-4822-8df9-0613bf5f316b",
   "metadata": {},
   "source": [
    "## Mouse Genome Informatics"
   ]
  },
  {
   "cell_type": "code",
   "execution_count": null,
   "id": "3bd0e856",
   "metadata": {
    "execution": {
     "iopub.execute_input": "2021-11-28T06:31:37.270836Z",
     "iopub.status.busy": "2021-11-28T06:31:37.270338Z",
     "iopub.status.idle": "2021-11-28T06:31:45.454881Z",
     "shell.execute_reply": "2021-11-28T06:31:45.454488Z"
    }
   },
   "outputs": [],
   "source": [
    "mg = TableAccess.read(joinpath(PAI, \"HOM_MouseHumanSequence.rpt.txt.gz\"))\n",
    "\n",
    "se_ = mg[!, \"Common Organism Name\"] .== \"human\"\n",
    "\n",
    "mg[se_, \"Symbol\"] .= Gene.rename(string.(mg[se_, \"Symbol\"]))[1]\n",
    "\n",
    ";"
   ]
  },
  {
   "cell_type": "code",
   "execution_count": null,
   "id": "2621f13e",
   "metadata": {
    "execution": {
     "iopub.execute_input": "2021-11-28T06:31:45.456806Z",
     "iopub.status.busy": "2021-11-28T06:31:45.456116Z",
     "iopub.status.idle": "2021-11-28T06:31:47.010220Z",
     "shell.execute_reply": "2021-11-28T06:31:47.009824Z"
    }
   },
   "outputs": [],
   "source": [
    "hu_mo = Dict{String,String}()\n",
    "\n",
    "for da in groupby(mg, \"DB Class Key\")\n",
    "\n",
    "    sy_ = da[!, \"Symbol\"]\n",
    "\n",
    "    se_ = da[!, \"Common Organism Name\"] .== \"human\"\n",
    "\n",
    "    for hu in sy_[se_], mo in sy_[.!se_]\n",
    "\n",
    "        hu_mo[hu] = mo\n",
    "\n",
    "    end\n",
    "\n",
    "end\n",
    "\n",
    "println(length(hu_mo))\n",
    "\n",
    "me_ge_[\"MGI\"] = [pr for pr in PR_ if !haskey(hu_mo, pr)]"
   ]
  },
  {
   "cell_type": "markdown",
   "id": "4fb43872-569f-478a-b2e7-0c87f0b6014b",
   "metadata": {},
   "source": [
    "## 2011 De Novo Origin of Human Protein-Coding Genes"
   ]
  },
  {
   "cell_type": "code",
   "execution_count": null,
   "id": "e24eff30",
   "metadata": {
    "execution": {
     "iopub.execute_input": "2021-11-28T06:31:47.012100Z",
     "iopub.status.busy": "2021-11-28T06:31:47.011561Z",
     "iopub.status.idle": "2021-11-28T06:31:54.861612Z",
     "shell.execute_reply": "2021-11-28T06:31:54.860967Z"
    }
   },
   "outputs": [],
   "source": [
    "tr_ = readlines(joinpath(PAI, \"de_novo_origin_of_human_protein_coding_genes\", \"genes.txt\"))\n",
    "\n",
    "me_ge_[\"2011 paper\"] = Gene.rename(vcat([\"CLLU1\", \"c22orf45\", \"DNAH10OS\"], tr_))[1]"
   ]
  },
  {
   "cell_type": "markdown",
   "id": "d50d66c1-4f64-4a22-b080-ffa781889616",
   "metadata": {},
   "source": [
    "## 2019 Genes with human-specific features are primarily involved with brain, immune and metabolic evolution"
   ]
  },
  {
   "cell_type": "code",
   "execution_count": null,
   "id": "51728d63",
   "metadata": {
    "execution": {
     "iopub.execute_input": "2021-11-28T06:31:54.864212Z",
     "iopub.status.busy": "2021-11-28T06:31:54.863432Z",
     "iopub.status.idle": "2021-11-28T06:32:06.236288Z",
     "shell.execute_reply": "2021-11-28T06:32:06.235641Z"
    }
   },
   "outputs": [],
   "source": [
    "an_ge_ir = TableAccess.read_xlsx(\n",
    "    joinpath(\n",
    "        PAI,\n",
    "        \"genes_with_human_specific_features_are_primarily_involved_with_brain,_immune_and_metabolic_evolution\",\n",
    "        \"12859_2019_2886_MOESM2_ESM.xlsx\",\n",
    "    ),\n",
    "    \"HumanSpecific Genes\",\n",
    ")\n",
    "\n",
    "me_ge_[\"2019 paper\"] = Gene.rename(string.(an_ge_ir[!, \"Gene Name\"]))[1]"
   ]
  },
  {
   "cell_type": "markdown",
   "id": "9a3fbd6e",
   "metadata": {},
   "source": [
    "## Intersect"
   ]
  },
  {
   "cell_type": "code",
   "execution_count": null,
   "id": "2fec507b",
   "metadata": {
    "execution": {
     "iopub.execute_input": "2021-11-28T06:32:06.238978Z",
     "iopub.status.busy": "2021-11-28T06:32:06.238190Z",
     "iopub.status.idle": "2021-11-28T06:32:06.569875Z",
     "shell.execute_reply": "2021-11-28T06:32:06.569389Z"
    },
    "scrolled": false
   },
   "outputs": [],
   "source": [
    "for ((se1, ge1_), (se2, ge2_)) in combinations(collect(me_ge_), 2)\n",
    "\n",
    "    gen_ = intersect(ge1_, ge2_)\n",
    "\n",
    "    n_in = length(gen_)\n",
    "\n",
    "    println(se1, \" \u2229 \", se2, \" (\", n_in, \")\")\n",
    "\n",
    "    for ge in gen_\n",
    "\n",
    "        println(\"- \", ge)\n",
    "    end\n",
    "\n",
    "    println()\n",
    "\n",
    "end"
   ]
  },
  {
   "cell_type": "markdown",
   "id": "92d4271d",
   "metadata": {},
   "source": [
    "## Write"
   ]
  },
  {
   "cell_type": "code",
   "execution_count": null,
   "id": "dc80f128",
   "metadata": {
    "execution": {
     "iopub.execute_input": "2021-11-28T06:32:06.571903Z",
     "iopub.status.busy": "2021-11-28T06:32:06.571250Z",
     "iopub.status.idle": "2021-11-28T06:32:06.814368Z",
     "shell.execute_reply": "2021-11-28T06:32:06.814004Z"
    }
   },
   "outputs": [],
   "source": [
    "DictExtension.write(joinpath(PAO, \"method_to_genes.json\"), sort(me_ge_))"
   ]
  },
  {
   "cell_type": "code",
   "execution_count": null,
   "id": "603ae9ea",
   "metadata": {
    "execution": {
     "iopub.execute_input": "2021-11-28T06:32:06.816591Z",
     "iopub.status.busy": "2021-11-28T06:32:06.816055Z",
     "iopub.status.idle": "2021-11-28T06:32:11.892560Z",
     "shell.execute_reply": "2021-11-28T06:32:11.892167Z"
    }
   },
   "outputs": [],
   "source": [
    "ge_ = unique(vcat(values(me_ge_)...))\n",
    "\n",
    "an_ge_me = DataFrame(\"Gene\" => ge_)\n",
    "\n",
    "for (me, se_) in me_ge_\n",
    "\n",
    "    an_ge_me[!, me] = [ge in se_ for ge in ge_]\n",
    "\n",
    "end\n",
    "\n",
    "an_ge_me[!, \"Sum\"] = vec(sum(Matrix(an_ge_me[!, 2:end]); dims = 2))\n",
    "\n",
    "sort!(an_ge_me, \"Sum\"; rev = true)\n",
    "\n",
    "TableAccess.write(joinpath(PAO, \"human_gene_by_method.tsv\"), an_ge_me)\n",
    "\n",
    "an_ge_me"
   ]
  }
 ],
 "metadata": {
  "@webio": {
   "lastCommId": null,
   "lastKernelId": null
  },
  "kernelspec": {
   "display_name": "Julia 1.6.4",
   "language": "julia",
   "name": "julia-1.6"
  },
  "language_info": {
   "file_extension": ".jl",
   "mimetype": "application/julia",
   "name": "julia",
   "version": "1.6.4"
  }
 },
 "nbformat": 4,
 "nbformat_minor": 5
}
