{
 "cells": [
  {
   "cell_type": "code",
   "execution_count": null,
   "id": "cfb6030e",
   "metadata": {
    "execution": {
     "iopub.execute_input": "2021-12-07T22:59:12.638483Z",
     "iopub.status.busy": "2021-12-07T22:59:12.162896Z",
     "iopub.status.idle": "2021-12-07T22:59:26.232877Z",
     "shell.execute_reply": "2021-12-07T22:59:26.232207Z"
    }
   },
   "outputs": [],
   "source": [
    "include(\"_.jl\")"
   ]
  },
  {
   "cell_type": "code",
   "execution_count": null,
   "id": "631fed80",
   "metadata": {
    "execution": {
     "iopub.execute_input": "2021-12-07T22:59:27.511459Z",
     "iopub.status.busy": "2021-12-07T22:59:26.234126Z",
     "iopub.status.idle": "2021-12-07T22:59:56.644324Z",
     "shell.execute_reply": "2021-12-07T22:59:56.643842Z"
    }
   },
   "outputs": [],
   "source": [
    "hg = Gene.read_hgnc()\n",
    "\n",
    ";"
   ]
  },
  {
   "cell_type": "code",
   "execution_count": null,
   "id": "72776225",
   "metadata": {
    "execution": {
     "iopub.execute_input": "2021-12-07T22:59:56.646262Z",
     "iopub.status.busy": "2021-12-07T22:59:56.645675Z",
     "iopub.status.idle": "2021-12-07T22:59:56.830685Z",
     "shell.execute_reply": "2021-12-07T22:59:56.830257Z"
    }
   },
   "outputs": [],
   "source": [
    "pa = \"killer cell immunoglobulin like receptors\"\n",
    "\n",
    "ge_ = []\n",
    "\n",
    "for ro in eachrow(hg)\n",
    "\n",
    "    if ismissing(ro[\"gene_group\"])\n",
    "\n",
    "        continue\n",
    "\n",
    "    end\n",
    "\n",
    "    if occursin(pa, lowercase(ro[\"gene_group\"]))\n",
    "\n",
    "        push!(ge_, ro[\"symbol\"])\n",
    "\n",
    "    end\n",
    "\n",
    "end\n",
    "\n",
    "println(length(ge_), \" genes whose group name contains \\\"\", pa, \"\\\"\")\n",
    "\n",
    "println(join(ge_, \"\\t\"))"
   ]
  },
  {
   "cell_type": "code",
   "execution_count": null,
   "id": "adfc057f",
   "metadata": {
    "execution": {
     "iopub.execute_input": "2021-12-07T22:59:56.832633Z",
     "iopub.status.busy": "2021-12-07T22:59:56.831980Z",
     "iopub.status.idle": "2021-12-07T22:59:56.851340Z",
     "shell.execute_reply": "2021-12-07T22:59:56.850918Z"
    }
   },
   "outputs": [],
   "source": [
    "ge2_ = DictExtension.read(\"../../get_immune_population.pro/output/population_to_genes.json\")[\"NK\"]\n",
    "\n",
    "println(length(ge2_), \" genes whose group name contains \\\"\", pa, \"\\\"\")\n",
    "\n",
    "println(join(ge2_, \"\\t\"))"
   ]
  },
  {
   "cell_type": "code",
   "execution_count": null,
   "id": "b3d7bc9f",
   "metadata": {
    "execution": {
     "iopub.execute_input": "2021-12-07T22:59:56.853200Z",
     "iopub.status.busy": "2021-12-07T22:59:56.852617Z",
     "iopub.status.idle": "2021-12-07T23:00:00.540654Z",
     "shell.execute_reply": "2021-12-07T23:00:00.540186Z"
    }
   },
   "outputs": [],
   "source": [
    "for pa in [\"human_gene_by_method.tsv\", \"human_human_immune_population_gene_by_information.tsv\"]\n",
    "\n",
    "    println(\"=\"^80)\n",
    "\n",
    "    println(pa)\n",
    "\n",
    "    an_ge_ir = TableAccess.read(joinpath(PAO, pa))\n",
    "\n",
    "    println(an_ge_ir[[ge in ge_ for ge in an_ge_ir[!, \"Gene\"]], :])\n",
    "\n",
    "end"
   ]
  }
 ],
 "metadata": {
  "@webio": {
   "lastCommId": "c82542dd57654ed48d4eeb65691265b5",
   "lastKernelId": "f8c49ff0-281c-4cf2-98d8-f51993c1385d"
  },
  "kernelspec": {
   "display_name": "Julia 1.7.0",
   "language": "julia",
   "name": "julia-1.7"
  },
  "language_info": {
   "file_extension": ".jl",
   "mimetype": "application/julia",
   "name": "julia",
   "version": "1.7.1"
  }
 },
 "nbformat": 4,
 "nbformat_minor": 5
}
