{
 "cells": [
  {
   "cell_type": "code",
   "execution_count": null,
   "id": "f468ff1c-181d-4f4f-9189-b26dbbd3faa2",
   "metadata": {
    "execution": {
     "iopub.execute_input": "2021-09-28T06:33:47.703185Z",
     "iopub.status.busy": "2021-09-28T06:33:47.139374Z",
     "iopub.status.idle": "2021-09-28T06:34:03.448931Z",
     "shell.execute_reply": "2021-09-28T06:34:03.448401Z"
    }
   },
   "outputs": [],
   "source": [
    "include(\"_.jl\")"
   ]
  },
  {
   "cell_type": "code",
   "execution_count": null,
   "id": "830455ee-2650-4fd8-bd7f-a65789db6f7c",
   "metadata": {
    "execution": {
     "iopub.execute_input": "2021-09-28T06:34:03.720409Z",
     "iopub.status.busy": "2021-09-28T06:34:03.450132Z",
     "iopub.status.idle": "2021-09-28T06:34:05.588053Z",
     "shell.execute_reply": "2021-09-28T06:34:05.587654Z"
    }
   },
   "outputs": [],
   "source": [
    "me_ge_ = OrderedDict{String,Vector{String}}()"
   ]
  },
  {
   "cell_type": "code",
   "execution_count": null,
   "id": "70721949",
   "metadata": {},
   "outputs": [],
   "source": [
    "hg = read_hgnc()\n",
    "\n",
    "PR_ = string.(hg[hg[!, \"locus_group\"].==\"protein-coding gene\", \"symbol\"])\n",
    "\n",
    "length(PR_)"
   ]
  },
  {
   "cell_type": "markdown",
   "id": "20d22756",
   "metadata": {},
   "source": [
    "## Ensembl"
   ]
  },
  {
   "cell_type": "code",
   "execution_count": null,
   "id": "20fd67d6",
   "metadata": {},
   "outputs": [],
   "source": [
    "or = TableAccess.read(joinpath(PAI, \"ensembl\", \"human_to_mouse.tsv.gz\"))\n",
    "\n",
    "or[!, \"Gene name\"] = Gene.rename(string.(or[!, \"Gene name\"]))[1]\n",
    "\n",
    ";"
   ]
  },
  {
   "cell_type": "code",
   "execution_count": null,
   "id": "474d4224",
   "metadata": {},
   "outputs": [],
   "source": [
    "hu_mo = Dict{String,String}()\n",
    "\n",
    "for ro in eachrow(or)\n",
    "\n",
    "    hu = ro[\"Gene name\"]\n",
    "\n",
    "    mo = ro[\"Mouse gene name\"]\n",
    "\n",
    "    if !(ismissing(hu) || ismissing(mo))\n",
    "\n",
    "        hu_mo[hu] = mo\n",
    "\n",
    "    end\n",
    "\n",
    "end\n",
    "\n",
    "println(length(hu_mo))\n",
    "\n",
    "me_ge_[\"Ensembl\"] = [pr for pr in PR_ if !haskey(hu_mo, pr)]"
   ]
  },
  {
   "cell_type": "markdown",
   "id": "7f0a8f10-9c98-4822-8df9-0613bf5f316b",
   "metadata": {},
   "source": [
    "## Mouse Genome Informatics"
   ]
  },
  {
   "cell_type": "code",
   "execution_count": null,
   "id": "3bd0e856",
   "metadata": {},
   "outputs": [],
   "source": [
    "mg = TableAccess.read(joinpath(PAI, \"HOM_MouseHumanSequence.rpt.txt.gz\"))\n",
    "\n",
    "se_ = mg[!, \"Common Organism Name\"] .== \"human\"\n",
    "\n",
    "mg[se_, \"Symbol\"] .= Gene.rename(string.(mg[se_, \"Symbol\"]))[1]\n",
    "\n",
    ";"
   ]
  },
  {
   "cell_type": "code",
   "execution_count": null,
   "id": "2621f13e",
   "metadata": {},
   "outputs": [],
   "source": [
    "hu_mo = Dict{String,String}()\n",
    "\n",
    "for da in groupby(mg, \"DB Class Key\")\n",
    "\n",
    "    sy_ = da[!, \"Symbol\"]\n",
    "\n",
    "    se_ = da[!, \"Common Organism Name\"] .== \"human\"\n",
    "\n",
    "    for hu in sy_[se_], mo in sy_[.!se_]\n",
    "\n",
    "        hu_mo[hu] = mo\n",
    "\n",
    "    end\n",
    "\n",
    "end\n",
    "\n",
    "println(length(hu_mo))\n",
    "\n",
    "me_ge_[\"MGI\"] = [pr for pr in PR_ if !haskey(hu_mo, pr)]"
   ]
  },
  {
   "cell_type": "markdown",
   "id": "4fb43872-569f-478a-b2e7-0c87f0b6014b",
   "metadata": {},
   "source": [
    "## 2011 De Novo Origin of Human Protein-Coding Genes"
   ]
  },
  {
   "cell_type": "code",
   "execution_count": null,
   "id": "e24eff30",
   "metadata": {},
   "outputs": [],
   "source": [
    "tr_ = readlines(joinpath(PAI, \"De Novo Origin of Human Protein-Coding Genes\", \"genes.txt\"))\n",
    "\n",
    "me_ge_[\"2011 paper\"] = Gene.rename(vcat([\"CLLU1\", \"c22orf45\", \"DNAH10OS\"], tr_))[1]"
   ]
  },
  {
   "cell_type": "markdown",
   "id": "d50d66c1-4f64-4a22-b080-ffa781889616",
   "metadata": {},
   "source": [
    "## 2019 Genes with human-specific features are primarily involved with brain, immune and metabolic evolution"
   ]
  },
  {
   "cell_type": "code",
   "execution_count": null,
   "id": "51728d63",
   "metadata": {
    "execution": {
     "iopub.execute_input": "2021-09-28T06:34:37.906973Z",
     "iopub.status.busy": "2021-09-28T06:34:37.906380Z",
     "iopub.status.idle": "2021-09-28T06:34:44.005403Z",
     "shell.execute_reply": "2021-09-28T06:34:44.004855Z"
    }
   },
   "outputs": [],
   "source": [
    "an_ge_ir = read_xlsx(\n",
    "    joinpath(\n",
    "        PAI,\n",
    "        \"Genes with human-specific features are primarily involved with brain, immune and metabolic evolution\",\n",
    "        \"12859_2019_2886_MOESM2_ESM.xlsx\",\n",
    "    ),\n",
    "    \"HumanSpecific Genes\",\n",
    ")\n",
    "\n",
    "me_ge_[\"2019 paper\"] = Gene.rename(string.(an_ge_ir[!, \"Gene Name\"]))[1]"
   ]
  },
  {
   "cell_type": "markdown",
   "id": "92d4271d",
   "metadata": {},
   "source": [
    "## Write"
   ]
  },
  {
   "cell_type": "code",
   "execution_count": null,
   "id": "603ae9ea",
   "metadata": {},
   "outputs": [],
   "source": [
    "ge_ = unique(vcat(values(me_ge_)...))\n",
    "\n",
    "an_ge_me = DataFrame(\"Gene\" => ge_)\n",
    "\n",
    "for (me, se_) in me_ge_\n",
    "\n",
    "    an_ge_me[!, me] = [ge in se_ for ge in ge_]\n",
    "\n",
    "end\n",
    "\n",
    "an_ge_me[!, \"Sum\"] = vec(sum(Matrix(an_ge_me[!, 2:end]); dims = 2))\n",
    "\n",
    "sort!(an_ge_me, \"Sum\"; rev = true)\n",
    "\n",
    "TableAccess.write(joinpath(PAO, \"human_gene_by_method.tsv\"), an_ge_me)\n",
    "\n",
    "an_ge_me"
   ]
  }
 ],
 "metadata": {
  "@webio": {
   "lastCommId": null,
   "lastKernelId": null
  },
  "kernelspec": {
   "display_name": "Julia 1.6.3",
   "language": "julia",
   "name": "julia-1.6"
  },
  "language_info": {
   "file_extension": ".jl",
   "mimetype": "application/julia",
   "name": "julia",
   "version": "1.6.3"
  }
 },
 "nbformat": 4,
 "nbformat_minor": 5
}
