{
 "cells": [
  {
   "cell_type": "code",
   "execution_count": null,
   "id": "f468ff1c-181d-4f4f-9189-b26dbbd3faa2",
   "metadata": {
    "execution": {
     "iopub.execute_input": "2021-12-07T22:53:29.080252Z",
     "iopub.status.busy": "2021-12-07T22:53:28.604180Z",
     "iopub.status.idle": "2021-12-07T22:53:48.086883Z",
     "shell.execute_reply": "2021-12-07T22:53:48.086361Z"
    }
   },
   "outputs": [],
   "source": [
    "include(\"_.jl\")"
   ]
  },
  {
   "cell_type": "code",
   "execution_count": null,
   "id": "830455ee-2650-4fd8-bd7f-a65789db6f7c",
   "metadata": {
    "execution": {
     "iopub.execute_input": "2021-12-07T22:53:49.338623Z",
     "iopub.status.busy": "2021-12-07T22:53:48.088248Z",
     "iopub.status.idle": "2021-12-07T22:53:50.360142Z",
     "shell.execute_reply": "2021-12-07T22:53:50.359685Z"
    }
   },
   "outputs": [],
   "source": [
    "me_ge_ = OrderedDict{String,Vector{String}}()\n",
    "\n",
    ";"
   ]
  },
  {
   "cell_type": "code",
   "execution_count": null,
   "id": "70721949",
   "metadata": {
    "execution": {
     "iopub.execute_input": "2021-12-07T22:53:50.361998Z",
     "iopub.status.busy": "2021-12-07T22:53:50.361426Z",
     "iopub.status.idle": "2021-12-07T22:54:20.283182Z",
     "shell.execute_reply": "2021-12-07T22:54:20.282730Z"
    }
   },
   "outputs": [],
   "source": [
    "hg = Gene.read_hgnc()\n",
    "\n",
    "pr_ = unique(skipmissing(hg[hg[!, \"locus_group\"].==\"protein-coding gene\", \"symbol\"]))\n",
    "\n",
    "pr_ = sort(string.(pr_))"
   ]
  },
  {
   "cell_type": "markdown",
   "id": "20d22756",
   "metadata": {},
   "source": [
    "## Ensembl"
   ]
  },
  {
   "cell_type": "code",
   "execution_count": null,
   "id": "5fddf7aa",
   "metadata": {
    "execution": {
     "iopub.execute_input": "2021-12-07T22:54:20.285129Z",
     "iopub.status.busy": "2021-12-07T22:54:20.284546Z",
     "iopub.status.idle": "2021-12-07T22:54:32.943925Z",
     "shell.execute_reply": "2021-12-07T22:54:32.943528Z"
    }
   },
   "outputs": [],
   "source": [
    "hu_mo = Gene.map_mouse(; di = \"human_to_mouse\")\n",
    "\n",
    "me_ge_[\"Ensembl\"] = [pr for pr in pr_ if !haskey(hu_mo, pr)]"
   ]
  },
  {
   "cell_type": "markdown",
   "id": "7f0a8f10-9c98-4822-8df9-0613bf5f316b",
   "metadata": {},
   "source": [
    "## Mouse Genome Informatics"
   ]
  },
  {
   "cell_type": "code",
   "execution_count": null,
   "id": "797cfdee",
   "metadata": {
    "execution": {
     "iopub.execute_input": "2021-12-07T22:54:32.946736Z",
     "iopub.status.busy": "2021-12-07T22:54:32.945914Z",
     "iopub.status.idle": "2021-12-07T22:54:53.043725Z",
     "shell.execute_reply": "2021-12-07T22:54:53.043259Z"
    }
   },
   "outputs": [],
   "source": [
    "mg = TableAccess.read(joinpath(PAI, \"hom_mousehumansequence.rpt.txt.gz\"))\n",
    "\n",
    "se_ = mg[!, \"Common Organism Name\"] .== \"human\"\n",
    "\n",
    "mg[se_, \"Symbol\"] .= Gene.rename(string.(mg[se_, \"Symbol\"]))[1]\n",
    "\n",
    "hu_mo = Dict{String,String}()\n",
    "\n",
    "for da in groupby(mg, \"DB Class Key\")\n",
    "\n",
    "    sy_ = da[!, \"Symbol\"]\n",
    "\n",
    "    se_ = da[!, \"Common Organism Name\"] .== \"human\"\n",
    "\n",
    "    for hu in sy_[se_], mo in sy_[.!se_]\n",
    "\n",
    "        hu_mo[hu] = mo\n",
    "\n",
    "    end\n",
    "\n",
    "end\n",
    "\n",
    "println(length(hu_mo))\n",
    "\n",
    "me_ge_[\"MGI\"] = [pr for pr in pr_ if !haskey(hu_mo, pr)]"
   ]
  },
  {
   "cell_type": "markdown",
   "id": "4fb43872-569f-478a-b2e7-0c87f0b6014b",
   "metadata": {},
   "source": [
    "## 2011 De Novo Origin of Human Protein-Coding Genes"
   ]
  },
  {
   "cell_type": "code",
   "execution_count": null,
   "id": "e24eff30",
   "metadata": {
    "execution": {
     "iopub.execute_input": "2021-12-07T22:54:53.045659Z",
     "iopub.status.busy": "2021-12-07T22:54:53.045085Z",
     "iopub.status.idle": "2021-12-07T22:55:09.903472Z",
     "shell.execute_reply": "2021-12-07T22:55:09.902964Z"
    }
   },
   "outputs": [],
   "source": [
    "tr_ = readlines(joinpath(PAI, \"de_novo_origin_of_human_protein_coding_genes\", \"genes.txt\"))\n",
    "\n",
    "me_ge_[\"2011 paper\"] = Gene.rename(vcat([\"CLLU1\", \"c22orf45\", \"DNAH10OS\"], tr_))[1]"
   ]
  },
  {
   "cell_type": "markdown",
   "id": "d50d66c1-4f64-4a22-b080-ffa781889616",
   "metadata": {},
   "source": [
    "## 2019 Genes with human-specific features are primarily involved with brain, immune and metabolic evolution"
   ]
  },
  {
   "cell_type": "code",
   "execution_count": null,
   "id": "51728d63",
   "metadata": {
    "execution": {
     "iopub.execute_input": "2021-12-07T22:55:09.905410Z",
     "iopub.status.busy": "2021-12-07T22:55:09.904828Z",
     "iopub.status.idle": "2021-12-07T22:55:29.712392Z",
     "shell.execute_reply": "2021-12-07T22:55:29.711921Z"
    }
   },
   "outputs": [],
   "source": [
    "an_ge_ir = TableAccess.read_xlsx(\n",
    "    joinpath(\n",
    "        PAI,\n",
    "        \"genes_with_human_specific_features_are_primarily_involved_with_brain,_immune_and_metabolic_evolution\",\n",
    "        \"12859_2019_2886_MOESM2_ESM.xlsx\",\n",
    "    ),\n",
    "    \"HumanSpecific Genes\",\n",
    ")\n",
    "\n",
    "me_ge_[\"2019 paper\"] = Gene.rename(string.(an_ge_ir[!, \"Gene Name\"]))[1]"
   ]
  },
  {
   "cell_type": "markdown",
   "id": "92d4271d",
   "metadata": {},
   "source": [
    "## Write"
   ]
  },
  {
   "cell_type": "code",
   "execution_count": null,
   "id": "5318d013",
   "metadata": {
    "execution": {
     "iopub.execute_input": "2021-12-07T22:55:29.714363Z",
     "iopub.status.busy": "2021-12-07T22:55:29.713773Z",
     "iopub.status.idle": "2021-12-07T22:55:36.084413Z",
     "shell.execute_reply": "2021-12-07T22:55:36.083955Z"
    }
   },
   "outputs": [],
   "source": [
    "an_ge_me = write_gene_by_method(PAO, \"human\", me_ge_)"
   ]
  }
 ],
 "metadata": {
  "@webio": {
   "lastCommId": "6af5a2d5b03e48f5a521cef3e2fdf409",
   "lastKernelId": "ca8ec1d8-3178-4a3b-a2b6-5b9a653fca83"
  },
  "kernelspec": {
   "display_name": "Julia 1.7.0",
   "language": "julia",
   "name": "julia-1.7"
  },
  "language_info": {
   "file_extension": ".jl",
   "mimetype": "application/julia",
   "name": "julia",
   "version": "1.7.0"
  }
 },
 "nbformat": 4,
 "nbformat_minor": 5
}
