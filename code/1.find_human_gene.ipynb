{
 "cells": [
  {
   "cell_type": "code",
   "execution_count": null,
   "id": "f468ff1c-181d-4f4f-9189-b26dbbd3faa2",
   "metadata": {
    "execution": {
     "iopub.execute_input": "2021-12-07T23:42:10.930708Z",
     "iopub.status.busy": "2021-12-07T23:42:10.464748Z",
     "iopub.status.idle": "2021-12-07T23:42:24.040483Z",
     "shell.execute_reply": "2021-12-07T23:42:24.039830Z"
    }
   },
   "outputs": [],
   "source": [
    "include(\"_.jl\")"
   ]
  },
  {
   "cell_type": "code",
   "execution_count": null,
   "id": "830455ee-2650-4fd8-bd7f-a65789db6f7c",
   "metadata": {
    "execution": {
     "iopub.execute_input": "2021-12-07T23:42:25.328543Z",
     "iopub.status.busy": "2021-12-07T23:42:24.041704Z",
     "iopub.status.idle": "2021-12-07T23:42:26.390289Z",
     "shell.execute_reply": "2021-12-07T23:42:26.389699Z"
    }
   },
   "outputs": [],
   "source": [
    "me_ge_ = OrderedDict{String, Vector{String}}()\n",
    "\n",
    ";"
   ]
  },
  {
   "cell_type": "code",
   "execution_count": null,
   "id": "70721949",
   "metadata": {
    "execution": {
     "iopub.execute_input": "2021-12-07T23:42:26.392289Z",
     "iopub.status.busy": "2021-12-07T23:42:26.391690Z",
     "iopub.status.idle": "2021-12-07T23:42:56.902466Z",
     "shell.execute_reply": "2021-12-07T23:42:56.901989Z"
    }
   },
   "outputs": [],
   "source": [
    "hg = Gene.read_hgnc()\n",
    "\n",
    "pr_ = unique(skipmissing(hg[hg[!, \"locus_group\"] .== \"protein-coding gene\", \"symbol\"]))\n",
    "\n",
    "pr_ = sort(string.(pr_))"
   ]
  },
  {
   "cell_type": "markdown",
   "id": "20d22756",
   "metadata": {},
   "source": [
    "## Ensembl"
   ]
  },
  {
   "cell_type": "code",
   "execution_count": null,
   "id": "5fddf7aa",
   "metadata": {
    "execution": {
     "iopub.execute_input": "2021-12-07T23:42:56.904495Z",
     "iopub.status.busy": "2021-12-07T23:42:56.903901Z",
     "iopub.status.idle": "2021-12-07T23:43:09.668759Z",
     "shell.execute_reply": "2021-12-07T23:43:09.668252Z"
    }
   },
   "outputs": [],
   "source": [
    "hu_mo = Gene.map_mouse(; di = \"human_to_mouse\")\n",
    "\n",
    "me_ge_[\"Ensembl\"] = [pr for pr in pr_ if !haskey(hu_mo, pr)]"
   ]
  },
  {
   "cell_type": "markdown",
   "id": "7f0a8f10-9c98-4822-8df9-0613bf5f316b",
   "metadata": {},
   "source": [
    "## Mouse Genome Informatics"
   ]
  },
  {
   "cell_type": "code",
   "execution_count": null,
   "id": "797cfdee",
   "metadata": {
    "execution": {
     "iopub.execute_input": "2021-12-07T23:43:09.671009Z",
     "iopub.status.busy": "2021-12-07T23:43:09.670293Z",
     "iopub.status.idle": "2021-12-07T23:43:30.610631Z",
     "shell.execute_reply": "2021-12-07T23:43:30.610166Z"
    }
   },
   "outputs": [],
   "source": [
    "mg = TableAccess.read(joinpath(PAI, \"hom_mousehumansequence.rpt.txt.gz\"))\n",
    "\n",
    "se_ = mg[!, \"Common Organism Name\"] .== \"human\"\n",
    "\n",
    "mg[se_, \"Symbol\"] .= Gene.rename(string.(mg[se_, \"Symbol\"]))[1]\n",
    "\n",
    "hu_mo = Dict{String, String}()\n",
    "\n",
    "for da in groupby(mg, \"DB Class Key\")\n",
    "\n",
    "    sy_ = da[!, \"Symbol\"]\n",
    "\n",
    "    se_ = da[!, \"Common Organism Name\"] .== \"human\"\n",
    "\n",
    "    for hu in sy_[se_], mo in sy_[.!se_]\n",
    "\n",
    "        hu_mo[hu] = mo\n",
    "\n",
    "    end\n",
    "\n",
    "end\n",
    "\n",
    "println(length(hu_mo))\n",
    "\n",
    "me_ge_[\"MGI\"] = [pr for pr in pr_ if !haskey(hu_mo, pr)]"
   ]
  },
  {
   "cell_type": "markdown",
   "id": "4fb43872-569f-478a-b2e7-0c87f0b6014b",
   "metadata": {},
   "source": [
    "## 2011 De Novo Origin of Human Protein-Coding Genes"
   ]
  },
  {
   "cell_type": "code",
   "execution_count": null,
   "id": "e24eff30",
   "metadata": {
    "execution": {
     "iopub.execute_input": "2021-12-07T23:43:30.612573Z",
     "iopub.status.busy": "2021-12-07T23:43:30.611994Z",
     "iopub.status.idle": "2021-12-07T23:43:47.993691Z",
     "shell.execute_reply": "2021-12-07T23:43:47.993187Z"
    }
   },
   "outputs": [],
   "source": [
    "tr_ = readlines(joinpath(PAI, \"de_novo_origin_of_human_protein_coding_genes\", \"genes.txt\"))\n",
    "\n",
    "me_ge_[\"2011 paper\"] = Gene.rename(vcat([\"CLLU1\", \"c22orf45\", \"DNAH10OS\"], tr_))[1]"
   ]
  },
  {
   "cell_type": "markdown",
   "id": "d50d66c1-4f64-4a22-b080-ffa781889616",
   "metadata": {},
   "source": [
    "## 2019 Genes with human-specific features are primarily involved with brain, immune and metabolic evolution"
   ]
  },
  {
   "cell_type": "code",
   "execution_count": null,
   "id": "51728d63",
   "metadata": {
    "execution": {
     "iopub.execute_input": "2021-12-07T23:43:47.995706Z",
     "iopub.status.busy": "2021-12-07T23:43:47.995088Z",
     "iopub.status.idle": "2021-12-07T23:44:10.220379Z",
     "shell.execute_reply": "2021-12-07T23:44:10.219884Z"
    }
   },
   "outputs": [],
   "source": [
    "an_ge_ir = TableAccess.read_xlsx(\n",
    "    joinpath(\n",
    "        PAI,\n",
    "        \"genes_with_human_specific_features_are_primarily_involved_with_brain,_immune_and_metabolic_evolution\",\n",
    "        \"12859_2019_2886_MOESM2_ESM.xlsx\",\n",
    "    ),\n",
    "    \"HumanSpecific Genes\",\n",
    ")\n",
    "\n",
    "me_ge_[\"2019 paper\"] = Gene.rename(string.(an_ge_ir[!, \"Gene Name\"]))[1]"
   ]
  },
  {
   "cell_type": "markdown",
   "id": "92d4271d",
   "metadata": {},
   "source": [
    "## Write"
   ]
  },
  {
   "cell_type": "code",
   "execution_count": null,
   "id": "5318d013",
   "metadata": {
    "execution": {
     "iopub.execute_input": "2021-12-07T23:44:10.222424Z",
     "iopub.status.busy": "2021-12-07T23:44:10.221805Z",
     "iopub.status.idle": "2021-12-07T23:44:17.957163Z",
     "shell.execute_reply": "2021-12-07T23:44:17.956640Z"
    }
   },
   "outputs": [],
   "source": [
    "an_ge_me = write_gene_by_method(PAO, \"human\", me_ge_)"
   ]
  }
 ],
 "metadata": {
  "@webio": {
   "lastCommId": null,
   "lastKernelId": null
  },
  "kernelspec": {
   "display_name": "Julia 1.7.2",
   "language": "julia",
   "name": "julia-1.7"
  },
  "language_info": {
   "file_extension": ".jl",
   "mimetype": "application/julia",
   "name": "julia",
   "version": "1.7.2"
  }
 },
 "nbformat": 4,
 "nbformat_minor": 5
}
