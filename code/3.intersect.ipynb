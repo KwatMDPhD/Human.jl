{
 "cells": [
  {
   "cell_type": "code",
   "execution_count": null,
   "id": "f468ff1c-181d-4f4f-9189-b26dbbd3faa2",
   "metadata": {
    "execution": {
     "iopub.execute_input": "2021-11-28T10:21:45.189709Z",
     "iopub.status.busy": "2021-11-28T10:21:44.644740Z",
     "iopub.status.idle": "2021-11-28T10:21:52.080187Z",
     "shell.execute_reply": "2021-11-28T10:21:52.079603Z"
    }
   },
   "outputs": [],
   "source": [
    "include(\"_.jl\")"
   ]
  },
  {
   "cell_type": "code",
   "execution_count": null,
   "id": "d2d02818",
   "metadata": {},
   "outputs": [],
   "source": [
    "an_hu_me = TableAccess.read(joinpath(PAO, \"human_gene_by_method.tsv\"))\n",
    "\n",
    "hu_ = an_hu_me[!, \"Gene\"]\n",
    "\n",
    "length(hu_)"
   ]
  },
  {
   "cell_type": "code",
   "execution_count": null,
   "id": "7bfacbc9",
   "metadata": {
    "execution": {
     "iopub.execute_input": "2021-11-28T10:21:52.317010Z",
     "iopub.status.busy": "2021-11-28T10:21:52.081364Z",
     "iopub.status.idle": "2021-11-28T10:21:53.765517Z",
     "shell.execute_reply": "2021-11-28T10:21:53.765119Z"
    }
   },
   "outputs": [],
   "source": [
    "na = \"Human Immune Population\"\n",
    "\n",
    "se_im_ = sort(\n",
    "    convert(\n",
    "        Dict{String,Vector{String}},\n",
    "        DictExtension.read(joinpath(PAI, \"set_to_genes.json\")),\n",
    "    ),\n",
    ")\n",
    "\n",
    "im_ = vcat(values(se_im_)...)\n",
    "\n",
    "length(im_)"
   ]
  },
  {
   "cell_type": "code",
   "execution_count": null,
   "id": "84429106-6210-40fc-b479-205474ec4e6d",
   "metadata": {
    "execution": {
     "iopub.execute_input": "2021-11-28T10:21:53.767335Z",
     "iopub.status.busy": "2021-11-28T10:21:53.766830Z",
     "iopub.status.idle": "2021-11-28T10:21:53.789191Z",
     "shell.execute_reply": "2021-11-28T10:21:53.788510Z"
    }
   },
   "outputs": [],
   "source": [
    "co_ = intersect(im_, hu_)"
   ]
  },
  {
   "cell_type": "code",
   "execution_count": null,
   "id": "1ec85bcf",
   "metadata": {},
   "outputs": [],
   "source": [
    "se_ = [join([se for (se, im_) in se_im_ if co in im_], \"|\") for co in co_]"
   ]
  },
  {
   "cell_type": "code",
   "execution_count": null,
   "id": "9c4f2a93",
   "metadata": {
    "execution": {
     "iopub.execute_input": "2021-11-28T10:21:53.791067Z",
     "iopub.status.busy": "2021-11-28T10:21:53.790563Z",
     "iopub.status.idle": "2021-11-28T10:22:20.279495Z",
     "shell.execute_reply": "2021-11-28T10:22:20.278664Z"
    }
   },
   "outputs": [],
   "source": [
    "hg_gr = Gene.map_to_column(coalesce.(Gene.read_hgnc(), \"?\"), [\"gene_group\", \"symbol\"])\n",
    "\n",
    "gr_ = Vector{String}()\n",
    "\n",
    "for co in co_\n",
    "\n",
    "    if haskey(hg_gr, co)\n",
    "\n",
    "        gr = hg_gr[co]\n",
    "\n",
    "    else\n",
    "\n",
    "        println(co)\n",
    "\n",
    "        gr = \"??\"\n",
    "\n",
    "    end\n",
    "\n",
    "    push!(gr_, gr)\n",
    "\n",
    "end\n",
    "\n",
    "gr_"
   ]
  },
  {
   "cell_type": "code",
   "execution_count": null,
   "id": "fba34aba",
   "metadata": {},
   "outputs": [],
   "source": [
    "an_ge_ir = DataFrame(\"Gene\" => co_, na => se_, \"Group\" => gr_)\n",
    "\n",
    "TableAccess.write(joinpath(PAO, \"gene_by_information.tsv\"), an_ge_ir)\n",
    "\n",
    "an_ge_ir"
   ]
  },
  {
   "cell_type": "markdown",
   "id": "14b69727",
   "metadata": {},
   "source": [
    "## Plot"
   ]
  },
  {
   "cell_type": "code",
   "execution_count": null,
   "id": "c67db06a",
   "metadata": {},
   "outputs": [],
   "source": [
    "he = 1390\n",
    "\n",
    "wi = round(Int64, he * MathConstants.golden)\n",
    "\n",
    "axis_title_font_size = 24\n",
    "\n",
    "la = Layout(\n",
    "    barmode = \"stack\",\n",
    "    height = he,\n",
    "    width = wi,\n",
    "    margin_b = 160,\n",
    "    title = attr(text = string(\"Number of Human Genes in \", na, \"s\"), font_size = 32),\n",
    "    yaxis_title = attr(text = \"Number of Human Genes\", font_size = axis_title_font_size),\n",
    "    xaxis = attr(title = attr(text = na, font_size = axis_title_font_size), tickangle = 60),\n",
    ")\n",
    "\n",
    "nac = PathExtension.clean(na)\n",
    "\n",
    ";"
   ]
  },
  {
   "cell_type": "code",
   "execution_count": null,
   "id": "ff192432",
   "metadata": {},
   "outputs": [],
   "source": [
    "se_n = sort(countmap(an_ge_ir[!, na]); byvalue = true)"
   ]
  },
  {
   "cell_type": "code",
   "execution_count": null,
   "id": "c7304166",
   "metadata": {},
   "outputs": [],
   "source": [
    "x = collect(keys(se_n))\n",
    "\n",
    "y = collect(Float64, values(se_n))\n",
    "\n",
    "pl = FinalFigure.plot_bar([y], [x], la = la)\n",
    "\n",
    "FinalFigure.write(joinpath(PAO, string(\"human_\", nac, \"_genes.png\")), pl, he, wi, 8)"
   ]
  },
  {
   "cell_type": "code",
   "execution_count": null,
   "id": "5fe94a23",
   "metadata": {},
   "outputs": [],
   "source": [
    "sort!(an_ge_ir, order(na; by = po -> se_n[po]))\n",
    "\n",
    "name_ = Vector{String}()\n",
    "\n",
    "y_ = Vector{Vector{Float64}}()\n",
    "\n",
    "for gr in unique([split(gr, \"|\")[1] for gr in an_ge_ir[!, \"Group\"] if !(gr in [\"?\", \"??\"])])\n",
    "\n",
    "    push!(name_, gr)\n",
    "\n",
    "    push!(\n",
    "        y_,\n",
    "        [\n",
    "            sum(getindex.(split.(df[!, \"Group\"], \"|\"), 1) .== gr) for\n",
    "            df in groupby(an_ge_ir, na)\n",
    "        ],\n",
    "    )\n",
    "\n",
    "end\n",
    "\n",
    "pl = FinalFigure.plot_bar(y_, [x for it = 1:length(y_)]; name_ = name_, la = la)\n",
    "\n",
    "FinalFigure.write(\n",
    "    joinpath(PAO, string(\"human_\", nac, \"_genes_by_group.png\")),\n",
    "    pl,\n",
    "    he,\n",
    "    wi,\n",
    "    8,\n",
    ")"
   ]
  }
 ],
 "metadata": {
  "@webio": {
   "lastCommId": "2f3cba45bc334f689afa6282322fde6f",
   "lastKernelId": "95351171-a3b0-4242-b619-aa25fc6a688d"
  },
  "kernelspec": {
   "display_name": "Julia 1.7.0",
   "language": "julia",
   "name": "julia-1.7"
  },
  "language_info": {
   "file_extension": ".jl",
   "mimetype": "application/julia",
   "name": "julia",
   "version": "1.7.0"
  }
 },
 "nbformat": 4,
 "nbformat_minor": 5
}
