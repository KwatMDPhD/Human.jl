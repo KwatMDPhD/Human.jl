{
 "cells": [
  {
   "cell_type": "code",
   "execution_count": null,
   "id": "f468ff1c-181d-4f4f-9189-b26dbbd3faa2",
   "metadata": {
    "execution": {
     "iopub.execute_input": "2021-12-07T22:57:40.639513Z",
     "iopub.status.busy": "2021-12-07T22:57:40.174724Z",
     "iopub.status.idle": "2021-12-07T22:57:54.136341Z",
     "shell.execute_reply": "2021-12-07T22:57:54.135687Z"
    }
   },
   "outputs": [],
   "source": [
    "include(\"_.jl\")"
   ]
  },
  {
   "cell_type": "code",
   "execution_count": null,
   "id": "d2d02818",
   "metadata": {
    "execution": {
     "iopub.execute_input": "2021-12-07T22:57:55.414921Z",
     "iopub.status.busy": "2021-12-07T22:57:54.137681Z",
     "iopub.status.idle": "2021-12-07T22:58:22.913459Z",
     "shell.execute_reply": "2021-12-07T22:58:22.912988Z"
    }
   },
   "outputs": [],
   "source": [
    "an_hu_me = TableAccess.read(joinpath(PAO, \"human_gene_by_method.tsv\"))\n",
    "\n",
    "hu_ = an_hu_me[!, \"Gene\"]"
   ]
  },
  {
   "cell_type": "code",
   "execution_count": null,
   "id": "f58d3101",
   "metadata": {
    "execution": {
     "iopub.execute_input": "2021-12-07T22:58:22.915469Z",
     "iopub.status.busy": "2021-12-07T22:58:22.914807Z",
     "iopub.status.idle": "2021-12-07T22:58:23.964841Z",
     "shell.execute_reply": "2021-12-07T22:58:23.964368Z"
    }
   },
   "outputs": [],
   "source": [
    "pa1 = \"set1_to_genes.json\"\n",
    "\n",
    "na1 = \"Human Immune Population\"\n",
    "\n",
    "na1c = PathExtension.clean(na1)\n",
    "\n",
    "se1_ge_ = DictExtension.read(joinpath(PAI, pa1))"
   ]
  },
  {
   "cell_type": "code",
   "execution_count": null,
   "id": "61697829",
   "metadata": {
    "execution": {
     "iopub.execute_input": "2021-12-07T22:58:22.915469Z",
     "iopub.status.busy": "2021-12-07T22:58:22.914807Z",
     "iopub.status.idle": "2021-12-07T22:58:23.964841Z",
     "shell.execute_reply": "2021-12-07T22:58:23.964368Z"
    }
   },
   "outputs": [],
   "source": [
    "pa2 = \"set2_to_genes.json\"\n",
    "\n",
    "na2 = \"Brain Cell Type\"\n",
    "\n",
    "na2c = PathExtension.clean(na1)\n",
    "\n",
    "se2_ge_ = DictExtension.read(joinpath(PAI, pa2))"
   ]
  },
  {
   "cell_type": "code",
   "execution_count": null,
   "id": "7bfacbc9",
   "metadata": {
    "execution": {
     "iopub.execute_input": "2021-12-07T22:58:22.915469Z",
     "iopub.status.busy": "2021-12-07T22:58:22.914807Z",
     "iopub.status.idle": "2021-12-07T22:58:23.964841Z",
     "shell.execute_reply": "2021-12-07T22:58:23.964368Z"
    }
   },
   "outputs": [],
   "source": [
    "na = string(na1, \"_\", na2)\n",
    "\n",
    "nac = PathExtension.clean(na)\n",
    "\n",
    "se_ge_ = sort(convert(Dict{String,Vector{String}}, merge(se1_ge_, se2_ge_)))\n",
    "\n",
    "ge_ = vcat(values(se_ge_)...)"
   ]
  },
  {
   "cell_type": "code",
   "execution_count": null,
   "id": "84429106-6210-40fc-b479-205474ec4e6d",
   "metadata": {
    "execution": {
     "iopub.execute_input": "2021-12-07T22:58:23.966873Z",
     "iopub.status.busy": "2021-12-07T22:58:23.966200Z",
     "iopub.status.idle": "2021-12-07T22:58:24.144160Z",
     "shell.execute_reply": "2021-12-07T22:58:24.143701Z"
    }
   },
   "outputs": [],
   "source": [
    "co_ = intersect(hu_, ge_)"
   ]
  },
  {
   "cell_type": "code",
   "execution_count": null,
   "id": "1ec85bcf",
   "metadata": {
    "execution": {
     "iopub.execute_input": "2021-12-07T22:58:24.146020Z",
     "iopub.status.busy": "2021-12-07T22:58:24.145430Z",
     "iopub.status.idle": "2021-12-07T22:58:24.387126Z",
     "shell.execute_reply": "2021-12-07T22:58:24.386666Z"
    }
   },
   "outputs": [],
   "source": [
    "se_ = [join([se for (se, ge_) in se_ge_ if co in ge_], \" & \") for co in co_]"
   ]
  },
  {
   "cell_type": "code",
   "execution_count": null,
   "id": "9c4f2a93",
   "metadata": {
    "execution": {
     "iopub.execute_input": "2021-12-07T22:58:24.389156Z",
     "iopub.status.busy": "2021-12-07T22:58:24.388481Z",
     "iopub.status.idle": "2021-12-07T22:58:31.010423Z",
     "shell.execute_reply": "2021-12-07T22:58:31.010033Z"
    }
   },
   "outputs": [],
   "source": [
    "hg_gr = Gene.map_to_column(coalesce.(Gene.read_hgnc(), \"?\"), [\"gene_group\", \"symbol\"])\n",
    "\n",
    "gr_ = Vector{String}()\n",
    "\n",
    "for co in co_\n",
    "\n",
    "    if haskey(hg_gr, co)\n",
    "\n",
    "        gr = hg_gr[co]\n",
    "\n",
    "    else\n",
    "\n",
    "        println(co)\n",
    "\n",
    "        gr = \"??\"\n",
    "\n",
    "    end\n",
    "\n",
    "    push!(gr_, gr)\n",
    "\n",
    "end\n",
    "\n",
    "gr_"
   ]
  },
  {
   "cell_type": "code",
   "execution_count": null,
   "id": "fba34aba",
   "metadata": {
    "execution": {
     "iopub.execute_input": "2021-12-07T22:58:31.012080Z",
     "iopub.status.busy": "2021-12-07T22:58:31.011571Z",
     "iopub.status.idle": "2021-12-07T22:58:35.471029Z",
     "shell.execute_reply": "2021-12-07T22:58:35.470572Z"
    }
   },
   "outputs": [],
   "source": [
    "an_ge_ir = DataFrame(\"Gene\" => co_, na => se_, \"Group\" => gr_)\n",
    "\n",
    "TableAccess.write(\n",
    "    joinpath(PAO, string(\"human_\", nac, \"_gene_by_information.tsv\")),\n",
    "    an_ge_ir,\n",
    ")\n",
    "\n",
    "an_ge_ir"
   ]
  },
  {
   "cell_type": "markdown",
   "id": "14b69727",
   "metadata": {},
   "source": [
    "## Plot"
   ]
  },
  {
   "cell_type": "code",
   "execution_count": null,
   "id": "c67db06a",
   "metadata": {
    "execution": {
     "iopub.execute_input": "2021-12-07T22:58:35.473001Z",
     "iopub.status.busy": "2021-12-07T22:58:35.472402Z",
     "iopub.status.idle": "2021-12-07T22:58:38.480343Z",
     "shell.execute_reply": "2021-12-07T22:58:38.479819Z"
    }
   },
   "outputs": [],
   "source": [
    "he = 1390\n",
    "\n",
    "wi = round(Int64, he * MathConstants.golden)\n",
    "\n",
    "axis_title_font_size = 24\n",
    "\n",
    "la = Layout(\n",
    "    barmode = \"stack\",\n",
    "    height = he,\n",
    "    width = wi,\n",
    "    margin_b = 160,\n",
    "    title = attr(text = string(\"Number of Human Genes in \", na, \"s\"), font_size = 32),\n",
    "    yaxis_title = attr(text = \"Number of Human Genes\", font_size = axis_title_font_size),\n",
    "    xaxis = attr(title = attr(text = na, font_size = axis_title_font_size), tickangle = 60),\n",
    ")\n",
    "\n",
    ";"
   ]
  },
  {
   "cell_type": "code",
   "execution_count": null,
   "id": "ff192432",
   "metadata": {
    "execution": {
     "iopub.execute_input": "2021-12-07T22:58:38.482400Z",
     "iopub.status.busy": "2021-12-07T22:58:38.481725Z",
     "iopub.status.idle": "2021-12-07T22:58:39.374733Z",
     "shell.execute_reply": "2021-12-07T22:58:39.374247Z"
    }
   },
   "outputs": [],
   "source": [
    "se_n = sort(countmap(an_ge_ir[!, na]); byvalue = true)"
   ]
  },
  {
   "cell_type": "code",
   "execution_count": null,
   "id": "c7304166",
   "metadata": {
    "execution": {
     "iopub.execute_input": "2021-12-07T22:58:39.376654Z",
     "iopub.status.busy": "2021-12-07T22:58:39.376062Z",
     "iopub.status.idle": "2021-12-07T22:58:48.148385Z",
     "shell.execute_reply": "2021-12-07T22:58:48.147831Z"
    }
   },
   "outputs": [],
   "source": [
    "x = collect(keys(se_n))\n",
    "\n",
    "y = collect(Float64, values(se_n))\n",
    "\n",
    "pl = FinalFigure.plot_bar([y], [x], la = la)\n",
    "\n",
    "FinalFigure.write(joinpath(PAO, string(\"human_\", nac, \"_genes.png\")), pl, he, wi, 8)"
   ]
  },
  {
   "cell_type": "code",
   "execution_count": null,
   "id": "5fe94a23",
   "metadata": {
    "execution": {
     "iopub.execute_input": "2021-12-07T22:58:48.150410Z",
     "iopub.status.busy": "2021-12-07T22:58:48.149786Z",
     "iopub.status.idle": "2021-12-07T22:58:53.098607Z",
     "shell.execute_reply": "2021-12-07T22:58:53.098030Z"
    }
   },
   "outputs": [],
   "source": [
    "sort!(an_ge_ir, order(na; by = po -> se_n[po]))\n",
    "\n",
    "name_ = Vector{String}()\n",
    "\n",
    "y_ = Vector{Vector{Float64}}()\n",
    "\n",
    "for gr in unique([split(gr, \"|\")[1] for gr in an_ge_ir[!, \"Group\"] if !(gr in [\"?\", \"??\"])])\n",
    "\n",
    "    push!(name_, gr)\n",
    "\n",
    "    push!(\n",
    "        y_,\n",
    "        [\n",
    "            sum(getindex.(split.(df[!, \"Group\"], \"|\"), 1) .== gr) for\n",
    "            df in groupby(an_ge_ir, na)\n",
    "        ],\n",
    "    )\n",
    "\n",
    "end\n",
    "\n",
    "pl = FinalFigure.plot_bar(y_, [x for it = 1:length(y_)]; name_ = name_, la = la)\n",
    "\n",
    "FinalFigure.write(\n",
    "    joinpath(PAO, string(\"human_\", nac, \"_genes_by_group.png\")),\n",
    "    pl,\n",
    "    he,\n",
    "    wi,\n",
    "    8,\n",
    ")"
   ]
  }
 ],
 "metadata": {
  "@webio": {
   "lastCommId": "9974e1e446ca44a89b5bf3da651245cc",
   "lastKernelId": "95351171-a3b0-4242-b619-aa25fc6a688d"
  },
  "kernelspec": {
   "display_name": "Julia 1.7.0",
   "language": "julia",
   "name": "julia-1.7"
  },
  "language_info": {
   "file_extension": ".jl",
   "mimetype": "application/julia",
   "name": "julia",
   "version": "1.7.0"
  }
 },
 "nbformat": 4,
 "nbformat_minor": 5
}
