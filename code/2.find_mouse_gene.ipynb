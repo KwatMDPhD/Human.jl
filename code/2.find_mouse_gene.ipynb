{
 "cells": [
  {
   "cell_type": "code",
   "execution_count": null,
   "id": "f468ff1c-181d-4f4f-9189-b26dbbd3faa2",
   "metadata": {
    "execution": {
     "iopub.execute_input": "2021-12-07T21:32:14.359079Z",
     "iopub.status.busy": "2021-12-07T21:32:13.683766Z",
     "iopub.status.idle": "2021-12-07T21:32:35.856208Z",
     "shell.execute_reply": "2021-12-07T21:32:35.855254Z"
    }
   },
   "outputs": [],
   "source": [
    "include(\"_.jl\")"
   ]
  },
  {
   "cell_type": "code",
   "execution_count": null,
   "id": "830455ee-2650-4fd8-bd7f-a65789db6f7c",
   "metadata": {
    "execution": {
     "iopub.execute_input": "2021-12-07T21:32:37.879108Z",
     "iopub.status.busy": "2021-12-07T21:32:35.858063Z",
     "iopub.status.idle": "2021-12-07T21:32:39.514979Z",
     "shell.execute_reply": "2021-12-07T21:32:39.514182Z"
    }
   },
   "outputs": [],
   "source": [
    "me_ge_ = OrderedDict{String,Vector{String}}()\n",
    "\n",
    ";"
   ]
  },
  {
   "cell_type": "code",
   "execution_count": null,
   "id": "be4f9979",
   "metadata": {
    "execution": {
     "iopub.execute_input": "2021-12-07T21:32:39.517795Z",
     "iopub.status.busy": "2021-12-07T21:32:39.516856Z",
     "iopub.status.idle": "2021-12-07T21:33:25.899791Z",
     "shell.execute_reply": "2021-12-07T21:33:25.899070Z"
    }
   },
   "outputs": [],
   "source": [
    "en = Gene.read_ensembl(; or = \"mouse\")\n",
    "\n",
    "pr_ = unique(skipmissing(en[en[!, \"Gene type\"].==\"protein_coding\", \"Gene name\"]))\n",
    "\n",
    "pr_ = sort(string.(pr_))"
   ]
  },
  {
   "cell_type": "markdown",
   "id": "20d22756",
   "metadata": {},
   "source": [
    "## Ensembl"
   ]
  },
  {
   "cell_type": "code",
   "execution_count": null,
   "id": "736fe7f5",
   "metadata": {
    "execution": {
     "iopub.execute_input": "2021-12-07T21:33:25.902700Z",
     "iopub.status.busy": "2021-12-07T21:33:25.901848Z",
     "iopub.status.idle": "2021-12-07T21:33:48.053552Z",
     "shell.execute_reply": "2021-12-07T21:33:48.052835Z"
    }
   },
   "outputs": [],
   "source": [
    "mo_hu = Gene.map_mouse()\n",
    "\n",
    "me_ge_[\"Ensembl\"] = [pr for pr in pr_ if !haskey(mo_hu, pr)]"
   ]
  },
  {
   "cell_type": "markdown",
   "id": "7629b1e5",
   "metadata": {},
   "source": [
    "## Mouse Genome Informatics"
   ]
  },
  {
   "cell_type": "code",
   "execution_count": null,
   "id": "25ab4531",
   "metadata": {
    "execution": {
     "iopub.execute_input": "2021-12-07T21:33:48.056886Z",
     "iopub.status.busy": "2021-12-07T21:33:48.055979Z",
     "iopub.status.idle": "2021-12-07T21:34:19.290708Z",
     "shell.execute_reply": "2021-12-07T21:34:19.289862Z"
    }
   },
   "outputs": [],
   "source": [
    "mg = TableAccess.read(joinpath(PAI, \"hom_mousehumansequence.rpt.txt.gz\"))\n",
    "\n",
    "se_ = mg[!, \"Common Organism Name\"] .== \"human\"\n",
    "\n",
    "mg[se_, \"Symbol\"] .= Gene.rename(string.(mg[se_, \"Symbol\"]))[1]\n",
    "\n",
    "mo_hu = Dict{String,String}()\n",
    "\n",
    "for da in groupby(mg, \"DB Class Key\")\n",
    "\n",
    "    sy_ = da[!, \"Symbol\"]\n",
    "\n",
    "    se_ = da[!, \"Common Organism Name\"] .== \"mouse, laboratory\"\n",
    "\n",
    "    for mo in sy_[se_], hu in sy_[.!se_]\n",
    "\n",
    "        mo_hu[mo] = hu\n",
    "\n",
    "    end\n",
    "\n",
    "end\n",
    "\n",
    "println(length(mo_hu))\n",
    "\n",
    "me_ge_[\"MGI\"] = [pr for pr in pr_ if !haskey(mo_hu, pr)]"
   ]
  },
  {
   "cell_type": "markdown",
   "id": "92d4271d",
   "metadata": {},
   "source": [
    "## Write"
   ]
  },
  {
   "cell_type": "code",
   "execution_count": null,
   "id": "27fce6e1",
   "metadata": {
    "execution": {
     "iopub.execute_input": "2021-12-07T21:34:19.294303Z",
     "iopub.status.busy": "2021-12-07T21:34:19.292971Z",
     "iopub.status.idle": "2021-12-07T21:34:30.563436Z",
     "shell.execute_reply": "2021-12-07T21:34:30.562719Z"
    }
   },
   "outputs": [],
   "source": [
    "write_gene_by_method(PAO, \"mouse\", me_ge_)"
   ]
  }
 ],
 "metadata": {
  "@webio": {
   "lastCommId": "19607c34c766452c960cf9699e454e0f",
   "lastKernelId": "17bfcb0f-ae1a-4c92-aebe-a98ccef60491"
  },
  "kernelspec": {
   "display_name": "Julia 1.7.0",
   "language": "julia",
   "name": "julia-1.7"
  },
  "language_info": {
   "file_extension": ".jl",
   "mimetype": "application/julia",
   "name": "julia",
   "version": "1.7.0"
  }
 },
 "nbformat": 4,
 "nbformat_minor": 5
}
