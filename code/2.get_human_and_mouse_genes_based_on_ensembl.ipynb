{
 "cells": [
  {
   "cell_type": "code",
   "execution_count": null,
   "id": "8770e81f",
   "metadata": {},
   "outputs": [],
   "source": [
    "include(\"_.jl\")"
   ]
  },
  {
   "cell_type": "code",
   "execution_count": null,
   "id": "46a95d27",
   "metadata": {},
   "outputs": [],
   "source": [
    "ip = joinpath(PAI, \"ensembl\")\n",
    "\n",
    "sp_ = [\"mouse\", \"human\"]\n",
    "\n",
    "for (le, ri) in [sp_, reverse(sp_)]\n",
    "\n",
    "    println(le)\n",
    "\n",
    "    le_ri = Dict{String,String}()\n",
    "\n",
    "    no_ = Vector{String}()\n",
    "\n",
    "    for (le, ri) in\n",
    "        eachrow(TableAccess.read(joinpath(ip, string(le, \"_to_\", ri, \".tsv.gz\"))))\n",
    "\n",
    "        if !ismissing(le)\n",
    "\n",
    "            if ismissing(ri)\n",
    "\n",
    "                push!(no_, le)\n",
    "\n",
    "            else\n",
    "\n",
    "                le_ri[le] = ri\n",
    "\n",
    "            end\n",
    "\n",
    "        end\n",
    "\n",
    "    end\n",
    "\n",
    "    println(length(le_ri))\n",
    "\n",
    "    println(length(unique(no_)))\n",
    "\n",
    "    le_ = [le for le in unique(readlines(joinpath(ip, na))[2:end]) if !haskey(le_ri, le)]\n",
    "\n",
    "    println(length(le_))\n",
    "\n",
    "    Base.write(joinpath(PAO, na), join(le_, '\n",
    "'))\n",
    "\n",
    "    println()\n",
    "\n",
    "end"
   ]
  },
  {
   "cell_type": "code",
   "execution_count": null,
   "id": "7946259b",
   "metadata": {},
   "outputs": [],
   "source": [
    "k"
   ]
  }
 ],
 "metadata": {
  "@webio": {
   "lastCommId": null,
   "lastKernelId": null
  },
  "kernelspec": {
   "display_name": "Julia 1.6.3",
   "language": "julia",
   "name": "julia-1.6"
  },
  "language_info": {
   "file_extension": ".jl",
   "mimetype": "application/julia",
   "name": "julia",
   "version": "1.6.3"
  }
 },
 "nbformat": 4,
 "nbformat_minor": 5
}
