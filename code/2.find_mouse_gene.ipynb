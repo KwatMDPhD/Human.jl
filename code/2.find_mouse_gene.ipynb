{
 "cells": [
  {
   "cell_type": "code",
   "execution_count": null,
   "id": "f468ff1c-181d-4f4f-9189-b26dbbd3faa2",
   "metadata": {
    "execution": {
     "iopub.execute_input": "2022-02-10T01:04:19.870131Z",
     "iopub.status.busy": "2022-02-10T01:04:19.483951Z",
     "iopub.status.idle": "2022-02-10T01:04:31.603508Z",
     "shell.execute_reply": "2022-02-10T01:04:31.602884Z"
    }
   },
   "outputs": [],
   "source": [
    "include(\"_.jl\")"
   ]
  },
  {
   "cell_type": "code",
   "execution_count": null,
   "id": "830455ee-2650-4fd8-bd7f-a65789db6f7c",
   "metadata": {
    "execution": {
     "iopub.execute_input": "2022-02-10T01:04:33.087655Z",
     "iopub.status.busy": "2022-02-10T01:04:31.604854Z",
     "iopub.status.idle": "2022-02-10T01:04:33.771058Z",
     "shell.execute_reply": "2022-02-10T01:04:33.770590Z"
    }
   },
   "outputs": [],
   "source": [
    "me_ge_ = OrderedDict()"
   ]
  },
  {
   "cell_type": "code",
   "execution_count": null,
   "id": "be4f9979",
   "metadata": {
    "execution": {
     "iopub.execute_input": "2022-02-10T01:04:33.772842Z",
     "iopub.status.busy": "2022-02-10T01:04:33.772353Z",
     "iopub.status.idle": "2022-02-10T01:04:55.847443Z",
     "shell.execute_reply": "2022-02-10T01:04:55.846793Z"
    }
   },
   "outputs": [],
   "source": [
    "en = OnePiece.gene.read_ensembl(or = \"mouse\")\n",
    "\n",
    "pr_ = en[!, \"Gene type\"] .== \"protein_coding\"\n",
    "\n",
    "pr_ = sort(unique(skipmissing(en[pr_, \"Gene name\"])))"
   ]
  },
  {
   "cell_type": "markdown",
   "id": "20d22756",
   "metadata": {},
   "source": [
    "## Ensembl"
   ]
  },
  {
   "cell_type": "code",
   "execution_count": null,
   "id": "736fe7f5",
   "metadata": {
    "execution": {
     "iopub.execute_input": "2022-02-10T01:04:55.849470Z",
     "iopub.status.busy": "2022-02-10T01:04:55.848950Z",
     "iopub.status.idle": "2022-02-10T01:05:09.738722Z",
     "shell.execute_reply": "2022-02-10T01:05:09.738306Z"
    }
   },
   "outputs": [],
   "source": [
    "mo_hu = OnePiece.gene.map_with_mouse()\n",
    "\n",
    "me_ge_[\"Ensembl\"] = [pr for pr in pr_ if !haskey(mo_hu, pr)]"
   ]
  },
  {
   "cell_type": "markdown",
   "id": "7629b1e5",
   "metadata": {},
   "source": [
    "## Mouse Genome Informatics"
   ]
  },
  {
   "cell_type": "code",
   "execution_count": null,
   "id": "25ab4531",
   "metadata": {
    "execution": {
     "iopub.execute_input": "2022-02-10T01:05:09.740945Z",
     "iopub.status.busy": "2022-02-10T01:05:09.740328Z",
     "iopub.status.idle": "2022-02-10T01:05:30.394295Z",
     "shell.execute_reply": "2022-02-10T01:05:30.393914Z"
    }
   },
   "outputs": [],
   "source": [
    "mg = OnePiece.table.read(joinpath(PAI, \"hom_mousehumansequence.rpt.txt.gz\"))\n",
    "\n",
    "hu_ = mg[!, \"Common Organism Name\"] .== \"human\"\n",
    "\n",
    "mg[hu_, \"Symbol\"] .= OnePiece.gene.rename(mg[hu_, \"Symbol\"])[1]\n",
    "\n",
    "mo_hu = Dict()\n",
    "\n",
    "for da in groupby(mg, \"DB Class Key\")\n",
    "\n",
    "    sy_ = da[!, \"Symbol\"]\n",
    "\n",
    "    mo_ = da[!, \"Common Organism Name\"] .== \"mouse, laboratory\"\n",
    "\n",
    "    for mo in sy_[mo_], hu in sy_[.!mo_]\n",
    "\n",
    "        mo_hu[mo] = hu\n",
    "\n",
    "    end\n",
    "\n",
    "end\n",
    "\n",
    "println(length(mo_hu))\n",
    "\n",
    "me_ge_[\"MGI\"] = [pr for pr in pr_ if !haskey(mo_hu, pr)]"
   ]
  },
  {
   "cell_type": "markdown",
   "id": "92d4271d",
   "metadata": {},
   "source": [
    "## Write"
   ]
  },
  {
   "cell_type": "code",
   "execution_count": null,
   "id": "27fce6e1",
   "metadata": {
    "execution": {
     "iopub.execute_input": "2022-02-10T01:05:30.396126Z",
     "iopub.status.busy": "2022-02-10T01:05:30.395613Z",
     "iopub.status.idle": "2022-02-10T01:05:35.474592Z",
     "shell.execute_reply": "2022-02-10T01:05:35.474148Z"
    }
   },
   "outputs": [],
   "source": [
    "write_gene_by_method(PAO, \"mouse\", me_ge_)"
   ]
  }
 ],
 "metadata": {
  "@webio": {
   "lastCommId": null,
   "lastKernelId": null
  },
  "kernelspec": {
   "display_name": "Julia 1.7.2",
   "language": "julia",
   "name": "julia-1.7"
  },
  "language_info": {
   "file_extension": ".jl",
   "mimetype": "application/julia",
   "name": "julia",
   "version": "1.7.2"
  }
 },
 "nbformat": 4,
 "nbformat_minor": 5
}
